{
 "cells": [
  {
   "cell_type": "code",
   "execution_count": 1,
   "metadata": {},
   "outputs": [],
   "source": [
    "import numpy as np\n",
    "import pandas as pd\n",
    "import os"
   ]
  },
  {
   "cell_type": "code",
   "execution_count": 2,
   "metadata": {},
   "outputs": [],
   "source": [
    "from sklearn.naive_bayes import GaussianNB, ComplementNB, CategoricalNB\n",
    "from sklearn.svm import SVC\n",
    "from sklearn.ensemble import RandomForestClassifier\n",
    "from sklearn.model_selection import train_test_split # for train-test split \n",
    "from sklearn.preprocessing import StandardScaler # for feature scaling\n",
    "from sklearn.model_selection import GridSearchCV # for fine-tuning\n",
    "from sklearn.metrics import classification_report, confusion_matrix, plot_roc_curve # for evaluation\n",
    "from sklearn.pipeline import make_pipeline # for prediction"
   ]
  },
  {
   "cell_type": "code",
   "execution_count": 3,
   "metadata": {},
   "outputs": [],
   "source": [
    "# for Generator\n",
    "from scipy import stats # for sampling\n",
    "from fitter import Fitter # for fitting the best distribution\n",
    "import copy # for copying nested dictionaries"
   ]
  },
  {
   "cell_type": "code",
   "execution_count": 4,
   "metadata": {},
   "outputs": [],
   "source": [
    "import matplotlib.pyplot as plt  # for visualization \n",
    "import seaborn as sns  # for coloring \n",
    "\n",
    "# set style of graphs\n",
    "plt.style.use('seaborn')\n",
    "from pylab import rcParams\n",
    "plt.rcParams['figure.dpi'] = 80"
   ]
  },
  {
   "cell_type": "code",
   "execution_count": 5,
   "metadata": {},
   "outputs": [],
   "source": [
    "train_data = pd.read_csv('../dataset/train_data.csv')"
   ]
  },
  {
   "cell_type": "code",
   "execution_count": 6,
   "metadata": {},
   "outputs": [
    {
     "data": {
      "text/plain": [
       "['GAME_DATE_EST',\n",
       " 'GAME_ID',\n",
       " 'GAME_STATUS_TEXT',\n",
       " 'HOME_TEAM_ID',\n",
       " 'VISITOR_TEAM_ID',\n",
       " 'SEASON',\n",
       " 'TEAM_ID_home',\n",
       " 'PTS_home',\n",
       " 'FG_PCT_home',\n",
       " 'FT_PCT_home',\n",
       " 'FG3_PCT_home',\n",
       " 'AST_home',\n",
       " 'REB_home',\n",
       " 'TEAM_ID_away',\n",
       " 'PTS_away',\n",
       " 'FG_PCT_away',\n",
       " 'FT_PCT_away',\n",
       " 'FG3_PCT_away',\n",
       " 'AST_away',\n",
       " 'REB_away',\n",
       " 'HOME_TEAM_WINS']"
      ]
     },
     "execution_count": 6,
     "metadata": {},
     "output_type": "execute_result"
    }
   ],
   "source": [
    "feature_list = list(train_data.columns)\n",
    "feature_list"
   ]
  },
  {
   "cell_type": "code",
   "execution_count": 7,
   "metadata": {},
   "outputs": [
    {
     "data": {
      "text/html": [
       "<div>\n",
       "<style scoped>\n",
       "    .dataframe tbody tr th:only-of-type {\n",
       "        vertical-align: middle;\n",
       "    }\n",
       "\n",
       "    .dataframe tbody tr th {\n",
       "        vertical-align: top;\n",
       "    }\n",
       "\n",
       "    .dataframe thead th {\n",
       "        text-align: right;\n",
       "    }\n",
       "</style>\n",
       "<table border=\"1\" class=\"dataframe\">\n",
       "  <thead>\n",
       "    <tr style=\"text-align: right;\">\n",
       "      <th></th>\n",
       "      <th>FG_PCT_home</th>\n",
       "      <th>FT_PCT_home</th>\n",
       "      <th>FG3_PCT_home</th>\n",
       "      <th>AST_home</th>\n",
       "      <th>REB_home</th>\n",
       "      <th>FG_PCT_away</th>\n",
       "      <th>FT_PCT_away</th>\n",
       "      <th>FG3_PCT_away</th>\n",
       "      <th>AST_away</th>\n",
       "      <th>REB_away</th>\n",
       "    </tr>\n",
       "  </thead>\n",
       "  <tbody>\n",
       "    <tr>\n",
       "      <th>0</th>\n",
       "      <td>0.409</td>\n",
       "      <td>0.929</td>\n",
       "      <td>0.308</td>\n",
       "      <td>32.0</td>\n",
       "      <td>56.0</td>\n",
       "      <td>0.372</td>\n",
       "      <td>0.737</td>\n",
       "      <td>0.375</td>\n",
       "      <td>22.0</td>\n",
       "      <td>31.0</td>\n",
       "    </tr>\n",
       "    <tr>\n",
       "      <th>1</th>\n",
       "      <td>0.446</td>\n",
       "      <td>0.611</td>\n",
       "      <td>0.400</td>\n",
       "      <td>30.0</td>\n",
       "      <td>58.0</td>\n",
       "      <td>0.403</td>\n",
       "      <td>0.818</td>\n",
       "      <td>0.381</td>\n",
       "      <td>20.0</td>\n",
       "      <td>36.0</td>\n",
       "    </tr>\n",
       "    <tr>\n",
       "      <th>2</th>\n",
       "      <td>0.470</td>\n",
       "      <td>0.800</td>\n",
       "      <td>0.333</td>\n",
       "      <td>25.0</td>\n",
       "      <td>38.0</td>\n",
       "      <td>0.488</td>\n",
       "      <td>0.724</td>\n",
       "      <td>0.385</td>\n",
       "      <td>20.0</td>\n",
       "      <td>44.0</td>\n",
       "    </tr>\n",
       "    <tr>\n",
       "      <th>3</th>\n",
       "      <td>0.389</td>\n",
       "      <td>0.947</td>\n",
       "      <td>0.238</td>\n",
       "      <td>26.0</td>\n",
       "      <td>54.0</td>\n",
       "      <td>0.395</td>\n",
       "      <td>0.895</td>\n",
       "      <td>0.364</td>\n",
       "      <td>20.0</td>\n",
       "      <td>34.0</td>\n",
       "    </tr>\n",
       "    <tr>\n",
       "      <th>4</th>\n",
       "      <td>0.466</td>\n",
       "      <td>0.792</td>\n",
       "      <td>0.500</td>\n",
       "      <td>29.0</td>\n",
       "      <td>42.0</td>\n",
       "      <td>0.430</td>\n",
       "      <td>0.750</td>\n",
       "      <td>0.450</td>\n",
       "      <td>15.0</td>\n",
       "      <td>37.0</td>\n",
       "    </tr>\n",
       "  </tbody>\n",
       "</table>\n",
       "</div>"
      ],
      "text/plain": [
       "   FG_PCT_home  FT_PCT_home  FG3_PCT_home  AST_home  REB_home  FG_PCT_away  \\\n",
       "0        0.409        0.929         0.308      32.0      56.0        0.372   \n",
       "1        0.446        0.611         0.400      30.0      58.0        0.403   \n",
       "2        0.470        0.800         0.333      25.0      38.0        0.488   \n",
       "3        0.389        0.947         0.238      26.0      54.0        0.395   \n",
       "4        0.466        0.792         0.500      29.0      42.0        0.430   \n",
       "\n",
       "   FT_PCT_away  FG3_PCT_away  AST_away  REB_away  \n",
       "0        0.737         0.375      22.0      31.0  \n",
       "1        0.818         0.381      20.0      36.0  \n",
       "2        0.724         0.385      20.0      44.0  \n",
       "3        0.895         0.364      20.0      34.0  \n",
       "4        0.750         0.450      15.0      37.0  "
      ]
     },
     "execution_count": 7,
     "metadata": {},
     "output_type": "execute_result"
    }
   ],
   "source": [
    "#✍To predict win/loss of a game, we can use one of the two ways:\n",
    "\n",
    "#1. Select only one feature (points), the win/loss prediction is just based on which team has the higher point.\n",
    "#2. Select features other than points, the win/loss is then based on the prediction of a classifier which takes those features as inputs.\n",
    "\n",
    "# In this notebook, we will use option (2) as it offers better range of uncertainty for simulation.\n",
    "\n",
    "selected_features = [\n",
    "    'FG_PCT_home', 'FT_PCT_home', 'FG3_PCT_home', 'AST_home', 'REB_home',\n",
    "    'FG_PCT_away', 'FT_PCT_away', 'FG3_PCT_away', 'AST_away', 'REB_away',\n",
    "    ]\n",
    "\n",
    "# check the features we selected\n",
    "X = train_data[selected_features]\n",
    "X.head()"
   ]
  },
  {
   "cell_type": "code",
   "execution_count": 8,
   "metadata": {},
   "outputs": [
    {
     "data": {
      "text/plain": [
       "0    1\n",
       "1    1\n",
       "2    0\n",
       "3    1\n",
       "4    1\n",
       "Name: HOME_TEAM_WINS, dtype: int64"
      ]
     },
     "execution_count": 8,
     "metadata": {},
     "output_type": "execute_result"
    }
   ],
   "source": [
    "y = train_data['HOME_TEAM_WINS']\n",
    "y.head()"
   ]
  },
  {
   "cell_type": "code",
   "execution_count": 9,
   "metadata": {},
   "outputs": [],
   "source": [
    "X = X.to_numpy()\n",
    "y = y.to_numpy()"
   ]
  },
  {
   "cell_type": "code",
   "execution_count": 10,
   "metadata": {},
   "outputs": [
    {
     "name": "stdout",
     "output_type": "stream",
     "text": [
      "X shape (19256, 10) y shape (19256,)\n"
     ]
    }
   ],
   "source": [
    "X_train, X_test, y_train, y_test = train_test_split(X, y, test_size=0.3, random_state=42)\n",
    "\n",
    "print(\"X shape\", X_train.shape, \"y shape\", y_train.shape)"
   ]
  },
  {
   "cell_type": "markdown",
   "metadata": {},
   "source": [
    "##### Utility function"
   ]
  },
  {
   "cell_type": "code",
   "execution_count": 11,
   "metadata": {},
   "outputs": [],
   "source": [
    "def evaluate(y_test, y_pred):\n",
    "    print(confusion_matrix(y_test, y_pred))\n",
    "    print(classification_report(y_test, y_pred))\n",
    "    # print(f\"accuracy: {accuracy_score(y_test, y_pred)}\")\n",
    "    # print(f\"AUC: {roc_auc_score(y_test, y_pred)}\")\n",
    "    # print(f\"log_loss: {log_loss(y_test, y_pred)}\")"
   ]
  },
  {
   "cell_type": "markdown",
   "metadata": {},
   "source": [
    "## 1. SVM"
   ]
  },
  {
   "cell_type": "code",
   "execution_count": 12,
   "metadata": {},
   "outputs": [],
   "source": [
    "# for SVM a scaler it can improve accuracy of the model\n",
    "\n",
    "# scaler = StandardScaler() # initialize an instance \n",
    "# X_train_svm = scaler.fit_transform(X_train)"
   ]
  },
  {
   "cell_type": "code",
   "execution_count": 13,
   "metadata": {},
   "outputs": [
    {
     "name": "stdout",
     "output_type": "stream",
     "text": [
      "CPU times: user 9.72 s, sys: 23.2 ms, total: 9.74 s\n",
      "Wall time: 9.74 s\n"
     ]
    }
   ],
   "source": [
    "%%time \n",
    "\n",
    "# train SVM\n",
    "\n",
    "support_vector_default = SVC() # initialize a model\n",
    "support_vector_default.fit(X_train, y_train) # fit(train) it with the training data and targets\n",
    "\n",
    "# check test score \n",
    "y_pred_svm_default = support_vector_default.predict(X_test) "
   ]
  },
  {
   "cell_type": "markdown",
   "metadata": {},
   "source": [
    "#### Grid search SVM"
   ]
  },
  {
   "cell_type": "code",
   "execution_count": 14,
   "metadata": {},
   "outputs": [
    {
     "name": "stdout",
     "output_type": "stream",
     "text": [
      "CPU times: user 27 µs, sys: 0 ns, total: 27 µs\n",
      "Wall time: 29.6 µs\n"
     ]
    }
   ],
   "source": [
    "%%time \n",
    "\n",
    "# fine-tuning hyperparameters\n",
    "#param_grid_svm = {'C': [0.1, 1, 10],\n",
    "#              'gamma': [1, 0.5, 0.1, 0.01, 0.001, 0.0001],\n",
    "#              'kernel': ['linear', 'poly', 'sigmoid', 'rbf']\n",
    "#            }\n",
    "param_grid_svm = {'C': [0.1],\n",
    "              'gamma': [0.1],\n",
    "              'kernel': ['linear', 'poly', 'rbf']\n",
    "            }\n",
    "\n",
    "grid_search_svm = GridSearchCV(estimator=support_vector_default, param_grid=param_grid_svm, cv=10, verbose=2, scoring='accuracy', \n",
    "                            n_jobs = -1, return_train_score=True)"
   ]
  },
  {
   "cell_type": "code",
   "execution_count": 15,
   "metadata": {},
   "outputs": [],
   "source": [
    "# grid_search_svm.fit(X_train, y_train)"
   ]
  },
  {
   "cell_type": "code",
   "execution_count": 16,
   "metadata": {},
   "outputs": [],
   "source": [
    "# grid_search_svm.best_params_\n",
    "\n",
    "# {'C': 0.1, 'gamma': 1, 'kernel': 'linear'}"
   ]
  },
  {
   "cell_type": "code",
   "execution_count": 17,
   "metadata": {},
   "outputs": [
    {
     "name": "stdout",
     "output_type": "stream",
     "text": [
      "CPU times: user 8.3 s, sys: 74.2 ms, total: 8.38 s\n",
      "Wall time: 8.37 s\n"
     ]
    }
   ],
   "source": [
    "%%time \n",
    "\n",
    "# train SVM\n",
    "\n",
    "support_vector = SVC(C=0.1, gamma=0.1, kernel='linear') # initialize a model\n",
    "support_vector.fit(X_train, y_train) # fit(train) it with the training data and targets\n",
    "\n",
    "# check test score \n",
    "y_pred_svm = support_vector.predict(X_test) "
   ]
  },
  {
   "cell_type": "markdown",
   "metadata": {},
   "source": [
    "## 2. Random Forest"
   ]
  },
  {
   "cell_type": "code",
   "execution_count": 18,
   "metadata": {},
   "outputs": [],
   "source": [
    "#Create a Gaussian Classifier\n",
    "random_forest_default = RandomForestClassifier()\n",
    "\n",
    "# clf = RandomForestClassifier(n_estimators=20, random_state=0)\n",
    "\n",
    "#Train the model using the training sets y_pred=clf.predict(X_test)\n",
    "random_forest_default.fit(X_train,y_train)\n",
    "\n",
    "y_pred_rf_default = random_forest_default.predict(X_test)"
   ]
  },
  {
   "cell_type": "markdown",
   "metadata": {},
   "source": [
    "#### Grid Search Random Forest"
   ]
  },
  {
   "cell_type": "code",
   "execution_count": 19,
   "metadata": {},
   "outputs": [],
   "source": [
    "# another round\n",
    "\n",
    "param_grid_rf = {\n",
    "    'n_estimators': [100, 200, 300, 400, 500],\n",
    "    'max_features': ['auto', 'sqrt'],\n",
    "    'max_depth': [10, 20, 30, 40, 50],\n",
    "    'bootstrap': [True, False]\n",
    "    }\n",
    "\n",
    "# Create a base model\n",
    "grid_search_rf = GridSearchCV(estimator=random_forest_default, param_grid=param_grid_rf, cv=10, verbose=2, scoring='accuracy', \n",
    "                            n_jobs = -1, return_train_score=True)"
   ]
  },
  {
   "cell_type": "code",
   "execution_count": 20,
   "metadata": {},
   "outputs": [],
   "source": [
    "# grid_search_rf.fit(X_train, y_train)"
   ]
  },
  {
   "cell_type": "code",
   "execution_count": 21,
   "metadata": {},
   "outputs": [],
   "source": [
    "# grid_search_rf.best_params_\n",
    "\n",
    "# {'bootstrap = True', max_depth = 30, max_features = 'auto', min_samples_leaf = 2, min_samples_split = 2, n_estimators = 400}"
   ]
  },
  {
   "cell_type": "code",
   "execution_count": 22,
   "metadata": {},
   "outputs": [],
   "source": [
    "#Create a Gaussian Classifier\n",
    "# random_forest = RandomForestClassifier(n_estimators=400, min_samples_split=2, min_samples_leaf=2, max_features='auto', max_depth=30, bootstrap='True')\n",
    "random_forest = RandomForestClassifier(n_estimators=500, max_features='sqrt', max_depth=50, bootstrap='True')\n",
    "# clf = RandomForestClassifier(n_estimators=20, random_state=0)\n",
    "\n",
    "#Train the model using the training sets y_pred=clf.predict(X_test)\n",
    "random_forest.fit(X_train,y_train)\n",
    "\n",
    "y_pred_rf = random_forest.predict(X_test)"
   ]
  },
  {
   "cell_type": "markdown",
   "metadata": {},
   "source": [
    "## 3. Naive Bayes"
   ]
  },
  {
   "cell_type": "code",
   "execution_count": 23,
   "metadata": {},
   "outputs": [],
   "source": [
    "gauss_nb_default = GaussianNB()\n",
    "gauss_nb_default.fit(X_train, y_train)\n",
    "y_pred_gauss_nb_default = gauss_nb_default.predict(X_test)"
   ]
  },
  {
   "cell_type": "markdown",
   "metadata": {},
   "source": [
    "#### Grid search Naive Bayes"
   ]
  },
  {
   "cell_type": "code",
   "execution_count": 24,
   "metadata": {},
   "outputs": [],
   "source": [
    "param_grid_nb = {\n",
    "    'var_smoothing': np.logspace(0,-9, num=100)\n",
    "    }"
   ]
  },
  {
   "cell_type": "code",
   "execution_count": 25,
   "metadata": {},
   "outputs": [],
   "source": [
    "grid_search_nb = GridSearchCV(estimator=gauss_nb_default, param_grid=param_grid_nb, cv=10, verbose=2, scoring='accuracy', \n",
    "                            n_jobs = -1, return_train_score=True)"
   ]
  },
  {
   "cell_type": "code",
   "execution_count": 26,
   "metadata": {},
   "outputs": [],
   "source": [
    "# grid_search_nb.fit(X_train, y_train)"
   ]
  },
  {
   "cell_type": "code",
   "execution_count": 27,
   "metadata": {},
   "outputs": [],
   "source": [
    "# grid_search_nb.best_params_"
   ]
  },
  {
   "cell_type": "code",
   "execution_count": 28,
   "metadata": {},
   "outputs": [],
   "source": [
    "gauss_nb = GaussianNB(var_smoothing=1.873817422860383e-07)\n",
    "gauss_nb.fit(X_train, y_train)\n",
    "y_pred_gauss_nb = gauss_nb.predict(X_test)"
   ]
  },
  {
   "cell_type": "markdown",
   "metadata": {},
   "source": [
    "### Metrics"
   ]
  },
  {
   "cell_type": "code",
   "execution_count": 29,
   "metadata": {},
   "outputs": [
    {
     "name": "stderr",
     "output_type": "stream",
     "text": [
      "/home/silviobaratto/anaconda3/lib/python3.8/site-packages/sklearn/utils/deprecation.py:87: FutureWarning: Function plot_roc_curve is deprecated; Function :func:`plot_roc_curve` is deprecated in 1.0 and will be removed in 1.2. Use one of the class methods: :meth:`sklearn.metric.RocCurveDisplay.from_predictions` or :meth:`sklearn.metric.RocCurveDisplay.from_estimator`.\n",
      "  warnings.warn(msg, category=FutureWarning)\n",
      "/home/silviobaratto/anaconda3/lib/python3.8/site-packages/sklearn/utils/deprecation.py:87: FutureWarning: Function plot_roc_curve is deprecated; Function :func:`plot_roc_curve` is deprecated in 1.0 and will be removed in 1.2. Use one of the class methods: :meth:`sklearn.metric.RocCurveDisplay.from_predictions` or :meth:`sklearn.metric.RocCurveDisplay.from_estimator`.\n",
      "  warnings.warn(msg, category=FutureWarning)\n",
      "/home/silviobaratto/anaconda3/lib/python3.8/site-packages/sklearn/utils/deprecation.py:87: FutureWarning: Function plot_roc_curve is deprecated; Function :func:`plot_roc_curve` is deprecated in 1.0 and will be removed in 1.2. Use one of the class methods: :meth:`sklearn.metric.RocCurveDisplay.from_predictions` or :meth:`sklearn.metric.RocCurveDisplay.from_estimator`.\n",
      "  warnings.warn(msg, category=FutureWarning)\n"
     ]
    },
    {
     "data": {
      "image/png": "[encoded data removed]",
      "text/plain": [
       "<Figure size 640x440 with 1 Axes>"
      ]
     },
     "metadata": {},
     "output_type": "display_data"
    }
   ],
   "source": [
    "fig = plot_roc_curve(support_vector, X_test, y_test, linewidth=5, linestyle = '-')\n",
    "fig = plot_roc_curve(gauss_nb, X_test, y_test, ax = fig.ax_, linewidth=5, linestyle = ':')\n",
    "fig = plot_roc_curve(random_forest, X_test, y_test, ax = fig.ax_, linewidth=5, linestyle = '--')\n",
    "\n",
    "plt.tick_params(axis='x', labelsize=24)\n",
    "plt.tick_params(axis='y', labelsize=24)\n",
    "plt.xlabel('False Positive Rate', fontsize=24)\n",
    "plt.ylabel('True Positive Rate', fontsize=24)\n",
    "\n",
    "plt.legend(fontsize=24) # using a size in points\n",
    "plt.legend(fontsize=\"xx-large\") # using a named size\n",
    "\n",
    "plt.savefig('../report/plots/auc_optimize.png')"
   ]
  },
  {
   "cell_type": "code",
   "execution_count": 30,
   "metadata": {},
   "outputs": [
    {
     "name": "stderr",
     "output_type": "stream",
     "text": [
      "/home/silviobaratto/anaconda3/lib/python3.8/site-packages/sklearn/utils/deprecation.py:87: FutureWarning: Function plot_roc_curve is deprecated; Function :func:`plot_roc_curve` is deprecated in 1.0 and will be removed in 1.2. Use one of the class methods: :meth:`sklearn.metric.RocCurveDisplay.from_predictions` or :meth:`sklearn.metric.RocCurveDisplay.from_estimator`.\n",
      "  warnings.warn(msg, category=FutureWarning)\n",
      "/home/silviobaratto/anaconda3/lib/python3.8/site-packages/sklearn/utils/deprecation.py:87: FutureWarning: Function plot_roc_curve is deprecated; Function :func:`plot_roc_curve` is deprecated in 1.0 and will be removed in 1.2. Use one of the class methods: :meth:`sklearn.metric.RocCurveDisplay.from_predictions` or :meth:`sklearn.metric.RocCurveDisplay.from_estimator`.\n",
      "  warnings.warn(msg, category=FutureWarning)\n",
      "/home/silviobaratto/anaconda3/lib/python3.8/site-packages/sklearn/utils/deprecation.py:87: FutureWarning: Function plot_roc_curve is deprecated; Function :func:`plot_roc_curve` is deprecated in 1.0 and will be removed in 1.2. Use one of the class methods: :meth:`sklearn.metric.RocCurveDisplay.from_predictions` or :meth:`sklearn.metric.RocCurveDisplay.from_estimator`.\n",
      "  warnings.warn(msg, category=FutureWarning)\n"
     ]
    },
    {
     "data": {
      "image/png": "[encoded data removed]",
      "text/plain": [
       "<Figure size 640x440 with 1 Axes>"
      ]
     },
     "metadata": {},
     "output_type": "display_data"
    }
   ],
   "source": [
    "fig = plot_roc_curve(support_vector_default, X_test, y_test, linewidth=3.5, linestyle = '-')\n",
    "fig = plot_roc_curve(gauss_nb_default, X_test, y_test, ax = fig.ax_, linewidth=3.5, linestyle = ':')\n",
    "fig = plot_roc_curve(random_forest_default, X_test, y_test, ax = fig.ax_, linewidth=3.5, linestyle = '--')\n",
    "\n",
    "plt.tick_params(axis='x', labelsize=24)\n",
    "plt.tick_params(axis='y', labelsize=24)\n",
    "plt.xlabel('False Positive Rate', fontsize=24)\n",
    "plt.ylabel('True Positive Rate', fontsize=24)\n",
    "\n",
    "plt.legend(fontsize=24) # using a size in points\n",
    "plt.legend(fontsize=\"xx-large\") # using a named size\n",
    "\n",
    "plt.savefig('../report/plots/auc_default.png')"
   ]
  },
  {
   "cell_type": "code",
   "execution_count": 31,
   "metadata": {},
   "outputs": [
    {
     "name": "stdout",
     "output_type": "stream",
     "text": [
      "[[1544  411]\n",
      " [ 409 2451]]\n",
      "              precision    recall  f1-score   support\n",
      "\n",
      "           0       0.79      0.79      0.79      1955\n",
      "           1       0.86      0.86      0.86      2860\n",
      "\n",
      "    accuracy                           0.83      4815\n",
      "   macro avg       0.82      0.82      0.82      4815\n",
      "weighted avg       0.83      0.83      0.83      4815\n",
      "\n",
      "[[1215  740]\n",
      " [ 479 2381]]\n",
      "              precision    recall  f1-score   support\n",
      "\n",
      "           0       0.72      0.62      0.67      1955\n",
      "           1       0.76      0.83      0.80      2860\n",
      "\n",
      "    accuracy                           0.75      4815\n",
      "   macro avg       0.74      0.73      0.73      4815\n",
      "weighted avg       0.74      0.75      0.74      4815\n",
      "\n",
      "[[1562  393]\n",
      " [ 426 2434]]\n",
      "              precision    recall  f1-score   support\n",
      "\n",
      "           0       0.79      0.80      0.79      1955\n",
      "           1       0.86      0.85      0.86      2860\n",
      "\n",
      "    accuracy                           0.83      4815\n",
      "   macro avg       0.82      0.83      0.82      4815\n",
      "weighted avg       0.83      0.83      0.83      4815\n",
      "\n"
     ]
    }
   ],
   "source": [
    "evaluate(y_test, y_pred_rf_default)\n",
    "evaluate(y_test, y_pred_svm_default)\n",
    "evaluate(y_test, y_pred_gauss_nb_default)"
   ]
  },
  {
   "cell_type": "code",
   "execution_count": 32,
   "metadata": {},
   "outputs": [
    {
     "name": "stdout",
     "output_type": "stream",
     "text": [
      "[[1538  417]\n",
      " [ 391 2469]]\n",
      "              precision    recall  f1-score   support\n",
      "\n",
      "           0       0.80      0.79      0.79      1955\n",
      "           1       0.86      0.86      0.86      2860\n",
      "\n",
      "    accuracy                           0.83      4815\n",
      "   macro avg       0.83      0.82      0.83      4815\n",
      "weighted avg       0.83      0.83      0.83      4815\n",
      "\n",
      "[[1496  459]\n",
      " [ 371 2489]]\n",
      "              precision    recall  f1-score   support\n",
      "\n",
      "           0       0.80      0.77      0.78      1955\n",
      "           1       0.84      0.87      0.86      2860\n",
      "\n",
      "    accuracy                           0.83      4815\n",
      "   macro avg       0.82      0.82      0.82      4815\n",
      "weighted avg       0.83      0.83      0.83      4815\n",
      "\n",
      "[[1562  393]\n",
      " [ 425 2435]]\n",
      "              precision    recall  f1-score   support\n",
      "\n",
      "           0       0.79      0.80      0.79      1955\n",
      "           1       0.86      0.85      0.86      2860\n",
      "\n",
      "    accuracy                           0.83      4815\n",
      "   macro avg       0.82      0.83      0.82      4815\n",
      "weighted avg       0.83      0.83      0.83      4815\n",
      "\n"
     ]
    }
   ],
   "source": [
    "evaluate(y_test, y_pred_rf)\n",
    "evaluate(y_test, y_pred_svm)\n",
    "evaluate(y_test, y_pred_gauss_nb)"
   ]
  },
  {
   "cell_type": "markdown",
   "metadata": {},
   "source": [
    "### 3. Fitting a Generator"
   ]
  },
  {
   "cell_type": "code",
   "execution_count": 33,
   "metadata": {},
   "outputs": [],
   "source": [
    "# Like before, we had held out data from 2019-2020 playoff for real testing\n",
    "# Though large data is essential for fitting, for time-series problems, we give priority to the recent data most reflective of team's recent ability.\n",
    "# Since we aim to predict 2019-2020 playoff, here we will just fit the data from that regular session which starts in Oct, 2019.\n",
    "\n",
    "df_ = train_data.loc[train_data['SEASON'] > 2019].reset_index(drop=True)"
   ]
  },
  {
   "cell_type": "code",
   "execution_count": 34,
   "metadata": {},
   "outputs": [],
   "source": [
    "selected_distributions = [\n",
    "    'norm','t', 'f', 'chi', 'cosine', 'alpha', \n",
    "    'beta', 'gamma', 'dgamma', 'dweibull',\n",
    "    'maxwell', 'pareto', 'fisk'\n",
    "    ]"
   ]
  },
  {
   "cell_type": "code",
   "execution_count": 35,
   "metadata": {},
   "outputs": [],
   "source": [
    "unique_teams = train_data['HOME_TEAM_ID'].unique() # extract all the unique teams\n",
    "\n",
    "# Since we don't care about whether the team was a host or visitor in each game, \n",
    "# we can just combine the features for all games.\n",
    "\n",
    "# Get all the data for teams\n",
    "all_team_sim_data = {}\n",
    "\n",
    "for team_name in unique_teams:\n",
    "    \n",
    "    # find games where the team is either the host or guest\n",
    "    df_team = df_.loc[(df_['HOME_TEAM_ID'] == team_name) | (df_['VISITOR_TEAM_ID'] == team_name)]\n",
    "    # it is home team, select the first 5 features\n",
    "    df_1 = df_team.loc[df_team['HOME_TEAM_ID'] == team_name][selected_features[:5]]\n",
    "    # it is guest team, select the first 5 features\n",
    "    df_0 = df_team.loc[df_team['VISITOR_TEAM_ID'] == team_name][selected_features[5:]]\n",
    "\n",
    "    # combine them\n",
    "    df_0.columns = df_1.columns # before concating, match the column names\n",
    "    df_s = pd.concat([df_1, df_0], axis = 0)\n",
    "    \n",
    "    # convert the pandas.DataFrame to numpy array\n",
    "    all_team_sim_data[team_name] = df_s.to_numpy()\n"
   ]
  },
  {
   "cell_type": "code",
   "execution_count": 36,
   "metadata": {},
   "outputs": [
    {
     "data": {
      "text/plain": [
       "{'Timberwolves': array([[ 0.395,  0.75 ,  0.371, 17.   , 51.   ],\n",
       "        [ 0.402,  0.719,  0.275, 20.   , 47.   ],\n",
       "        [ 0.432,  0.857,  0.268, 25.   , 48.   ],\n",
       "        [ 0.432,  0.857,  0.268, 25.   , 48.   ],\n",
       "        [ 0.477,  0.571,  0.361, 17.   , 43.   ],\n",
       "        [ 0.518,  0.688,  0.323, 30.   , 36.   ],\n",
       "        [ 0.5  ,  0.647,  0.5  , 29.   , 53.   ],\n",
       "        [ 0.42 ,  0.826,  0.346, 19.   , 52.   ],\n",
       "        [ 0.433,  0.833,  0.243, 27.   , 48.   ],\n",
       "        [ 0.424,  0.643,  0.429, 25.   , 43.   ],\n",
       "        [ 0.43 ,  0.833,  0.25 , 30.   , 40.   ],\n",
       "        [ 0.429,  0.811,  0.353, 23.   , 50.   ],\n",
       "        [ 0.427,  0.778,  0.303, 20.   , 38.   ],\n",
       "        [ 0.451,  0.733,  0.4  , 24.   , 34.   ],\n",
       "        [ 0.432,  0.789,  0.366, 29.   , 43.   ],\n",
       "        [ 0.419,  0.769,  0.471, 26.   , 38.   ],\n",
       "        [ 0.421,  0.92 ,  0.375, 37.   , 44.   ],\n",
       "        [ 0.386,  0.727,  0.237, 24.   , 43.   ],\n",
       "        [ 0.376,  0.875,  0.229, 21.   , 44.   ],\n",
       "        [ 0.406,  0.833,  0.225, 25.   , 45.   ],\n",
       "        [ 0.512,  0.742,  0.385, 23.   , 56.   ],\n",
       "        [ 0.493,  0.744,  0.342, 24.   , 45.   ],\n",
       "        [ 0.413,  0.722,  0.359, 24.   , 42.   ],\n",
       "        [ 0.442,  0.769,  0.316, 24.   , 37.   ],\n",
       "        [ 0.379,  0.792,  0.263, 30.   , 50.   ],\n",
       "        [ 0.424,  0.786,  0.325, 26.   , 40.   ],\n",
       "        [ 0.414,  0.842,  0.35 , 25.   , 40.   ],\n",
       "        [ 0.418,  0.848,  0.375, 22.   , 51.   ],\n",
       "        [ 0.494,  1.   ,  0.444, 27.   , 36.   ],\n",
       "        [ 0.345,  0.727,  0.265, 16.   , 44.   ],\n",
       "        [ 0.37 ,  0.71 ,  0.366, 22.   , 47.   ],\n",
       "        [ 0.519,  0.69 ,  0.417, 30.   , 45.   ],\n",
       "        [ 0.446,  0.714,  0.364, 29.   , 48.   ],\n",
       "        [ 0.457,  0.69 ,  0.488, 31.   , 57.   ],\n",
       "        [ 0.453,  0.781,  0.313, 35.   , 51.   ],\n",
       "        [ 0.521,  0.818,  0.487, 32.   , 41.   ],\n",
       "        [ 0.425,  0.594,  0.39 , 20.   , 43.   ],\n",
       "        [ 0.411,  0.735,  0.135, 22.   , 51.   ],\n",
       "        [ 0.544,  0.84 ,  0.425, 35.   , 38.   ],\n",
       "        [ 0.469,  0.793,  0.389, 27.   , 55.   ],\n",
       "        [ 0.446,  0.722,  0.448, 21.   , 40.   ],\n",
       "        [ 0.446,  0.722,  0.448, 21.   , 40.   ],\n",
       "        [ 0.369,  0.643,  0.171, 24.   , 48.   ],\n",
       "        [ 0.416,  0.824,  0.342, 22.   , 39.   ],\n",
       "        [ 0.462,  0.778,  0.324, 24.   , 42.   ],\n",
       "        [ 0.419,  0.758,  0.341, 24.   , 48.   ],\n",
       "        [ 0.396,  0.688,  0.378, 22.   , 39.   ],\n",
       "        [ 0.415,  0.88 ,  0.333, 26.   , 47.   ],\n",
       "        [ 0.425,  0.697,  0.389, 23.   , 39.   ],\n",
       "        [ 0.392,  0.636,  0.289, 20.   , 45.   ],\n",
       "        [ 0.457,  0.818,  0.394, 22.   , 49.   ],\n",
       "        [ 0.436,  0.889,  0.4  , 27.   , 43.   ],\n",
       "        [ 0.505,  0.545,  0.333, 27.   , 40.   ],\n",
       "        [ 0.462,  0.714,  0.429, 27.   , 41.   ],\n",
       "        [ 0.455,  0.571,  0.39 , 28.   , 40.   ],\n",
       "        [ 0.524,  0.737,  0.41 , 28.   , 40.   ],\n",
       "        [ 0.402,  0.81 ,  0.457, 24.   , 43.   ],\n",
       "        [ 0.429,  1.   ,  0.352, 35.   , 43.   ],\n",
       "        [ 0.452,  0.952,  0.316, 28.   , 41.   ],\n",
       "        [ 0.432,  0.655,  0.314, 23.   , 50.   ],\n",
       "        [ 0.537,  0.875,  0.475, 28.   , 38.   ],\n",
       "        [ 0.522,  0.727,  0.314, 28.   , 34.   ],\n",
       "        [ 0.473,  0.686,  0.324, 22.   , 38.   ],\n",
       "        [ 0.468,  0.778,  0.371, 22.   , 39.   ],\n",
       "        [ 0.388,  0.765,  0.318, 23.   , 51.   ],\n",
       "        [ 0.447,  0.87 ,  0.364, 21.   , 39.   ],\n",
       "        [ 0.449,  0.861,  0.333, 17.   , 36.   ],\n",
       "        [ 0.527,  0.775,  0.357, 30.   , 42.   ],\n",
       "        [ 0.49 ,  0.9  ,  0.357, 30.   , 37.   ],\n",
       "        [ 0.409,  0.762,  0.378, 27.   , 37.   ],\n",
       "        [ 0.567,  0.737,  0.419, 34.   , 50.   ],\n",
       "        [ 0.529,  0.818,  0.441, 30.   , 34.   ],\n",
       "        [ 0.435,  0.6  ,  0.237, 15.   , 47.   ],\n",
       "        [ 0.484,  0.56 ,  0.263, 29.   , 48.   ],\n",
       "        [ 0.482,  0.667,  0.27 , 27.   , 41.   ],\n",
       "        [ 0.485,  0.75 ,  0.356, 30.   , 57.   ],\n",
       "        [ 0.459,  0.714,  0.292, 30.   , 44.   ]]),\n",
       " 'Wizards': array([[ 0.397,  0.682,  0.265, 18.   , 42.   ],\n",
       "        [ 0.427,  0.625,  0.295, 24.   , 45.   ],\n",
       "        [ 0.484,  0.536,  0.351, 28.   , 43.   ],\n",
       "        [ 0.485,  0.846,  0.25 , 27.   , 47.   ],\n",
       "        [ 0.44 ,  0.885,  0.27 , 25.   , 47.   ],\n",
       "        [ 0.5  ,  0.78 ,  0.483, 27.   , 37.   ],\n",
       "        [ 0.444,  0.75 ,  0.375, 25.   , 39.   ],\n",
       "        [ 0.522,  0.607,  0.441, 29.   , 53.   ],\n",
       "        [ 0.365,  0.816,  0.25 , 13.   , 47.   ],\n",
       "        [ 0.519,  0.781,  0.308, 24.   , 39.   ],\n",
       "        [ 0.554,  0.765,  0.4  , 32.   , 39.   ],\n",
       "        [ 0.452,  0.826,  0.293, 26.   , 46.   ],\n",
       "        [ 0.382,  0.7  ,  0.265, 20.   , 46.   ],\n",
       "        [ 0.398,  0.861,  0.233, 24.   , 54.   ],\n",
       "        [ 0.522,  0.742,  0.4  , 25.   , 47.   ],\n",
       "        [ 0.512,  0.794,  0.455, 31.   , 45.   ],\n",
       "        [ 0.449,  0.794,  0.394, 27.   , 57.   ],\n",
       "        [ 0.506,  0.72 ,  0.355, 29.   , 37.   ],\n",
       "        [ 0.455,  0.714,  0.391, 20.   , 41.   ],\n",
       "        [ 0.488,  0.591,  0.333, 19.   , 32.   ],\n",
       "        [ 0.457,  0.773,  0.39 , 25.   , 41.   ],\n",
       "        [ 0.506,  0.75 ,  0.421, 34.   , 33.   ],\n",
       "        [ 0.489,  0.821,  0.16 , 25.   , 52.   ],\n",
       "        [ 0.547,  0.789,  0.412, 23.   , 43.   ],\n",
       "        [ 0.484,  1.   ,  0.429, 24.   , 48.   ],\n",
       "        [ 0.556,  0.667,  0.526, 30.   , 55.   ],\n",
       "        [ 0.41 ,  0.8  ,  0.27 , 22.   , 51.   ],\n",
       "        [ 0.407,  0.8  ,  0.2  , 12.   , 44.   ],\n",
       "        [ 0.469,  0.719,  0.148, 24.   , 46.   ],\n",
       "        [ 0.532,  0.632,  0.563, 25.   , 48.   ],\n",
       "        [ 0.505,  0.586,  0.323, 31.   , 42.   ],\n",
       "        [ 0.418,  0.842,  0.357, 23.   , 61.   ],\n",
       "        [ 0.483,  0.808,  0.387, 25.   , 36.   ],\n",
       "        [ 0.532,  0.84 ,  0.3  , 26.   , 50.   ],\n",
       "        [ 0.522,  0.762,  0.333, 24.   , 50.   ],\n",
       "        [ 0.612,  0.792,  0.409, 50.   , 44.   ],\n",
       "        [ 0.461,  0.838,  0.28 , 23.   , 47.   ],\n",
       "        [ 0.484,  0.81 ,  0.323, 22.   , 53.   ],\n",
       "        [ 0.581,  0.769,  0.5  , 34.   , 52.   ],\n",
       "        [ 0.433,  0.727,  0.378, 26.   , 47.   ],\n",
       "        [ 0.459,  0.696,  0.481, 28.   , 40.   ],\n",
       "        [ 0.459,  0.696,  0.481, 28.   , 40.   ],\n",
       "        [ 0.551,  0.762,  0.485, 35.   , 43.   ],\n",
       "        [ 0.413,  0.735,  0.364, 27.   , 49.   ],\n",
       "        [ 0.5  ,  0.743,  0.432, 27.   , 35.   ],\n",
       "        [ 0.466,  0.875,  0.379, 22.   , 38.   ],\n",
       "        [ 0.424,  0.643,  0.333, 23.   , 50.   ],\n",
       "        [ 0.393,  0.739,  0.192, 19.   , 49.   ],\n",
       "        [ 0.402,  0.905,  0.342, 29.   , 39.   ],\n",
       "        [ 0.417,  0.72 ,  0.405, 20.   , 49.   ],\n",
       "        [ 0.371,  0.875,  0.242, 19.   , 40.   ],\n",
       "        [ 0.378,  0.714,  0.225, 22.   , 48.   ],\n",
       "        [ 0.419,  0.75 ,  0.231, 23.   , 47.   ],\n",
       "        [ 0.506,  0.759,  0.231, 23.   , 54.   ],\n",
       "        [ 0.49 ,  0.727,  0.36 , 25.   , 49.   ],\n",
       "        [ 0.534,  0.688,  0.55 , 32.   , 36.   ],\n",
       "        [ 0.477,  0.88 ,  0.308, 24.   , 42.   ],\n",
       "        [ 0.452,  0.862,  0.281, 16.   , 36.   ],\n",
       "        [ 0.4  ,  0.926,  0.306, 23.   , 39.   ],\n",
       "        [ 0.532,  0.789,  0.333, 24.   , 43.   ],\n",
       "        [ 0.481,  0.8  ,  0.391, 25.   , 38.   ],\n",
       "        [ 0.463,  0.606,  0.308, 26.   , 46.   ],\n",
       "        [ 0.471,  0.316,  0.263, 25.   , 40.   ],\n",
       "        [ 0.394,  0.833,  0.343, 21.   , 54.   ],\n",
       "        [ 0.576,  0.875,  0.528, 35.   , 37.   ],\n",
       "        [ 0.483,  0.792,  0.263, 30.   , 47.   ],\n",
       "        [ 0.464,  0.679,  0.36 , 27.   , 49.   ],\n",
       "        [ 0.522,  0.786,  0.474, 29.   , 44.   ],\n",
       "        [ 0.522,  0.815,  0.292, 23.   , 56.   ],\n",
       "        [ 0.516,  0.938,  0.563, 25.   , 50.   ],\n",
       "        [ 0.5  ,  0.846,  0.444, 31.   , 46.   ],\n",
       "        [ 0.516,  0.774,  0.316, 19.   , 46.   ],\n",
       "        [ 0.49 ,  0.744,  0.364, 27.   , 43.   ],\n",
       "        [ 0.436,  0.837,  0.433, 29.   , 47.   ],\n",
       "        [ 0.445,  0.867,  0.281, 26.   , 60.   ],\n",
       "        [ 0.51 ,  0.818,  0.5  , 28.   , 42.   ],\n",
       "        [ 0.446,  0.842,  0.345, 29.   , 42.   ],\n",
       "        [ 0.435,  0.85 ,  0.143, 17.   , 49.   ]]),\n",
       " 'Knicks': array([[ 0.458,  0.762,  0.235, 28.   , 38.   ],\n",
       "        [ 0.513,  0.788,  0.517, 27.   , 41.   ],\n",
       "        [ 0.386,  0.739,  0.276, 19.   , 43.   ],\n",
       "        [ 0.541,  0.815,  0.593, 27.   , 46.   ],\n",
       "        [ 0.517,  0.737,  0.364, 22.   , 48.   ],\n",
       "        [ 0.354,  0.6  ,  0.333, 19.   , 49.   ],\n",
       "        [ 0.432,  0.76 ,  0.286, 19.   , 36.   ],\n",
       "        [ 0.478,  0.833,  0.393, 22.   , 43.   ],\n",
       "        [ 0.356,  0.706,  0.185, 15.   , 53.   ],\n",
       "        [ 0.488,  0.875,  0.37 , 20.   , 41.   ],\n",
       "        [ 0.482,  0.821,  0.37 , 21.   , 36.   ],\n",
       "        [ 0.5  ,  0.692,  0.433, 20.   , 51.   ],\n",
       "        [ 0.447,  0.733,  0.381, 23.   , 44.   ],\n",
       "        [ 0.523,  0.826,  0.429, 21.   , 44.   ],\n",
       "        [ 0.506,  0.815,  0.5  , 22.   , 42.   ],\n",
       "        [ 0.423,  0.816,  0.333, 17.   , 48.   ],\n",
       "        [ 0.392,  0.864,  0.379, 22.   , 56.   ],\n",
       "        [ 0.586,  0.905,  0.528, 24.   , 43.   ],\n",
       "        [ 0.494,  0.818,  0.5  , 26.   , 38.   ],\n",
       "        [ 0.542,  0.789,  0.333, 25.   , 47.   ],\n",
       "        [ 0.43 ,  0.545,  0.412, 24.   , 43.   ],\n",
       "        [ 0.432,  0.565,  0.458, 16.   , 44.   ],\n",
       "        [ 0.511,  0.875,  0.533, 23.   , 42.   ],\n",
       "        [ 0.366,  0.738,  0.25 , 14.   , 55.   ],\n",
       "        [ 0.413,  0.6  ,  0.278, 15.   , 41.   ],\n",
       "        [ 0.36 ,  1.   ,  0.316, 18.   , 43.   ],\n",
       "        [ 0.469,  0.879,  0.438, 24.   , 48.   ],\n",
       "        [ 0.398,  0.852,  0.257, 19.   , 46.   ],\n",
       "        [ 0.472,  0.815,  0.185, 18.   , 47.   ],\n",
       "        [ 0.474,  0.875,  0.379, 27.   , 49.   ],\n",
       "        [ 0.482,  0.917,  0.4  , 22.   , 39.   ],\n",
       "        [ 0.538,  0.8  ,  0.543, 29.   , 49.   ],\n",
       "        [ 0.56 ,  0.833,  0.516, 20.   , 44.   ],\n",
       "        [ 0.517,  0.8  ,  0.414, 24.   , 35.   ],\n",
       "        [ 0.462,  0.895,  0.444, 27.   , 41.   ],\n",
       "        [ 0.407,  1.   ,  0.4  , 23.   , 48.   ],\n",
       "        [ 0.511,  0.8  ,  0.432, 29.   , 50.   ],\n",
       "        [ 0.43 ,  0.789,  0.481, 16.   , 41.   ],\n",
       "        [ 0.458,  0.474,  0.217, 23.   , 54.   ],\n",
       "        [ 0.393,  0.654,  0.242, 19.   , 48.   ],\n",
       "        [ 0.459,  0.739,  0.429, 25.   , 40.   ],\n",
       "        [ 0.459,  0.739,  0.429, 25.   , 40.   ],\n",
       "        [ 0.43 ,  0.619,  0.56 , 23.   , 55.   ],\n",
       "        [ 0.43 ,  0.619,  0.56 , 23.   , 55.   ],\n",
       "        [ 0.364,  0.8  ,  0.083, 21.   , 48.   ],\n",
       "        [ 0.506,  0.769,  0.444, 23.   , 51.   ],\n",
       "        [ 0.506,  0.8  ,  0.333, 26.   , 45.   ],\n",
       "        [ 0.391,  0.647,  0.243, 20.   , 49.   ],\n",
       "        [ 0.488,  0.875,  0.36 , 20.   , 39.   ],\n",
       "        [ 0.475,  0.81 ,  0.387, 22.   , 53.   ],\n",
       "        [ 0.463,  0.78 ,  0.458, 24.   , 55.   ],\n",
       "        [ 0.383,  0.68 ,  0.227, 19.   , 57.   ],\n",
       "        [ 0.453,  0.92 ,  0.414, 20.   , 47.   ],\n",
       "        [ 0.434,  0.706,  0.37 , 15.   , 44.   ],\n",
       "        [ 0.425,  0.846,  0.207, 21.   , 45.   ],\n",
       "        [ 0.483,  0.667,  0.5  , 19.   , 47.   ],\n",
       "        [ 0.425,  0.75 ,  0.357, 22.   , 46.   ],\n",
       "        [ 0.449,  0.682,  0.25 , 22.   , 65.   ],\n",
       "        [ 0.379,  0.842,  0.259, 16.   , 46.   ],\n",
       "        [ 0.512,  0.8  ,  0.5  , 23.   , 41.   ],\n",
       "        [ 0.407,  0.8  ,  0.417, 18.   , 41.   ],\n",
       "        [ 0.42 ,  0.667,  0.351, 19.   , 38.   ],\n",
       "        [ 0.489,  0.773,  0.4  , 23.   , 44.   ],\n",
       "        [ 0.402,  0.852,  0.357, 16.   , 40.   ],\n",
       "        [ 0.44 ,  0.636,  0.333, 19.   , 47.   ],\n",
       "        [ 0.43 ,  0.75 ,  0.364, 28.   , 44.   ],\n",
       "        [ 0.476,  0.706,  0.478, 20.   , 41.   ],\n",
       "        [ 0.544,  0.741,  0.487, 31.   , 44.   ],\n",
       "        [ 0.465,  0.818,  0.483, 24.   , 41.   ],\n",
       "        [ 0.417,  0.813,  0.485, 22.   , 39.   ],\n",
       "        [ 0.454,  0.846,  0.515, 19.   , 48.   ],\n",
       "        [ 0.512,  0.714,  0.5  , 22.   , 45.   ],\n",
       "        [ 0.523,  0.875,  0.514, 22.   , 38.   ],\n",
       "        [ 0.506,  0.778,  0.519, 19.   , 45.   ],\n",
       "        [ 0.384,  0.667,  0.371, 18.   , 42.   ],\n",
       "        [ 0.452,  0.783,  0.344, 24.   , 41.   ],\n",
       "        [ 0.467,  1.   ,  0.406, 25.   , 45.   ],\n",
       "        [ 0.391,  0.913,  0.345, 19.   , 41.   ]]),\n",
       " 'Pistons': array([[ 0.325,  0.88 ,  0.256, 17.   , 41.   ],\n",
       "        [ 0.421,  0.676,  0.343, 23.   , 42.   ],\n",
       "        [ 0.408,  0.719,  0.356, 24.   , 57.   ],\n",
       "        [ 0.38 ,  0.793,  0.371, 21.   , 45.   ],\n",
       "        [ 0.409,  0.65 ,  0.324, 18.   , 48.   ],\n",
       "        [ 0.409,  0.65 ,  0.324, 18.   , 48.   ],\n",
       "        [ 0.477,  0.88 ,  0.444, 29.   , 33.   ],\n",
       "        [ 0.411,  0.862,  0.324, 23.   , 46.   ],\n",
       "        [ 0.333,  0.857,  0.238, 21.   , 39.   ],\n",
       "        [ 0.391,  0.682,  0.4  , 25.   , 47.   ],\n",
       "        [ 0.378,  0.676,  0.469, 17.   , 55.   ],\n",
       "        [ 0.43 ,  0.733,  0.424, 25.   , 43.   ],\n",
       "        [ 0.5  ,  0.842,  0.447, 22.   , 47.   ],\n",
       "        [ 0.46 ,  1.   ,  0.389, 27.   , 38.   ],\n",
       "        [ 0.56 ,  0.714,  0.448, 28.   , 37.   ],\n",
       "        [ 0.447,  0.737,  0.179, 21.   , 43.   ],\n",
       "        [ 0.536,  0.8  ,  0.486, 34.   , 37.   ],\n",
       "        [ 0.451,  0.656,  0.364, 20.   , 45.   ],\n",
       "        [ 0.389,  0.806,  0.281, 16.   , 40.   ],\n",
       "        [ 0.47 ,  0.56 ,  0.28 , 22.   , 34.   ],\n",
       "        [ 0.507,  0.875,  0.414, 23.   , 54.   ],\n",
       "        [ 0.39 ,  0.72 ,  0.16 , 20.   , 37.   ],\n",
       "        [ 0.452,  0.723,  0.355, 19.   , 36.   ],\n",
       "        [ 0.507,  0.794,  0.5  , 26.   , 43.   ],\n",
       "        [ 0.465,  0.706,  0.333, 29.   , 36.   ],\n",
       "        [ 0.479,  0.818,  0.414, 31.   , 48.   ],\n",
       "        [ 0.354,  0.7  ,  0.321, 20.   , 43.   ],\n",
       "        [ 0.435,  0.773,  0.292, 17.   , 46.   ],\n",
       "        [ 0.422,  0.706,  0.286, 22.   , 54.   ],\n",
       "        [ 0.488,  0.714,  0.37 , 25.   , 44.   ],\n",
       "        [ 0.476,  0.733,  0.346, 22.   , 47.   ],\n",
       "        [ 0.507,  0.676,  0.345, 26.   , 39.   ],\n",
       "        [ 0.473,  0.722,  0.314, 24.   , 42.   ],\n",
       "        [ 0.459,  0.6  ,  0.281, 21.   , 46.   ],\n",
       "        [ 0.53 ,  0.857,  0.393, 24.   , 39.   ],\n",
       "        [ 0.456,  0.591,  0.407, 22.   , 37.   ],\n",
       "        [ 0.467,  0.769,  0.435, 21.   , 46.   ],\n",
       "        [ 0.41 ,  0.739,  0.162, 21.   , 41.   ],\n",
       "        [ 0.465,  0.727,  0.314, 26.   , 33.   ],\n",
       "        [ 0.494,  0.583,  0.4  , 20.   , 42.   ],\n",
       "        [ 0.402,  0.647,  0.326, 18.   , 51.   ],\n",
       "        [ 0.484,  0.375,  0.229, 29.   , 44.   ],\n",
       "        [ 0.484,  0.375,  0.229, 29.   , 44.   ],\n",
       "        [ 0.439,  0.875,  0.317, 24.   , 48.   ],\n",
       "        [ 0.439,  1.   ,  0.425, 27.   , 31.   ],\n",
       "        [ 0.392,  0.867,  0.317, 20.   , 47.   ],\n",
       "        [ 0.505,  0.667,  0.391, 34.   , 39.   ],\n",
       "        [ 0.463,  0.75 ,  0.351, 24.   , 32.   ],\n",
       "        [ 0.454,  0.895,  0.323, 22.   , 42.   ],\n",
       "        [ 0.451,  0.759,  0.407, 29.   , 40.   ],\n",
       "        [ 0.377,  0.75 ,  0.25 , 17.   , 38.   ],\n",
       "        [ 0.419,  0.9  ,  0.333, 18.   , 46.   ],\n",
       "        [ 0.374,  0.607,  0.194, 20.   , 45.   ],\n",
       "        [ 0.479,  0.821,  0.381, 31.   , 35.   ],\n",
       "        [ 0.43 ,  0.833,  0.395, 25.   , 44.   ],\n",
       "        [ 0.451,  0.833,  0.286, 15.   , 40.   ],\n",
       "        [ 0.419,  0.692,  0.311, 27.   , 45.   ],\n",
       "        [ 0.374,  0.81 ,  0.275, 23.   , 49.   ],\n",
       "        [ 0.466,  0.813,  0.294, 24.   , 49.   ],\n",
       "        [ 0.528,  0.688,  0.361, 31.   , 38.   ],\n",
       "        [ 0.527,  0.619,  0.488, 39.   , 49.   ],\n",
       "        [ 0.488,  0.8  ,  0.389, 23.   , 29.   ],\n",
       "        [ 0.447,  0.786,  0.326, 27.   , 50.   ],\n",
       "        [ 0.404,  0.75 ,  0.25 , 26.   , 46.   ],\n",
       "        [ 0.435,  0.893,  0.483, 28.   , 49.   ],\n",
       "        [ 0.53 ,  0.632,  0.393, 29.   , 41.   ],\n",
       "        [ 0.388,  0.842,  0.345, 19.   , 43.   ],\n",
       "        [ 0.516,  0.875,  0.464, 32.   , 50.   ],\n",
       "        [ 0.543,  0.8  ,  0.429, 27.   , 30.   ],\n",
       "        [ 0.524,  0.85 ,  0.348, 24.   , 43.   ],\n",
       "        [ 0.446,  0.714,  0.346, 25.   , 38.   ],\n",
       "        [ 0.529,  0.895,  0.469, 33.   , 31.   ],\n",
       "        [ 0.44 ,  0.739,  0.333, 19.   , 45.   ],\n",
       "        [ 0.506,  0.774,  0.406, 30.   , 42.   ],\n",
       "        [ 0.455,  0.591,  0.364, 15.   , 43.   ],\n",
       "        [ 0.406,  0.808,  0.294, 26.   , 62.   ],\n",
       "        [ 0.385,  0.647,  0.351, 27.   , 43.   ],\n",
       "        [ 0.488,  0.688,  0.324, 22.   , 44.   ]]),\n",
       " 'Heat': array([[ 0.427,  0.818,  0.283, 26.   , 35.   ],\n",
       "        [ 0.507,  0.826,  0.432, 29.   , 35.   ],\n",
       "        [ 0.468,  0.667,  0.297, 23.   , 30.   ],\n",
       "        [ 0.468,  0.667,  0.297, 23.   , 30.   ],\n",
       "        [ 0.488,  0.828,  0.385, 25.   , 52.   ],\n",
       "        [ 0.568,  0.556,  0.471, 34.   , 47.   ],\n",
       "        [ 0.432,  0.846,  0.361, 26.   , 42.   ],\n",
       "        [ 0.478,  0.889,  0.414, 25.   , 31.   ],\n",
       "        [ 0.573,  0.789,  0.4  , 23.   , 36.   ],\n",
       "        [ 0.375,  0.818,  0.289, 24.   , 38.   ],\n",
       "        [ 0.444,  0.8  ,  0.394, 24.   , 45.   ],\n",
       "        [ 0.468,  0.846,  0.344, 25.   , 39.   ],\n",
       "        [ 0.473,  0.64 ,  0.413, 28.   , 48.   ],\n",
       "        [ 0.434,  0.727,  0.343, 24.   , 44.   ],\n",
       "        [ 0.5  ,  0.87 ,  0.444, 27.   , 48.   ],\n",
       "        [ 0.371,  0.821,  0.424, 21.   , 38.   ],\n",
       "        [ 0.463,  0.862,  0.447, 31.   , 42.   ],\n",
       "        [ 0.512,  0.88 ,  0.452, 24.   , 50.   ],\n",
       "        [ 0.453,  0.909,  0.297, 27.   , 45.   ],\n",
       "        [ 0.373,  0.682,  0.273, 15.   , 26.   ],\n",
       "        [ 0.451,  0.591,  0.327, 27.   , 44.   ],\n",
       "        [ 0.494,  0.905,  0.37 , 30.   , 48.   ],\n",
       "        [ 0.446,  0.95 ,  0.265, 22.   , 36.   ],\n",
       "        [ 0.402,  0.826,  0.243, 27.   , 51.   ],\n",
       "        [ 0.419,  0.882,  0.361, 23.   , 50.   ],\n",
       "        [ 0.56 ,  0.923,  0.471, 34.   , 39.   ],\n",
       "        [ 0.476,  0.833,  0.333, 30.   , 37.   ],\n",
       "        [ 0.537,  0.75 ,  0.395, 35.   , 37.   ],\n",
       "        [ 0.537,  0.611,  0.394, 34.   , 35.   ],\n",
       "        [ 0.479,  0.8  ,  0.4  , 22.   , 38.   ],\n",
       "        [ 0.437,  0.81 ,  0.41 , 28.   , 53.   ],\n",
       "        [ 0.484,  0.571,  0.396, 31.   , 52.   ],\n",
       "        [ 0.45 ,  0.833,  0.378, 22.   , 37.   ],\n",
       "        [ 0.429,  0.92 ,  0.194, 18.   , 34.   ],\n",
       "        [ 0.506,  0.875,  0.36 , 26.   , 48.   ],\n",
       "        [ 0.464,  0.81 ,  0.439, 30.   , 39.   ],\n",
       "        [ 0.506,  0.741,  0.406, 27.   , 37.   ],\n",
       "        [ 0.506,  1.   ,  0.371, 26.   , 47.   ],\n",
       "        [ 0.534,  0.741,  0.514, 30.   , 51.   ],\n",
       "        [ 0.506,  0.842,  0.35 , 25.   , 43.   ],\n",
       "        [ 0.372,  0.72 ,  0.212, 20.   , 41.   ],\n",
       "        [ 0.495,  0.769,  0.372, 32.   , 61.   ],\n",
       "        [ 0.462,  0.792,  0.339, 27.   , 46.   ],\n",
       "        [ 0.494,  0.615,  0.353, 28.   , 41.   ],\n",
       "        [ 0.488,  0.882,  0.45 , 29.   , 46.   ],\n",
       "        [ 0.429,  0.8  ,  0.226, 19.   , 32.   ],\n",
       "        [ 0.472,  0.844,  0.283, 29.   , 31.   ],\n",
       "        [ 0.369,  0.706,  0.256, 20.   , 45.   ],\n",
       "        [ 0.482,  0.8  ,  0.371, 25.   , 44.   ],\n",
       "        [ 0.43 ,  0.9  ,  0.357, 24.   , 49.   ],\n",
       "        [ 0.407,  0.706,  0.333, 24.   , 43.   ],\n",
       "        [ 0.505,  0.818,  0.222, 27.   , 39.   ],\n",
       "        [ 0.454,  0.917,  0.361, 28.   , 49.   ],\n",
       "        [ 0.516,  0.8  ,  0.353, 36.   , 45.   ],\n",
       "        [ 0.424,  0.696,  0.286, 24.   , 49.   ],\n",
       "        [ 0.444,  0.84 ,  0.375, 30.   , 45.   ],\n",
       "        [ 0.493,  0.84 ,  0.333, 27.   , 41.   ],\n",
       "        [ 0.463,  0.75 ,  0.343, 26.   , 41.   ],\n",
       "        [ 0.416,  0.933,  0.28 , 28.   , 43.   ],\n",
       "        [ 0.36 ,  0.722,  0.235, 17.   , 51.   ],\n",
       "        [ 0.46 ,  0.5  ,  0.349, 28.   , 39.   ],\n",
       "        [ 0.43 ,  0.824,  0.294, 22.   , 47.   ],\n",
       "        [ 0.41 ,  0.643,  0.313, 22.   , 42.   ],\n",
       "        [ 0.494,  0.65 ,  0.414, 21.   , 30.   ],\n",
       "        [ 0.378,  0.789,  0.205, 24.   , 36.   ],\n",
       "        [ 0.494,  0.833,  0.406, 29.   , 30.   ],\n",
       "        [ 0.488,  0.731,  0.412, 33.   , 33.   ],\n",
       "        [ 0.47 ,  0.8  ,  0.419, 28.   , 44.   ],\n",
       "        [ 0.481,  0.875,  0.351, 24.   , 30.   ],\n",
       "        [ 0.54 ,  0.8  ,  0.5  , 30.   , 37.   ],\n",
       "        [ 0.511,  0.741,  0.289, 30.   , 42.   ],\n",
       "        [ 0.573,  0.909,  0.457, 30.   , 35.   ],\n",
       "        [ 0.593,  0.773,  0.533, 25.   , 43.   ],\n",
       "        [ 0.417,  0.75 ,  0.449, 25.   , 38.   ],\n",
       "        [ 0.56 ,  0.65 ,  0.382, 32.   , 39.   ]]),\n",
       " 'Trail Blazers': array([[ 0.511,  0.727,  0.5  , 22.   , 55.   ],\n",
       "        [ 0.4  ,  0.815,  0.4  , 19.   , 42.   ],\n",
       "        [ 0.402,  0.824,  0.364, 23.   , 40.   ],\n",
       "        [ 0.461,  0.652,  0.422, 27.   , 45.   ],\n",
       "        [ 0.415,  0.647,  0.373, 23.   , 46.   ],\n",
       "        [ 0.544,  0.826,  0.439, 25.   , 44.   ],\n",
       "        [ 0.458,  0.88 ,  0.333, 18.   , 42.   ],\n",
       "        [ 0.368,  1.   ,  0.302, 16.   , 43.   ],\n",
       "        [ 0.388,  0.85 ,  0.341, 18.   , 55.   ],\n",
       "        [ 0.433,  0.842,  0.286, 20.   , 34.   ],\n",
       "        [ 0.47 ,  0.913,  0.37 , 19.   , 39.   ],\n",
       "        [ 0.469,  0.762,  0.341, 17.   , 50.   ],\n",
       "        [ 0.389,  0.947,  0.391, 18.   , 54.   ],\n",
       "        [ 0.43 ,  0.913,  0.447, 15.   , 47.   ],\n",
       "        [ 0.518,  0.909,  0.371, 16.   , 45.   ],\n",
       "        [ 0.359,  0.72 ,  0.345, 19.   , 50.   ],\n",
       "        [ 0.535,  0.7  ,  0.522, 26.   , 38.   ],\n",
       "        [ 0.419,  0.846,  0.286, 15.   , 47.   ],\n",
       "        [ 0.477,  0.96 ,  0.395, 20.   , 41.   ],\n",
       "        [ 0.457,  0.895,  0.419, 26.   , 41.   ],\n",
       "        [ 0.521,  1.   ,  0.419, 20.   , 32.   ],\n",
       "        [ 0.379,  0.84 ,  0.326, 11.   , 50.   ],\n",
       "        [ 0.473,  0.882,  0.468, 17.   , 43.   ],\n",
       "        [ 0.382,  0.789,  0.22 , 17.   , 33.   ],\n",
       "        [ 0.4  ,  0.913,  0.345, 25.   , 44.   ],\n",
       "        [ 0.364,  0.727,  0.389, 19.   , 45.   ],\n",
       "        [ 0.49 ,  0.786,  0.435, 25.   , 56.   ],\n",
       "        [ 0.478,  0.792,  0.448, 18.   , 49.   ],\n",
       "        [ 0.481,  0.684,  0.314, 21.   , 41.   ],\n",
       "        [ 0.478,  0.706,  0.395, 31.   , 46.   ],\n",
       "        [ 0.447,  0.737,  0.318, 22.   , 42.   ],\n",
       "        [ 0.46 ,  0.867,  0.333, 21.   , 41.   ],\n",
       "        [ 0.479,  0.815,  0.4  , 28.   , 50.   ],\n",
       "        [ 0.371,  0.84 ,  0.368, 21.   , 53.   ],\n",
       "        [ 0.42 ,  0.952,  0.324, 22.   , 44.   ],\n",
       "        [ 0.464,  0.733,  0.353, 24.   , 63.   ],\n",
       "        [ 0.511,  0.8  ,  0.45 , 30.   , 47.   ],\n",
       "        [ 0.529,  0.846,  0.419, 24.   , 51.   ],\n",
       "        [ 0.378,  0.75 ,  0.265, 20.   , 33.   ],\n",
       "        [ 0.371,  0.87 ,  0.303, 17.   , 42.   ],\n",
       "        [ 0.467,  0.867,  0.348, 27.   , 45.   ],\n",
       "        [ 0.421,  0.853,  0.316, 14.   , 41.   ],\n",
       "        [ 0.435,  0.767,  0.465, 23.   , 51.   ],\n",
       "        [ 0.418,  0.788,  0.326, 16.   , 40.   ],\n",
       "        [ 0.44 ,  0.87 ,  0.415, 26.   , 50.   ],\n",
       "        [ 0.489,  0.778,  0.479, 28.   , 38.   ],\n",
       "        [ 0.419,  0.75 ,  0.415, 16.   , 49.   ],\n",
       "        [ 0.511,  0.842,  0.405, 20.   , 35.   ],\n",
       "        [ 0.375,  1.   ,  0.357, 19.   , 45.   ],\n",
       "        [ 0.463,  1.   ,  0.457, 19.   , 44.   ],\n",
       "        [ 0.459,  0.783,  0.419, 17.   , 53.   ],\n",
       "        [ 0.416,  0.5  ,  0.362, 15.   , 41.   ],\n",
       "        [ 0.529,  0.684,  0.45 , 15.   , 36.   ],\n",
       "        [ 0.438,  0.647,  0.426, 26.   , 54.   ],\n",
       "        [ 0.511,  0.889,  0.439, 26.   , 31.   ],\n",
       "        [ 0.44 ,  0.737,  0.308, 15.   , 46.   ],\n",
       "        [ 0.471,  1.   ,  0.341, 21.   , 47.   ],\n",
       "        [ 0.386,  0.9  ,  0.297, 19.   , 45.   ],\n",
       "        [ 0.483,  0.867,  0.325, 26.   , 34.   ],\n",
       "        [ 0.438,  0.81 ,  0.378, 22.   , 42.   ],\n",
       "        [ 0.478,  0.895,  0.435, 24.   , 40.   ],\n",
       "        [ 0.471,  0.667,  0.45 , 21.   , 46.   ],\n",
       "        [ 0.474,  0.833,  0.294, 24.   , 47.   ],\n",
       "        [ 0.512,  0.923,  0.533, 27.   , 43.   ],\n",
       "        [ 0.402,  0.838,  0.306, 18.   , 48.   ],\n",
       "        [ 0.396,  0.778,  0.271, 18.   , 41.   ],\n",
       "        [ 0.461,  0.875,  0.379, 23.   , 38.   ],\n",
       "        [ 0.396,  0.679,  0.278, 18.   , 47.   ],\n",
       "        [ 0.472,  0.813,  0.571, 26.   , 57.   ],\n",
       "        [ 0.489,  0.893,  0.375, 23.   , 51.   ],\n",
       "        [ 0.516,  0.9  ,  0.444, 24.   , 50.   ],\n",
       "        [ 0.518,  0.846,  0.5  , 27.   , 36.   ],\n",
       "        [ 0.453,  0.786,  0.415, 25.   , 39.   ],\n",
       "        [ 0.576,  0.76 ,  0.485, 26.   , 54.   ],\n",
       "        [ 0.44 ,  0.706,  0.406, 17.   , 39.   ],\n",
       "        [ 0.543,  0.778,  0.455, 23.   , 33.   ]]),\n",
       " 'Celtics': array([[ 0.348,  0.81 ,  0.178, 18.   , 48.   ],\n",
       "        [ 0.475,  0.727,  0.45 , 23.   , 37.   ],\n",
       "        [ 0.378,  0.684,  0.296, 23.   , 47.   ],\n",
       "        [ 0.378,  0.684,  0.296, 23.   , 47.   ],\n",
       "        [ 0.538,  0.857,  0.41 , 27.   , 42.   ],\n",
       "        [ 0.477,  0.733,  0.375, 21.   , 49.   ],\n",
       "        [ 0.511,  0.895,  0.405, 25.   , 45.   ],\n",
       "        [ 0.298,  0.621,  0.152, 15.   , 43.   ],\n",
       "        [ 0.559,  0.852,  0.5  , 26.   , 55.   ],\n",
       "        [ 0.488,  0.643,  0.286, 24.   , 42.   ],\n",
       "        [ 0.453,  0.786,  0.513, 30.   , 49.   ],\n",
       "        [ 0.439,  0.733,  0.296, 15.   , 44.   ],\n",
       "        [ 0.481,  0.905,  0.357, 26.   , 43.   ],\n",
       "        [ 0.465,  0.889,  0.323, 22.   , 37.   ],\n",
       "        [ 0.556,  0.7  ,  0.4  , 26.   , 44.   ],\n",
       "        [ 0.512,  0.862,  0.409, 24.   , 45.   ],\n",
       "        [ 0.472,  0.708,  0.333, 25.   , 49.   ],\n",
       "        [ 0.488,  0.739,  0.5  , 25.   , 43.   ],\n",
       "        [ 0.608,  0.725,  0.448, 25.   , 39.   ],\n",
       "        [ 0.49 ,  0.75 ,  0.345, 28.   , 45.   ],\n",
       "        [ 0.429,  0.857,  0.387, 22.   , 45.   ],\n",
       "        [ 0.455,  1.   ,  0.426, 27.   , 45.   ],\n",
       "        [ 0.43 ,  0.789,  0.326, 21.   , 46.   ],\n",
       "        [ 0.415,  0.826,  0.234, 20.   , 36.   ],\n",
       "        [ 0.523,  0.75 ,  0.415, 35.   , 50.   ],\n",
       "        [ 0.457,  0.818,  0.389, 29.   , 44.   ],\n",
       "        [ 0.471,  0.889,  0.412, 19.   , 32.   ],\n",
       "        [ 0.419,  0.7  ,  0.375, 22.   , 53.   ],\n",
       "        [ 0.54 ,  0.941,  0.452, 32.   , 45.   ],\n",
       "        [ 0.468,  0.8  ,  0.326, 18.   , 45.   ],\n",
       "        [ 0.468,  0.933,  0.4  , 21.   , 39.   ],\n",
       "        [ 0.429,  0.875,  0.3  , 20.   , 48.   ],\n",
       "        [ 0.423,  0.88 ,  0.224, 21.   , 39.   ],\n",
       "        [ 0.478,  0.773,  0.375, 26.   , 54.   ],\n",
       "        [ 0.467,  0.75 ,  0.474, 31.   , 52.   ],\n",
       "        [ 0.483,  0.867,  0.513, 29.   , 45.   ],\n",
       "        [ 0.542,  0.8  ,  0.368, 29.   , 34.   ],\n",
       "        [ 0.523,  0.647,  0.486, 31.   , 32.   ],\n",
       "        [ 0.396,  0.844,  0.333, 20.   , 49.   ],\n",
       "        [ 0.434,  0.727,  0.282, 19.   , 42.   ],\n",
       "        [ 0.506,  0.75 ,  0.391, 21.   , 40.   ],\n",
       "        [ 0.506,  0.75 ,  0.391, 21.   , 40.   ],\n",
       "        [ 0.5  ,  0.73 ,  0.409, 21.   , 43.   ],\n",
       "        [ 0.47 ,  0.5  ,  0.258, 20.   , 44.   ],\n",
       "        [ 0.47 ,  0.5  ,  0.258, 20.   , 45.   ],\n",
       "        [ 0.563,  0.692,  0.455, 35.   , 41.   ],\n",
       "        [ 0.488,  0.853,  0.517, 19.   , 56.   ],\n",
       "        [ 0.424,  0.917,  0.343, 22.   , 53.   ],\n",
       "        [ 0.472,  0.65 ,  0.364, 22.   , 45.   ],\n",
       "        [ 0.456,  0.8  ,  0.4  , 23.   , 32.   ],\n",
       "        [ 0.506,  0.8  ,  0.517, 28.   , 44.   ],\n",
       "        [ 0.429,  0.857,  0.333, 15.   , 39.   ],\n",
       "        [ 0.464,  0.741,  0.382, 16.   , 51.   ],\n",
       "        [ 0.453,  0.759,  0.333, 28.   , 45.   ],\n",
       "        [ 0.478,  0.81 ,  0.421, 21.   , 34.   ],\n",
       "        [ 0.355,  0.667,  0.386, 19.   , 41.   ],\n",
       "        [ 0.442,  0.826,  0.448, 18.   , 35.   ],\n",
       "        [ 0.356,  0.6  ,  0.257, 14.   , 50.   ],\n",
       "        [ 0.398,  0.794,  0.27 , 22.   , 49.   ],\n",
       "        [ 0.477,  0.722,  0.308, 19.   , 46.   ],\n",
       "        [ 0.442,  0.87 ,  0.258, 20.   , 36.   ],\n",
       "        [ 0.451,  0.636,  0.325, 22.   , 39.   ],\n",
       "        [ 0.554,  0.667,  0.486, 29.   , 55.   ],\n",
       "        [ 0.455,  0.69 ,  0.263, 19.   , 40.   ],\n",
       "        [ 0.522,  0.625,  0.486, 31.   , 43.   ],\n",
       "        [ 0.479,  1.   ,  0.404, 24.   , 38.   ],\n",
       "        [ 0.489,  0.875,  0.468, 27.   , 44.   ],\n",
       "        [ 0.458,  0.786,  0.316, 22.   , 52.   ],\n",
       "        [ 0.448,  0.87 ,  0.212, 20.   , 52.   ],\n",
       "        [ 0.467,  0.708,  0.429, 30.   , 46.   ],\n",
       "        [ 0.565,  0.846,  0.438, 33.   , 48.   ],\n",
       "        [ 0.404,  0.688,  0.405, 21.   , 54.   ],\n",
       "        [ 0.386,  0.846,  0.341, 18.   , 41.   ],\n",
       "        [ 0.531,  0.75 ,  0.467, 28.   , 45.   ],\n",
       "        [ 0.407,  0.783,  0.282, 19.   , 47.   ],\n",
       "        [ 0.356,  0.714,  0.293, 14.   , 46.   ],\n",
       "        [ 0.484,  0.778,  0.429, 27.   , 44.   ],\n",
       "        [ 0.407,  0.733,  0.268, 19.   , 46.   ]]),\n",
       " 'Bucks': array([[ 0.404,  0.85 ,  0.237, 24.   , 53.   ],\n",
       "        [ 0.5  ,  0.609,  0.364, 29.   , 42.   ],\n",
       "        [ 0.556,  0.692,  0.556, 25.   , 60.   ],\n",
       "        [ 0.556,  0.692,  0.556, 25.   , 60.   ],\n",
       "        [ 0.494,  0.667,  0.489, 27.   , 44.   ],\n",
       "        [ 0.576,  0.813,  0.412, 32.   , 49.   ],\n",
       "        [ 0.544,  0.619,  0.442, 35.   , 47.   ],\n",
       "        [ 0.449,  0.81 ,  0.31 , 18.   , 45.   ],\n",
       "        [ 0.44 ,  0.778,  0.333, 25.   , 45.   ],\n",
       "        [ 0.448,  0.48 ,  0.378, 22.   , 57.   ],\n",
       "        [ 0.506,  0.75 ,  0.321, 27.   , 46.   ],\n",
       "        [ 0.549,  0.704,  0.323, 32.   , 52.   ],\n",
       "        [ 0.552,  0.583,  0.5  , 38.   , 53.   ],\n",
       "        [ 0.471,  0.929,  0.438, 33.   , 53.   ],\n",
       "        [ 0.482,  0.76 ,  0.378, 25.   , 41.   ],\n",
       "        [ 0.398,  0.696,  0.294, 23.   , 52.   ],\n",
       "        [ 0.407,  0.68 ,  0.324, 23.   , 61.   ],\n",
       "        [ 0.489,  0.806,  0.393, 22.   , 56.   ],\n",
       "        [ 0.535,  0.722,  0.476, 33.   , 52.   ],\n",
       "        [ 0.542,  0.75 ,  0.419, 21.   , 42.   ],\n",
       "        [ 0.447,  0.773,  0.316, 21.   , 48.   ],\n",
       "        [ 0.405,  0.71 ,  0.275, 22.   , 40.   ],\n",
       "        [ 0.575,  0.941,  0.474, 29.   , 43.   ],\n",
       "        [ 0.489,  0.889,  0.368, 24.   , 49.   ],\n",
       "        [ 0.564,  0.667,  0.615, 35.   , 55.   ],\n",
       "        [ 0.5  ,  0.7  ,  0.459, 19.   , 46.   ],\n",
       "        [ 0.444,  0.636,  0.404, 24.   , 49.   ],\n",
       "        [ 0.414,  0.625,  0.389, 21.   , 48.   ],\n",
       "        [ 0.449,  0.739,  0.368, 23.   , 48.   ],\n",
       "        [ 0.429,  0.778,  0.34 , 27.   , 45.   ],\n",
       "        [ 0.48 ,  0.947,  0.324, 19.   , 51.   ],\n",
       "        [ 0.556,  0.609,  0.5  , 32.   , 45.   ],\n",
       "        [ 0.516,  0.667,  0.45 , 33.   , 55.   ],\n",
       "        [ 0.49 ,  0.5  ,  0.405, 19.   , 45.   ],\n",
       "        [ 0.449,  0.815,  0.378, 23.   , 55.   ],\n",
       "        [ 0.539,  0.75 ,  0.486, 30.   , 45.   ],\n",
       "        [ 0.537,  0.87 ,  0.413, 30.   , 53.   ],\n",
       "        [ 0.426,  0.741,  0.242, 16.   , 63.   ],\n",
       "        [ 0.535,  0.708,  0.371, 29.   , 48.   ],\n",
       "        [ 0.422,  0.9  ,  0.25 , 21.   , 44.   ],\n",
       "        [ 0.511,  0.833,  0.4  , 19.   , 52.   ],\n",
       "        [ 0.432,  0.724,  0.184, 24.   , 44.   ],\n",
       "        [ 0.554,  0.867,  0.569, 32.   , 45.   ],\n",
       "        [ 0.554,  0.867,  0.569, 32.   , 45.   ],\n",
       "        [ 0.392,  0.923,  0.39 , 26.   , 47.   ],\n",
       "        [ 0.505,  0.8  ,  0.371, 25.   , 43.   ],\n",
       "        [ 0.482,  0.643,  0.442, 31.   , 48.   ],\n",
       "        [ 0.438,  0.833,  0.289, 21.   , 41.   ],\n",
       "        [ 0.43 ,  0.731,  0.364, 30.   , 59.   ],\n",
       "        [ 0.5  ,  0.773,  0.371, 29.   , 49.   ],\n",
       "        [ 0.488,  0.667,  0.4  , 22.   , 46.   ],\n",
       "        [ 0.515,  0.727,  0.318, 28.   , 54.   ],\n",
       "        [ 0.547,  0.609,  0.471, 25.   , 43.   ],\n",
       "        [ 0.506,  0.864,  0.4  , 24.   , 50.   ],\n",
       "        [ 0.506,  0.733,  0.432, 23.   , 39.   ],\n",
       "        [ 0.457,  0.704,  0.364, 19.   , 33.   ],\n",
       "        [ 0.464,  0.667,  0.342, 24.   , 47.   ],\n",
       "        [ 0.442,  0.818,  0.294, 21.   , 52.   ],\n",
       "        [ 0.434,  0.88 ,  0.378, 33.   , 57.   ],\n",
       "        [ 0.553,  0.947,  0.393, 29.   , 46.   ],\n",
       "        [ 0.406,  0.75 ,  0.231, 22.   , 58.   ],\n",
       "        [ 0.469,  0.857,  0.367, 18.   , 32.   ],\n",
       "        [ 0.532,  0.778,  0.538, 23.   , 42.   ],\n",
       "        [ 0.544,  0.895,  0.308, 25.   , 50.   ],\n",
       "        [ 0.538,  0.9  ,  0.355, 31.   , 47.   ],\n",
       "        [ 0.512,  0.864,  0.438, 25.   , 40.   ],\n",
       "        [ 0.38 ,  0.813,  0.364, 16.   , 52.   ],\n",
       "        [ 0.489,  0.867,  0.475, 28.   , 56.   ],\n",
       "        [ 0.469,  0.826,  0.475, 26.   , 52.   ],\n",
       "        [ 0.484,  0.706,  0.372, 25.   , 51.   ],\n",
       "        [ 0.481,  0.783,  0.286, 20.   , 41.   ],\n",
       "        [ 0.505,  0.786,  0.257, 28.   , 48.   ],\n",
       "        [ 0.527,  0.88 ,  0.41 , 27.   , 38.   ],\n",
       "        [ 0.467,  0.75 ,  0.36 , 24.   , 51.   ],\n",
       "        [ 0.5  ,  0.783,  0.317, 26.   , 34.   ],\n",
       "        [ 0.574,  0.742,  0.367, 34.   , 51.   ],\n",
       "        [ 0.422,  0.75 ,  0.324, 14.   , 41.   ]]),\n",
       " 'Thunder': array([[ 0.381,  0.68 ,  0.324, 22.   , 46.   ],\n",
       "        [ 0.411,  0.737,  0.395, 21.   , 51.   ],\n",
       "        [ 0.465,  0.737,  0.395, 21.   , 37.   ],\n",
       "        [ 0.494,  0.526,  0.324, 20.   , 47.   ],\n",
       "        [ 0.375,  0.333,  0.313, 24.   , 40.   ],\n",
       "        [ 0.375,  0.333,  0.313, 24.   , 40.   ],\n",
       "        [ 0.434,  0.793,  0.269, 18.   , 52.   ],\n",
       "        [ 0.43 ,  0.789,  0.323, 23.   , 42.   ],\n",
       "        [ 0.457,  0.667,  0.333, 26.   , 44.   ],\n",
       "        [ 0.465,  0.853,  0.421, 23.   , 36.   ],\n",
       "        [ 0.438,  0.789,  0.382, 21.   , 45.   ],\n",
       "        [ 0.434,  0.846,  0.303, 19.   , 51.   ],\n",
       "        [ 0.459,  0.706,  0.382, 28.   , 44.   ],\n",
       "        [ 0.511,  0.8  ,  0.364, 25.   , 43.   ],\n",
       "        [ 0.474,  0.563,  0.417, 32.   , 49.   ],\n",
       "        [ 0.435,  0.741,  0.303, 23.   , 46.   ],\n",
       "        [ 0.432,  0.842,  0.359, 20.   , 38.   ],\n",
       "        [ 0.416,  0.909,  0.409, 21.   , 52.   ],\n",
       "        [ 0.523,  0.625,  0.381, 31.   , 39.   ],\n",
       "        [ 0.42 ,  0.733,  0.234, 24.   , 37.   ],\n",
       "        [ 0.451,  0.9  ,  0.5  , 25.   , 55.   ],\n",
       "        [ 0.487,  0.714,  0.25 , 22.   , 40.   ],\n",
       "        [ 0.575,  0.824,  0.516, 26.   , 46.   ],\n",
       "        [ 0.453,  0.647,  0.286, 26.   , 44.   ],\n",
       "        [ 0.41 ,  0.625,  0.289, 16.   , 50.   ],\n",
       "        [ 0.469,  0.636,  0.346, 17.   , 47.   ],\n",
       "        [ 0.453,  0.75 ,  0.424, 19.   , 64.   ],\n",
       "        [ 0.423,  0.84 ,  0.185, 17.   , 42.   ],\n",
       "        [ 0.435,  0.706,  0.39 , 29.   , 46.   ],\n",
       "        [ 0.449,  0.692,  0.406, 28.   , 44.   ],\n",
       "        [ 0.5  ,  0.474,  0.4  , 21.   , 45.   ],\n",
       "        [ 0.478,  0.56 ,  0.259, 22.   , 50.   ],\n",
       "        [ 0.419,  0.84 ,  0.303, 18.   , 40.   ],\n",
       "        [ 0.382,  0.8  ,  0.282, 18.   , 53.   ],\n",
       "        [ 0.342,  0.478,  0.211, 23.   , 48.   ],\n",
       "        [ 0.489,  0.708,  0.433, 23.   , 47.   ],\n",
       "        [ 0.357,  0.72 ,  0.306, 21.   , 57.   ],\n",
       "        [ 0.429,  0.938,  0.316, 13.   , 45.   ],\n",
       "        [ 0.532,  0.563,  0.308, 20.   , 54.   ],\n",
       "        [ 0.489,  0.9  ,  0.548, 21.   , 58.   ],\n",
       "        [ 0.455,  0.792,  0.278, 25.   , 54.   ],\n",
       "        [ 0.455,  0.792,  0.278, 25.   , 54.   ],\n",
       "        [ 0.442,  0.905,  0.317, 22.   , 52.   ],\n",
       "        [ 0.367,  0.704,  0.271, 20.   , 38.   ],\n",
       "        [ 0.46 ,  0.75 ,  0.413, 28.   , 38.   ],\n",
       "        [ 0.437,  0.667,  0.324, 16.   , 62.   ],\n",
       "        [ 0.544,  0.941,  0.385, 24.   , 34.   ],\n",
       "        [ 0.419,  0.652,  0.326, 22.   , 41.   ],\n",
       "        [ 0.471,  0.769,  0.333, 24.   , 29.   ],\n",
       "        [ 0.442,  0.643,  0.2  , 22.   , 51.   ],\n",
       "        [ 0.512,  0.6  ,  0.45 , 25.   , 43.   ],\n",
       "        [ 0.447,  0.714,  0.4  , 21.   , 48.   ],\n",
       "        [ 0.391,  0.737,  0.316, 23.   , 55.   ],\n",
       "        [ 0.47 ,  0.857,  0.226, 32.   , 46.   ],\n",
       "        [ 0.4  ,  0.765,  0.313, 26.   , 50.   ],\n",
       "        [ 0.449,  0.857,  0.463, 25.   , 39.   ],\n",
       "        [ 0.365,  0.524,  0.3  , 20.   , 46.   ],\n",
       "        [ 0.544,  0.75 ,  0.464, 22.   , 37.   ],\n",
       "        [ 0.333,  0.647,  0.231, 13.   , 45.   ],\n",
       "        [ 0.435,  0.808,  0.3  , 20.   , 45.   ],\n",
       "        [ 0.467,  0.846,  0.35 , 16.   , 43.   ],\n",
       "        [ 0.366,  0.75 ,  0.382, 18.   , 38.   ],\n",
       "        [ 0.462,  0.68 ,  0.333, 22.   , 52.   ],\n",
       "        [ 0.471,  0.9  ,  0.568, 27.   , 47.   ],\n",
       "        [ 0.393,  0.783,  0.395, 19.   , 38.   ],\n",
       "        [ 0.353,  0.708,  0.235, 17.   , 46.   ],\n",
       "        [ 0.387,  0.556,  0.412, 13.   , 50.   ],\n",
       "        [ 0.402,  0.731,  0.179, 19.   , 56.   ],\n",
       "        [ 0.451,  0.857,  0.424, 22.   , 46.   ],\n",
       "        [ 0.434,  0.815,  0.394, 23.   , 48.   ],\n",
       "        [ 0.462,  0.688,  0.31 , 26.   , 55.   ],\n",
       "        [ 0.449,  0.565,  0.233, 21.   , 38.   ],\n",
       "        [ 0.481,  0.778,  0.433, 25.   , 51.   ],\n",
       "        [ 0.409,  0.8  ,  0.231, 21.   , 39.   ],\n",
       "        [ 0.404,  0.6  ,  0.243, 21.   , 41.   ],\n",
       "        [ 0.391,  0.655,  0.297, 23.   , 38.   ],\n",
       "        [ 0.464,  0.679,  0.391, 22.   , 45.   ]]),\n",
       " 'Nets': array([[ 0.514,  0.644,  0.467, 23.   , 41.   ],\n",
       "        [ 0.457,  0.813,  0.429, 24.   , 57.   ],\n",
       "        [ 0.41 ,  0.882,  0.333, 28.   , 50.   ],\n",
       "        [ 0.41 ,  0.882,  0.333, 28.   , 50.   ],\n",
       "        [ 0.54 ,  0.783,  0.463, 30.   , 40.   ],\n",
       "        [ 0.54 ,  0.783,  0.463, 30.   , 40.   ],\n",
       "        [ 0.407,  0.826,  0.189, 19.   , 45.   ],\n",
       "        [ 0.407,  0.826,  0.189, 19.   , 45.   ],\n",
       "        [ 0.494,  0.903,  0.438, 25.   , 51.   ],\n",
       "        [ 0.559,  0.75 ,  0.389, 31.   , 51.   ],\n",
       "        [ 0.454,  0.655,  0.405, 30.   , 48.   ],\n",
       "        [ 0.506,  0.833,  0.294, 23.   , 43.   ],\n",
       "        [ 0.608,  0.667,  0.5  , 31.   , 41.   ],\n",
       "        [ 0.538,  0.88 ,  0.457, 24.   , 41.   ],\n",
       "        [ 0.548,  0.857,  0.484, 26.   , 49.   ],\n",
       "        [ 0.53 ,  0.808,  0.514, 34.   , 47.   ],\n",
       "        [ 0.4  ,  0.864,  0.289, 24.   , 49.   ],\n",
       "        [ 0.57 ,  0.808,  0.419, 25.   , 44.   ],\n",
       "        [ 0.488,  0.759,  0.405, 29.   , 40.   ],\n",
       "        [ 0.421,  0.886,  0.29 , 20.   , 46.   ],\n",
       "        [ 0.494,  0.71 ,  0.425, 30.   , 41.   ],\n",
       "        [ 0.533,  0.786,  0.444, 30.   , 51.   ],\n",
       "        [ 0.407,  0.737,  0.318, 21.   , 47.   ],\n",
       "        [ 0.477,  0.818,  0.452, 21.   , 45.   ],\n",
       "        [ 0.488,  0.727,  0.222, 22.   , 35.   ],\n",
       "        [ 0.579,  0.773,  0.414, 29.   , 41.   ],\n",
       "        [ 0.489,  0.727,  0.31 , 24.   , 35.   ],\n",
       "        [ 0.471,  0.88 ,  0.333, 31.   , 50.   ],\n",
       "        [ 0.489,  1.   ,  0.361, 25.   , 45.   ],\n",
       "        [ 0.484,  0.75 ,  0.444, 34.   , 56.   ],\n",
       "        [ 0.457,  0.769,  0.313, 27.   , 45.   ],\n",
       "        [ 0.554,  0.818,  0.463, 37.   , 45.   ],\n",
       "        [ 0.438,  0.867,  0.185, 19.   , 42.   ],\n",
       "        [ 0.553,  0.938,  0.512, 35.   , 37.   ],\n",
       "        [ 0.43 ,  0.857,  0.344, 26.   , 47.   ],\n",
       "        [ 0.529,  0.852,  0.464, 30.   , 44.   ],\n",
       "        [ 0.421,  0.842,  0.317, 20.   , 42.   ],\n",
       "        [ 0.608,  0.741,  0.429, 33.   , 43.   ],\n",
       "        [ 0.471,  0.6  ,  0.412, 26.   , 52.   ],\n",
       "        [ 0.566,  0.765,  0.533, 35.   , 37.   ],\n",
       "        [ 0.432,  0.778,  0.457, 26.   , 53.   ],\n",
       "        [ 0.539,  0.839,  0.517, 21.   , 43.   ],\n",
       "        [ 0.539,  0.839,  0.517, 21.   , 43.   ],\n",
       "        [ 0.427,  0.68 ,  0.362, 23.   , 46.   ],\n",
       "        [ 0.427,  0.68 ,  0.362, 23.   , 46.   ],\n",
       "        [ 0.469,  0.952,  0.452, 26.   , 42.   ],\n",
       "        [ 0.484,  0.706,  0.4  , 29.   , 46.   ],\n",
       "        [ 0.453,  0.889,  0.366, 30.   , 52.   ],\n",
       "        [ 0.483,  0.882,  0.326, 23.   , 29.   ],\n",
       "        [ 0.531,  0.85 ,  0.344, 29.   , 36.   ],\n",
       "        [ 0.57 ,  0.875,  0.422, 33.   , 50.   ],\n",
       "        [ 0.568,  0.818,  0.528, 33.   , 45.   ],\n",
       "        [ 0.443,  0.882,  0.366, 21.   , 34.   ],\n",
       "        [ 0.5  ,  0.875,  0.367, 30.   , 34.   ],\n",
       "        [ 0.538,  0.9  ,  0.41 , 35.   , 45.   ],\n",
       "        [ 0.573,  0.583,  0.574, 31.   , 35.   ],\n",
       "        [ 0.573,  0.933,  0.5  , 28.   , 37.   ],\n",
       "        [ 0.494,  0.625,  0.462, 23.   , 39.   ],\n",
       "        [ 0.478,  0.684,  0.289, 21.   , 40.   ],\n",
       "        [ 0.47 ,  0.765,  0.415, 35.   , 51.   ],\n",
       "        [ 0.576,  0.708,  0.486, 33.   , 53.   ],\n",
       "        [ 0.483,  0.775,  0.333, 22.   , 50.   ],\n",
       "        [ 0.473,  0.739,  0.27 , 24.   , 39.   ],\n",
       "        [ 0.494,  0.778,  0.3  , 25.   , 47.   ],\n",
       "        [ 0.361,  0.733,  0.2  , 19.   , 48.   ],\n",
       "        [ 0.44 ,  0.765,  0.394, 19.   , 49.   ],\n",
       "        [ 0.484,  0.857,  0.393, 28.   , 35.   ],\n",
       "        [ 0.505,  0.833,  0.417, 31.   , 57.   ],\n",
       "        [ 0.518,  0.9  ,  0.19 , 23.   , 43.   ],\n",
       "        [ 0.476,  0.667,  0.395, 26.   , 38.   ],\n",
       "        [ 0.551,  0.786,  0.378, 30.   , 44.   ],\n",
       "        [ 0.396,  0.783,  0.317, 19.   , 50.   ],\n",
       "        [ 0.482,  1.   ,  0.4  , 30.   , 41.   ],\n",
       "        [ 0.528,  0.857,  0.343, 35.   , 50.   ],\n",
       "        [ 0.427,  0.882,  0.405, 18.   , 53.   ],\n",
       "        [ 0.488,  0.615,  0.465, 21.   , 39.   ],\n",
       "        [ 0.432,  0.933,  0.351, 18.   , 51.   ],\n",
       "        [ 0.621,  0.818,  0.516, 27.   , 35.   ],\n",
       "        [ 0.472,  0.76 ,  0.364, 32.   , 51.   ]]),\n",
       " 'Grizzlies': array([[ 0.474,  0.773,  0.38 , 33.   , 58.   ],\n",
       "        [ 0.4  ,  0.744,  0.396, 21.   , 43.   ],\n",
       "        [ 0.516,  0.611,  0.37 , 27.   , 42.   ],\n",
       "        [ 0.398,  0.862,  0.302, 20.   , 46.   ],\n",
       "        [ 0.398,  0.862,  0.302, 20.   , 46.   ],\n",
       "        [ 0.411,  0.875,  0.273, 23.   , 50.   ],\n",
       "        [ 0.414,  0.769,  0.385, 24.   , 38.   ],\n",
       "        [ 0.434,  0.875,  0.355, 27.   , 48.   ],\n",
       "        [ 0.459,  0.857,  0.406, 29.   , 46.   ],\n",
       "        [ 0.434,  0.667,  0.276, 27.   , 43.   ],\n",
       "        [ 0.494,  0.75 ,  0.423, 31.   , 40.   ],\n",
       "        [ 0.425,  0.708,  0.343, 28.   , 43.   ],\n",
       "        [ 0.425,  0.897,  0.333, 27.   , 42.   ],\n",
       "        [ 0.5  ,  0.722,  0.469, 34.   , 46.   ],\n",
       "        [ 0.477,  0.889,  0.419, 23.   , 32.   ],\n",
       "        [ 0.506,  0.788,  0.462, 31.   , 44.   ],\n",
       "        [ 0.467,  0.87 ,  0.25 , 20.   , 49.   ],\n",
       "        [ 0.387,  0.87 ,  0.152, 19.   , 49.   ],\n",
       "        [ 0.543,  0.688,  0.579, 27.   , 48.   ],\n",
       "        [ 0.402,  0.75 ,  0.321, 24.   , 37.   ],\n",
       "        [ 0.396,  0.958,  0.235, 21.   , 56.   ],\n",
       "        [ 0.505,  0.655,  0.348, 31.   , 60.   ],\n",
       "        [ 0.46 ,  1.   ,  0.5  , 27.   , 45.   ],\n",
       "        [ 0.353,  0.76 ,  0.238, 22.   , 50.   ],\n",
       "        [ 0.464,  0.81 ,  0.308, 24.   , 46.   ],\n",
       "        [ 0.389,  0.871,  0.313, 25.   , 60.   ],\n",
       "        [ 0.5  ,  0.667,  0.343, 38.   , 54.   ],\n",
       "        [ 0.467,  0.783,  0.278, 23.   , 46.   ],\n",
       "        [ 0.442,  0.68 ,  0.487, 26.   , 53.   ],\n",
       "        [ 0.461,  0.684,  0.3  , 27.   , 50.   ],\n",
       "        [ 0.471,  0.857,  0.321, 27.   , 51.   ],\n",
       "        [ 0.467,  0.762,  0.382, 27.   , 45.   ],\n",
       "        [ 0.42 ,  0.867,  0.281, 26.   , 44.   ],\n",
       "        [ 0.343,  0.813,  0.282, 25.   , 57.   ],\n",
       "        [ 0.395,  0.833,  0.39 , 26.   , 46.   ],\n",
       "        [ 0.495,  0.593,  0.3  , 33.   , 49.   ],\n",
       "        [ 0.573,  0.938,  0.485, 32.   , 44.   ],\n",
       "        [ 0.5  ,  0.833,  0.333, 30.   , 48.   ],\n",
       "        [ 0.44 ,  0.629,  0.333, 23.   , 49.   ],\n",
       "        [ 0.444,  0.542,  0.318, 18.   , 56.   ],\n",
       "        [ 0.426,  0.696,  0.275, 30.   , 49.   ],\n",
       "        [ 0.5  ,  0.645,  0.333, 29.   , 51.   ],\n",
       "        [ 0.429,  0.759,  0.345, 20.   , 56.   ],\n",
       "        [ 0.429,  0.759,  0.345, 20.   , 56.   ],\n",
       "        [ 0.43 ,  0.72 ,  0.273, 26.   , 46.   ],\n",
       "        [ 0.478,  0.8  ,  0.359, 34.   , 48.   ],\n",
       "        [ 0.513,  0.762,  0.25 , 32.   , 40.   ],\n",
       "        [ 0.472,  0.769,  0.32 , 33.   , 47.   ],\n",
       "        [ 0.56 ,  0.667,  0.486, 34.   , 45.   ],\n",
       "        [ 0.559,  0.778,  0.5  , 37.   , 53.   ],\n",
       "        [ 0.452,  0.958,  0.36 , 27.   , 36.   ],\n",
       "        [ 0.444,  0.842,  0.333, 27.   , 45.   ],\n",
       "        [ 0.488,  0.789,  0.414, 31.   , 33.   ],\n",
       "        [ 0.532,  0.789,  0.429, 31.   , 43.   ],\n",
       "        [ 0.394,  0.632,  0.194, 17.   , 51.   ],\n",
       "        [ 0.532,  0.821,  0.333, 27.   , 56.   ],\n",
       "        [ 0.495,  0.783,  0.448, 26.   , 44.   ],\n",
       "        [ 0.511,  0.724,  0.318, 27.   , 32.   ],\n",
       "        [ 0.437,  0.692,  0.217, 15.   , 39.   ],\n",
       "        [ 0.475,  0.846,  0.367, 19.   , 56.   ],\n",
       "        [ 0.454,  0.778,  0.4  , 27.   , 48.   ],\n",
       "        [ 0.402,  0.767,  0.273, 24.   , 47.   ],\n",
       "        [ 0.541,  0.708,  0.355, 31.   , 47.   ],\n",
       "        [ 0.494,  0.8  ,  0.421, 30.   , 49.   ],\n",
       "        [ 0.548,  0.75 ,  0.415, 30.   , 42.   ],\n",
       "        [ 0.539,  0.857,  0.425, 30.   , 54.   ],\n",
       "        [ 0.5  ,  0.618,  0.467, 33.   , 43.   ],\n",
       "        [ 0.523,  0.792,  0.425, 33.   , 42.   ],\n",
       "        [ 0.548,  0.917,  0.375, 31.   , 43.   ],\n",
       "        [ 0.477,  0.75 ,  0.425, 33.   , 47.   ],\n",
       "        [ 0.452,  0.696,  0.433, 19.   , 42.   ],\n",
       "        [ 0.531,  0.773,  0.3  , 33.   , 39.   ],\n",
       "        [ 0.462,  0.857,  0.522, 22.   , 54.   ],\n",
       "        [ 0.42 ,  0.774,  0.125, 20.   , 45.   ],\n",
       "        [ 0.458,  0.619,  0.345, 21.   , 55.   ],\n",
       "        [ 0.536,  0.75 ,  0.483, 30.   , 46.   ],\n",
       "        [ 0.427,  0.647,  0.27 , 25.   , 42.   ],\n",
       "        [ 0.447,  0.731,  0.326, 24.   , 56.   ],\n",
       "        [ 0.435,  0.789,  0.24 , 25.   , 39.   ],\n",
       "        [ 0.408,  0.846,  0.429, 22.   , 47.   ]]),\n",
       " 'Raptors': array([[ 0.38 ,  0.737,  0.356, 27.   , 37.   ],\n",
       "        [ 0.427,  0.75 ,  0.304, 26.   , 35.   ],\n",
       "        [ 0.41 ,  0.714,  0.327, 21.   , 53.   ],\n",
       "        [ 0.4  ,  0.763,  0.351, 20.   , 37.   ],\n",
       "        [ 0.455,  0.846,  0.4  , 33.   , 40.   ],\n",
       "        [ 0.419,  0.885,  0.429, 28.   , 43.   ],\n",
       "        [ 0.5  ,  0.889,  0.364, 23.   , 46.   ],\n",
       "        [ 0.398,  0.889,  0.327, 27.   , 41.   ],\n",
       "        [ 0.464,  0.667,  0.425, 22.   , 45.   ],\n",
       "        [ 0.404,  0.833,  0.4  , 26.   , 46.   ],\n",
       "        [ 0.488,  0.818,  0.406, 20.   , 35.   ],\n",
       "        [ 0.456,  0.955,  0.308, 27.   , 48.   ],\n",
       "        [ 0.418,  0.839,  0.303, 24.   , 38.   ],\n",
       "        [ 0.494,  0.889,  0.412, 25.   , 39.   ],\n",
       "        [ 0.43 ,  0.846,  0.297, 29.   , 38.   ],\n",
       "        [ 0.449,  0.963,  0.39 , 29.   , 48.   ],\n",
       "        [ 0.442,  0.833,  0.333, 17.   , 34.   ],\n",
       "        [ 0.438,  0.826,  0.459, 23.   , 50.   ],\n",
       "        [ 0.482,  0.786,  0.477, 31.   , 31.   ],\n",
       "        [ 0.506,  0.913,  0.5  , 31.   , 45.   ],\n",
       "        [ 0.411,  0.875,  0.267, 20.   , 38.   ],\n",
       "        [ 0.448,  0.758,  0.333, 17.   , 45.   ],\n",
       "        [ 0.534,  0.84 ,  0.429, 26.   , 53.   ],\n",
       "        [ 0.468,  0.727,  0.212, 22.   , 45.   ],\n",
       "        [ 0.396,  0.8  ,  0.152, 17.   , 42.   ],\n",
       "        [ 0.433,  0.818,  0.324, 19.   , 41.   ],\n",
       "        [ 0.477,  0.692,  0.256, 16.   , 42.   ],\n",
       "        [ 0.466,  0.84 ,  0.467, 21.   , 54.   ],\n",
       "        [ 0.5  ,  0.944,  0.4  , 24.   , 42.   ],\n",
       "        [ 0.385,  0.875,  0.447, 23.   , 47.   ],\n",
       "        [ 0.433,  0.857,  0.383, 23.   , 48.   ],\n",
       "        [ 0.544,  0.9  ,  0.276, 32.   , 40.   ],\n",
       "        [ 0.396,  0.842,  0.349, 24.   , 47.   ],\n",
       "        [ 0.448,  0.778,  0.368, 23.   , 50.   ],\n",
       "        [ 0.383,  0.708,  0.313, 18.   , 46.   ],\n",
       "        [ 0.407,  0.842,  0.27 , 21.   , 35.   ],\n",
       "        [ 0.402,  0.793,  0.316, 21.   , 48.   ],\n",
       "        [ 0.411,  0.643,  0.365, 27.   , 46.   ],\n",
       "        [ 0.476,  0.739,  0.341, 23.   , 37.   ],\n",
       "        [ 0.458,  0.733,  0.366, 32.   , 46.   ],\n",
       "        [ 0.458,  0.733,  0.366, 32.   , 46.   ],\n",
       "        [ 0.356,  0.857,  0.378, 21.   , 47.   ],\n",
       "        [ 0.356,  0.857,  0.378, 21.   , 47.   ],\n",
       "        [ 0.418,  0.963,  0.292, 21.   , 40.   ],\n",
       "        [ 0.494,  0.719,  0.4  , 18.   , 42.   ],\n",
       "        [ 0.582,  0.818,  0.513, 30.   , 44.   ],\n",
       "        [ 0.406,  0.636,  0.342, 20.   , 48.   ],\n",
       "        [ 0.449,  1.   ,  0.404, 27.   , 43.   ],\n",
       "        [ 0.411,  0.692,  0.429, 24.   , 45.   ],\n",
       "        [ 0.409,  0.889,  0.368, 24.   , 39.   ],\n",
       "        [ 0.482,  0.92 ,  0.444, 32.   , 40.   ],\n",
       "        [ 0.505,  0.857,  0.406, 22.   , 41.   ],\n",
       "        [ 0.423,  0.765,  0.342, 24.   , 38.   ],\n",
       "        [ 0.545,  0.923,  0.541, 28.   , 37.   ],\n",
       "        [ 0.527,  0.87 ,  0.594, 28.   , 46.   ],\n",
       "        [ 0.494,  0.789,  0.321, 26.   , 32.   ],\n",
       "        [ 0.505,  0.714,  0.395, 25.   , 44.   ],\n",
       "        [ 0.487,  0.957,  0.343, 26.   , 37.   ],\n",
       "        [ 0.329,  0.818,  0.3  , 16.   , 51.   ],\n",
       "        [ 0.5  ,  0.824,  0.455, 30.   , 32.   ],\n",
       "        [ 0.495,  0.824,  0.42 , 36.   , 28.   ],\n",
       "        [ 0.385,  0.833,  0.326, 25.   , 47.   ],\n",
       "        [ 0.378,  0.714,  0.267, 23.   , 38.   ],\n",
       "        [ 0.43 ,  0.765,  0.3  , 27.   , 30.   ],\n",
       "        [ 0.389,  0.842,  0.326, 19.   , 37.   ],\n",
       "        [ 0.425,  0.789,  0.25 , 19.   , 44.   ],\n",
       "        [ 0.407,  0.821,  0.306, 21.   , 39.   ],\n",
       "        [ 0.389,  0.85 ,  0.348, 21.   , 35.   ],\n",
       "        [ 0.616,  0.857,  0.531, 29.   , 39.   ],\n",
       "        [ 0.418,  0.826,  0.324, 19.   , 40.   ],\n",
       "        [ 0.434,  0.737,  0.386, 31.   , 33.   ],\n",
       "        [ 0.482,  0.833,  0.5  , 27.   , 36.   ],\n",
       "        [ 0.447,  0.667,  0.364, 26.   , 39.   ],\n",
       "        [ 0.447,  0.71 ,  0.395, 24.   , 49.   ],\n",
       "        [ 0.46 ,  0.615,  0.343, 22.   , 37.   ],\n",
       "        [ 0.444,  0.556,  0.333, 24.   , 32.   ],\n",
       "        [ 0.494,  0.765,  0.342, 19.   , 44.   ]]),\n",
       " 'Clippers': array([[ 0.461,  0.87 ,  0.5  , 23.   , 37.   ],\n",
       "        [ 0.342,  0.85 ,  0.121, 13.   , 36.   ],\n",
       "        [ 0.534,  0.875,  0.516, 32.   , 46.   ],\n",
       "        [ 0.495,  0.727,  0.474, 30.   , 47.   ],\n",
       "        [ 0.5  ,  0.923,  0.429, 29.   , 45.   ],\n",
       "        [ 0.489,  0.8  ,  0.526, 28.   , 35.   ],\n",
       "        [ 0.473,  0.852,  0.486, 26.   , 36.   ],\n",
       "        [ 0.552,  0.7  ,  0.487, 27.   , 52.   ],\n",
       "        [ 0.477,  0.944,  0.457, 24.   , 48.   ],\n",
       "        [ 0.512,  0.96 ,  0.303, 21.   , 48.   ],\n",
       "        [ 0.446,  0.75 ,  0.304, 26.   , 46.   ],\n",
       "        [ 0.519,  0.81 ,  0.438, 26.   , 47.   ],\n",
       "        [ 0.414,  0.87 ,  0.286, 19.   , 53.   ],\n",
       "        [ 0.477,  0.861,  0.433, 31.   , 47.   ],\n",
       "        [ 0.553,  0.8  ,  0.469, 31.   , 39.   ],\n",
       "        [ 0.442,  0.647,  0.346, 18.   , 47.   ],\n",
       "        [ 0.483,  0.909,  0.333, 22.   , 45.   ],\n",
       "        [ 0.46 ,  0.722,  0.429, 24.   , 52.   ],\n",
       "        [ 0.574,  0.615,  0.5  , 26.   , 46.   ],\n",
       "        [ 0.458,  0.828,  0.439, 23.   , 56.   ],\n",
       "        [ 0.523,  1.   ,  0.353, 26.   , 42.   ],\n",
       "        [ 0.494,  0.9  ,  0.447, 26.   , 44.   ],\n",
       "        [ 0.529,  0.778,  0.423, 26.   , 38.   ],\n",
       "        [ 0.537,  0.8  ,  0.559, 25.   , 46.   ],\n",
       "        [ 0.416,  1.   ,  0.324, 25.   , 48.   ],\n",
       "        [ 0.412,  0.875,  0.294, 17.   , 45.   ],\n",
       "        [ 0.477,  0.889,  0.5  , 23.   , 50.   ],\n",
       "        [ 0.517,  0.833,  0.39 , 24.   , 48.   ],\n",
       "        [ 0.5  ,  0.917,  0.486, 26.   , 35.   ],\n",
       "        [ 0.545,  0.846,  0.514, 31.   , 38.   ],\n",
       "        [ 0.625,  0.762,  0.556, 35.   , 37.   ],\n",
       "        [ 0.506,  0.765,  0.5  , 31.   , 48.   ],\n",
       "        [ 0.452,  0.75 ,  0.519, 28.   , 43.   ],\n",
       "        [ 0.434,  0.75 ,  0.412, 21.   , 39.   ],\n",
       "        [ 0.52 ,  0.923,  0.441, 28.   , 42.   ],\n",
       "        [ 0.532,  0.885,  0.419, 23.   , 48.   ],\n",
       "        [ 0.43 ,  0.875,  0.343, 24.   , 43.   ],\n",
       "        [ 0.357,  0.647,  0.278, 15.   , 55.   ],\n",
       "        [ 0.464,  0.708,  0.314, 27.   , 34.   ],\n",
       "        [ 0.473,  0.737,  0.35 , 22.   , 40.   ],\n",
       "        [ 0.554,  0.833,  0.5  , 32.   , 38.   ],\n",
       "        [ 0.388,  0.875,  0.394, 19.   , 43.   ],\n",
       "        [ 0.388,  0.875,  0.394, 19.   , 43.   ],\n",
       "        [ 0.482,  0.789,  0.586, 24.   , 37.   ],\n",
       "        [ 0.444,  1.   ,  0.324, 19.   , 48.   ],\n",
       "        [ 0.482,  0.846,  0.452, 23.   , 37.   ],\n",
       "        [ 0.584,  0.8  ,  0.514, 29.   , 47.   ],\n",
       "        [ 0.404,  0.864,  0.308, 23.   , 46.   ],\n",
       "        [ 0.414,  0.909,  0.405, 22.   , 55.   ],\n",
       "        [ 0.489,  1.   ,  0.351, 25.   , 49.   ],\n",
       "        [ 0.543,  0.857,  0.447, 26.   , 38.   ],\n",
       "        [ 0.455,  0.882,  0.417, 21.   , 39.   ],\n",
       "        [ 0.557,  0.765,  0.588, 22.   , 46.   ],\n",
       "        [ 0.5  ,  0.862,  0.522, 23.   , 48.   ],\n",
       "        [ 0.581,  0.8  ,  0.433, 20.   , 37.   ],\n",
       "        [ 0.405,  0.875,  0.353, 19.   , 41.   ],\n",
       "        [ 0.55 ,  0.944,  0.4  , 34.   , 47.   ],\n",
       "        [ 0.412,  0.857,  0.318, 20.   , 49.   ],\n",
       "        [ 0.494,  0.889,  0.474, 28.   , 35.   ],\n",
       "        [ 0.463,  0.926,  0.457, 24.   , 45.   ],\n",
       "        [ 0.457,  0.842,  0.349, 23.   , 32.   ],\n",
       "        [ 0.5  ,  0.818,  0.438, 23.   , 46.   ],\n",
       "        [ 0.42 ,  0.545,  0.281, 22.   , 37.   ],\n",
       "        [ 0.557,  0.633,  0.515, 23.   , 44.   ],\n",
       "        [ 0.382,  0.944,  0.382, 16.   , 57.   ],\n",
       "        [ 0.539,  0.895,  0.464, 34.   , 48.   ],\n",
       "        [ 0.398,  0.905,  0.241, 10.   , 47.   ],\n",
       "        [ 0.451,  0.625,  0.487, 26.   , 43.   ],\n",
       "        [ 0.5  ,  0.8  ,  0.289, 24.   , 45.   ],\n",
       "        [ 0.402,  0.826,  0.353, 22.   , 58.   ],\n",
       "        [ 0.4  ,  1.   ,  0.311, 20.   , 44.   ],\n",
       "        [ 0.513,  0.778,  0.387, 24.   , 36.   ],\n",
       "        [ 0.5  ,  1.   ,  0.344, 25.   , 49.   ],\n",
       "        [ 0.533,  0.75 ,  0.467, 28.   , 44.   ],\n",
       "        [ 0.484,  0.933,  0.314, 29.   , 35.   ],\n",
       "        [ 0.425,  0.8  ,  0.233, 17.   , 44.   ]]),\n",
       " 'Spurs': array([[ 0.376,  0.68 ,  0.395, 23.   , 45.   ],\n",
       "        [ 0.47 ,  0.688,  0.412, 36.   , 53.   ],\n",
       "        [ 0.47 ,  0.688,  0.412, 36.   , 53.   ],\n",
       "        [ 0.46 ,  0.739,  0.417, 25.   , 39.   ],\n",
       "        [ 0.424,  0.692,  0.382, 23.   , 45.   ],\n",
       "        [ 0.419,  0.714,  0.316, 23.   , 45.   ],\n",
       "        [ 0.457,  0.75 ,  0.29 , 26.   , 41.   ],\n",
       "        [ 0.4  ,  0.783,  0.208, 19.   , 58.   ],\n",
       "        [ 0.461,  0.767,  0.429, 21.   , 49.   ],\n",
       "        [ 0.5  ,  0.909,  0.484, 27.   , 44.   ],\n",
       "        [ 0.561,  0.625,  0.286, 22.   , 46.   ],\n",
       "        [ 0.543,  0.808,  0.435, 29.   , 41.   ],\n",
       "        [ 0.47 ,  0.808,  0.448, 25.   , 38.   ],\n",
       "        [ 0.416,  0.682,  0.351, 28.   , 42.   ],\n",
       "        [ 0.448,  0.75 ,  0.269, 28.   , 45.   ],\n",
       "        [ 0.406,  0.842,  0.355, 24.   , 46.   ],\n",
       "        [ 0.372,  0.905,  0.333, 20.   , 45.   ],\n",
       "        [ 0.477,  0.821,  0.375, 24.   , 38.   ],\n",
       "        [ 0.454,  0.667,  0.429, 30.   , 48.   ],\n",
       "        [ 0.483,  0.714,  0.429, 31.   , 45.   ],\n",
       "        [ 0.471,  1.   ,  0.323, 23.   , 46.   ],\n",
       "        [ 0.449,  0.778,  0.345, 24.   , 45.   ],\n",
       "        [ 0.462,  0.824,  0.344, 17.   , 38.   ],\n",
       "        [ 0.459,  0.842,  0.318, 22.   , 40.   ],\n",
       "        [ 0.402,  0.846,  0.348, 16.   , 39.   ],\n",
       "        [ 0.541,  0.643,  0.4  , 29.   , 41.   ],\n",
       "        [ 0.505,  0.786,  0.37 , 24.   , 41.   ],\n",
       "        [ 0.467,  0.706,  0.385, 24.   , 54.   ],\n",
       "        [ 0.445,  0.75 ,  0.325, 25.   , 46.   ],\n",
       "        [ 0.485,  0.844,  0.345, 22.   , 46.   ],\n",
       "        [ 0.422,  0.813,  0.192, 22.   , 38.   ],\n",
       "        [ 0.474,  0.9  ,  0.304, 30.   , 49.   ],\n",
       "        [ 0.403,  0.75 ,  0.286, 21.   , 38.   ],\n",
       "        [ 0.463,  0.778,  0.458, 28.   , 43.   ],\n",
       "        [ 0.448,  0.765,  0.387, 20.   , 48.   ],\n",
       "        [ 0.596,  0.81 ,  0.586, 27.   , 46.   ],\n",
       "        [ 0.443,  0.875,  0.154, 23.   , 41.   ],\n",
       "        [ 0.51 ,  0.737,  0.292, 30.   , 46.   ],\n",
       "        [ 0.429,  0.593,  0.323, 23.   , 43.   ],\n",
       "        [ 0.409,  0.844,  0.212, 17.   , 41.   ],\n",
       "        [ 0.505,  0.862,  0.4  , 28.   , 48.   ],\n",
       "        [ 0.427,  1.   ,  0.306, 26.   , 47.   ],\n",
       "        [ 0.427,  1.   ,  0.306, 26.   , 47.   ],\n",
       "        [ 0.458,  0.727,  0.5  , 23.   , 44.   ],\n",
       "        [ 0.467,  0.941,  0.457, 28.   , 40.   ],\n",
       "        [ 0.436,  0.828,  0.406, 22.   , 48.   ],\n",
       "        [ 0.383,  0.571,  0.267, 21.   , 45.   ],\n",
       "        [ 0.432,  0.909,  0.286, 26.   , 46.   ],\n",
       "        [ 0.533,  0.875,  0.455, 33.   , 48.   ],\n",
       "        [ 0.372,  0.806,  0.121, 17.   , 43.   ],\n",
       "        [ 0.425,  0.806,  0.32 , 22.   , 44.   ],\n",
       "        [ 0.529,  0.821,  0.387, 27.   , 46.   ],\n",
       "        [ 0.5  ,  0.842,  0.294, 31.   , 43.   ],\n",
       "        [ 0.465,  0.667,  0.36 , 20.   , 44.   ],\n",
       "        [ 0.458,  0.8  ,  0.429, 18.   , 30.   ],\n",
       "        [ 0.424,  0.742,  0.19 , 20.   , 32.   ],\n",
       "        [ 0.566,  0.6  ,  0.48 , 29.   , 45.   ],\n",
       "        [ 0.427,  0.733,  0.258, 19.   , 46.   ],\n",
       "        [ 0.466,  0.818,  0.389, 19.   , 51.   ],\n",
       "        [ 0.479,  0.9  ,  0.364, 29.   , 41.   ],\n",
       "        [ 0.418,  0.667,  0.25 , 23.   , 42.   ],\n",
       "        [ 0.462,  0.857,  0.333, 33.   , 38.   ],\n",
       "        [ 0.542,  0.778,  0.381, 20.   , 41.   ],\n",
       "        [ 0.516,  0.778,  0.4  , 30.   , 47.   ],\n",
       "        [ 0.427,  0.704,  0.436, 26.   , 41.   ],\n",
       "        [ 0.506,  0.75 ,  0.414, 23.   , 46.   ],\n",
       "        [ 0.429,  0.829,  0.286, 27.   , 57.   ],\n",
       "        [ 0.435,  0.844,  0.29 , 22.   , 46.   ],\n",
       "        [ 0.534,  0.857,  0.353, 27.   , 44.   ],\n",
       "        [ 0.466,  0.792,  0.313, 26.   , 40.   ],\n",
       "        [ 0.533,  0.816,  0.458, 29.   , 43.   ],\n",
       "        [ 0.467,  1.   ,  0.278, 25.   , 37.   ],\n",
       "        [ 0.402,  0.65 ,  0.304, 22.   , 35.   ],\n",
       "        [ 0.517,  0.895,  0.182, 20.   , 44.   ],\n",
       "        [ 0.398,  0.87 ,  0.267, 17.   , 40.   ],\n",
       "        [ 0.426,  0.815,  0.258, 21.   , 46.   ],\n",
       "        [ 0.418,  0.842,  0.286, 22.   , 47.   ],\n",
       "        [ 0.351,  0.833,  0.364, 20.   , 55.   ]]),\n",
       " 'Pacers': array([[ 0.371,  0.692,  0.262, 19.   , 45.   ],\n",
       "        [ 0.489,  0.724,  0.235, 28.   , 50.   ],\n",
       "        [ 0.489,  0.724,  0.235, 28.   , 50.   ],\n",
       "        [ 0.511,  0.733,  0.269, 23.   , 37.   ],\n",
       "        [ 0.511,  0.733,  0.269, 23.   , 37.   ],\n",
       "        [ 0.512,  0.813,  0.364, 27.   , 36.   ],\n",
       "        [ 0.483,  0.792,  0.457, 28.   , 44.   ],\n",
       "        [ 0.405,  0.833,  0.38 , 22.   , 32.   ],\n",
       "        [ 0.472,  0.808,  0.391, 21.   , 38.   ],\n",
       "        [ 0.478,  0.708,  0.414, 23.   , 52.   ],\n",
       "        [ 0.446,  0.667,  0.41 , 21.   , 38.   ],\n",
       "        [ 0.495,  0.889,  0.353, 28.   , 44.   ],\n",
       "        [ 0.402,  0.864,  0.333, 23.   , 47.   ],\n",
       "        [ 0.513,  0.822,  0.414, 26.   , 45.   ],\n",
       "        [ 0.488,  0.818,  0.357, 21.   , 41.   ],\n",
       "        [ 0.598,  0.69 ,  0.552, 30.   , 42.   ],\n",
       "        [ 0.441,  0.688,  0.476, 31.   , 37.   ],\n",
       "        [ 0.398,  0.722,  0.276, 23.   , 45.   ],\n",
       "        [ 0.424,  0.806,  0.273, 18.   , 47.   ],\n",
       "        [ 0.457,  0.813,  0.241, 20.   , 39.   ],\n",
       "        [ 0.456,  0.583,  0.359, 27.   , 34.   ],\n",
       "        [ 0.512,  0.8  ,  0.281, 29.   , 34.   ],\n",
       "        [ 0.464,  0.786,  0.441, 25.   , 37.   ],\n",
       "        [ 0.4  ,  0.667,  0.297, 23.   , 48.   ],\n",
       "        [ 0.463,  0.579,  0.303, 29.   , 48.   ],\n",
       "        [ 0.432,  0.75 ,  0.3  , 20.   , 33.   ],\n",
       "        [ 0.591,  0.895,  0.5  , 32.   , 35.   ],\n",
       "        [ 0.458,  0.818,  0.225, 14.   , 42.   ],\n",
       "        [ 0.327,  0.667,  0.235, 20.   , 54.   ],\n",
       "        [ 0.455,  0.8  ,  0.35 , 30.   , 47.   ],\n",
       "        [ 0.417,  0.714,  0.313, 28.   , 39.   ],\n",
       "        [ 0.465,  0.786,  0.333, 25.   , 38.   ],\n",
       "        [ 0.427,  0.952,  0.282, 23.   , 38.   ],\n",
       "        [ 0.434,  0.706,  0.36 , 26.   , 48.   ],\n",
       "        [ 0.621,  0.895,  0.4  , 35.   , 36.   ],\n",
       "        [ 0.481,  0.833,  0.241, 33.   , 49.   ],\n",
       "        [ 0.446,  0.938,  0.341, 28.   , 45.   ],\n",
       "        [ 0.455,  0.8  ,  0.488, 34.   , 40.   ],\n",
       "        [ 0.517,  0.737,  0.273, 28.   , 37.   ],\n",
       "        [ 0.552,  0.8  ,  0.457, 35.   , 54.   ],\n",
       "        [ 0.425,  0.7  ,  0.341, 26.   , 38.   ],\n",
       "        [ 0.451,  0.538,  0.425, 26.   , 33.   ],\n",
       "        [ 0.559,  0.632,  0.346, 34.   , 49.   ],\n",
       "        [ 0.484,  0.692,  0.422, 32.   , 42.   ],\n",
       "        [ 0.485,  0.833,  0.333, 26.   , 37.   ],\n",
       "        [ 0.443,  0.68 ,  0.321, 26.   , 50.   ],\n",
       "        [ 0.478,  0.778,  0.3  , 29.   , 50.   ],\n",
       "        [ 0.416,  0.688,  0.289, 28.   , 33.   ],\n",
       "        [ 0.511,  0.833,  0.4  , 34.   , 47.   ],\n",
       "        [ 0.483,  0.769,  0.314, 30.   , 39.   ],\n",
       "        [ 0.453,  0.867,  0.324, 28.   , 46.   ],\n",
       "        [ 0.391,  0.636,  0.395, 26.   , 43.   ],\n",
       "        [ 0.512,  0.9  ,  0.452, 26.   , 41.   ],\n",
       "        [ 0.506,  0.852,  0.387, 34.   , 43.   ],\n",
       "        [ 0.505,  0.852,  0.5  , 31.   , 51.   ],\n",
       "        [ 0.393,  0.931,  0.326, 26.   , 40.   ],\n",
       "        [ 0.452,  0.8  ,  0.393, 27.   , 35.   ],\n",
       "        [ 0.484,  0.857,  0.276, 27.   , 34.   ],\n",
       "        [ 0.566,  0.75 ,  0.32 , 27.   , 27.   ],\n",
       "        [ 0.42 ,  0.857,  0.222, 22.   , 44.   ],\n",
       "        [ 0.529,  0.81 ,  0.464, 25.   , 45.   ],\n",
       "        [ 0.433,  0.846,  0.405, 28.   , 39.   ],\n",
       "        [ 0.584,  0.684,  0.556, 38.   , 47.   ],\n",
       "        [ 0.388,  0.9  ,  0.333, 27.   , 50.   ],\n",
       "        [ 0.405,  0.917,  0.24 , 27.   , 40.   ],\n",
       "        [ 0.437,  0.722,  0.426, 26.   , 49.   ],\n",
       "        [ 0.473,  0.727,  0.4  , 32.   , 37.   ],\n",
       "        [ 0.553,  0.885,  0.414, 27.   , 44.   ],\n",
       "        [ 0.413,  0.857,  0.333, 26.   , 49.   ],\n",
       "        [ 0.525,  0.882,  0.351, 35.   , 53.   ],\n",
       "        [ 0.532,  0.773,  0.417, 28.   , 48.   ],\n",
       "        [ 0.39 ,  0.941,  0.333, 23.   , 43.   ],\n",
       "        [ 0.489,  0.85 ,  0.313, 33.   , 41.   ],\n",
       "        [ 0.549,  0.889,  0.469, 28.   , 48.   ],\n",
       "        [ 0.655,  0.773,  0.636, 41.   , 53.   ],\n",
       "        [ 0.495,  0.84 ,  0.519, 28.   , 45.   ],\n",
       "        [ 0.5  ,  0.75 ,  0.407, 32.   , 47.   ],\n",
       "        [ 0.505,  0.778,  0.405, 34.   , 47.   ],\n",
       "        [ 0.41 ,  0.857,  0.366, 30.   , 40.   ]]),\n",
       " 'Rockets': array([[ 0.44 ,  0.654,  0.333, 23.   , 51.   ],\n",
       "        [ 0.527,  0.929,  0.395, 26.   , 42.   ],\n",
       "        [ 0.523,  0.76 ,  0.361, 26.   , 45.   ],\n",
       "        [ 0.523,  0.76 ,  0.361, 26.   , 45.   ],\n",
       "        [ 0.444,  0.739,  0.317, 15.   , 48.   ],\n",
       "        [ 0.39 ,  0.806,  0.275, 17.   , 35.   ],\n",
       "        [ 0.56 ,  0.727,  0.468, 34.   , 49.   ],\n",
       "        [ 0.411,  0.696,  0.293, 22.   , 43.   ],\n",
       "        [ 0.392,  0.75 ,  0.3  , 23.   , 42.   ],\n",
       "        [ 0.42 ,  0.864,  0.323, 17.   , 39.   ],\n",
       "        [ 0.42 ,  0.724,  0.324, 16.   , 44.   ],\n",
       "        [ 0.422,  0.833,  0.277, 19.   , 47.   ],\n",
       "        [ 0.432,  0.72 ,  0.316, 21.   , 46.   ],\n",
       "        [ 0.386,  0.75 ,  0.3  , 24.   , 42.   ],\n",
       "        [ 0.385,  0.684,  0.325, 20.   , 46.   ],\n",
       "        [ 0.277,  0.829,  0.089, 10.   , 38.   ],\n",
       "        [ 0.408,  0.75 ,  0.323, 13.   , 30.   ],\n",
       "        [ 0.418,  0.714,  0.419, 24.   , 37.   ],\n",
       "        [ 0.385,  0.677,  0.32 , 23.   , 37.   ],\n",
       "        [ 0.477,  0.769,  0.382, 27.   , 37.   ],\n",
       "        [ 0.413,  0.525,  0.259, 19.   , 48.   ],\n",
       "        [ 0.443,  0.813,  0.281, 21.   , 38.   ],\n",
       "        [ 0.494,  0.741,  0.368, 22.   , 38.   ],\n",
       "        [ 0.456,  0.808,  0.389, 28.   , 47.   ],\n",
       "        [ 0.384,  0.682,  0.327, 24.   , 39.   ],\n",
       "        [ 0.426,  0.864,  0.262, 28.   , 42.   ],\n",
       "        [ 0.461,  0.708,  0.4  , 25.   , 48.   ],\n",
       "        [ 0.544,  0.818,  0.515, 28.   , 38.   ],\n",
       "        [ 0.432,  0.563,  0.386, 21.   , 49.   ],\n",
       "        [ 0.462,  0.818,  0.294, 22.   , 47.   ],\n",
       "        [ 0.442,  0.667,  0.314, 23.   , 35.   ],\n",
       "        [ 0.354,  0.529,  0.204, 17.   , 50.   ],\n",
       "        [ 0.404,  0.864,  0.31 , 24.   , 47.   ],\n",
       "        [ 0.488,  0.727,  0.226, 24.   , 45.   ],\n",
       "        [ 0.5  ,  0.833,  0.543, 23.   , 52.   ],\n",
       "        [ 0.36 ,  0.636,  0.214, 20.   , 49.   ],\n",
       "        [ 0.43 ,  0.656,  0.229, 19.   , 47.   ],\n",
       "        [ 0.452,  0.778,  0.378, 28.   , 38.   ],\n",
       "        [ 0.535,  0.727,  0.378, 30.   , 41.   ],\n",
       "        [ 0.434,  0.714,  0.462, 25.   , 47.   ],\n",
       "        [ 0.345,  0.864,  0.255, 15.   , 47.   ],\n",
       "        [ 0.517,  0.781,  0.314, 27.   , 42.   ],\n",
       "        [ 0.453,  0.739,  0.41 , 25.   , 38.   ],\n",
       "        [ 0.453,  0.739,  0.41 , 25.   , 38.   ],\n",
       "        [ 0.481,  0.808,  0.267, 19.   , 39.   ],\n",
       "        [ 0.488,  0.632,  0.394, 25.   , 49.   ],\n",
       "        [ 0.369,  0.63 ,  0.375, 20.   , 51.   ],\n",
       "        [ 0.523,  0.647,  0.425, 25.   , 36.   ],\n",
       "        [ 0.389,  0.75 ,  0.341, 24.   , 51.   ],\n",
       "        [ 0.547,  0.793,  0.432, 28.   , 52.   ],\n",
       "        [ 0.489,  0.8  ,  0.435, 32.   , 45.   ],\n",
       "        [ 0.48 ,  0.909,  0.538, 30.   , 50.   ],\n",
       "        [ 0.384,  0.692,  0.261, 21.   , 41.   ],\n",
       "        [ 0.471,  0.824,  0.422, 26.   , 44.   ],\n",
       "        [ 0.407,  0.688,  0.277, 20.   , 39.   ],\n",
       "        [ 0.418,  0.571,  0.302, 24.   , 37.   ],\n",
       "        [ 0.375,  0.833,  0.186, 17.   , 46.   ],\n",
       "        [ 0.473,  0.735,  0.216, 23.   , 41.   ],\n",
       "        [ 0.457,  0.778,  0.319, 26.   , 39.   ],\n",
       "        [ 0.4  ,  0.824,  0.303, 18.   , 33.   ],\n",
       "        [ 0.429,  0.85 ,  0.34 , 23.   , 37.   ],\n",
       "        [ 0.414,  0.706,  0.244, 24.   , 44.   ],\n",
       "        [ 0.369,  0.615,  0.209, 15.   , 50.   ],\n",
       "        [ 0.425,  0.769,  0.386, 26.   , 47.   ],\n",
       "        [ 0.543,  0.846,  0.462, 29.   , 41.   ],\n",
       "        [ 0.5  ,  0.708,  0.325, 22.   , 31.   ],\n",
       "        [ 0.43 ,  0.615,  0.333, 26.   , 40.   ],\n",
       "        [ 0.47 ,  0.704,  0.324, 28.   , 41.   ],\n",
       "        [ 0.466,  0.7  ,  0.351, 25.   , 45.   ],\n",
       "        [ 0.506,  0.789,  0.405, 32.   , 51.   ],\n",
       "        [ 0.512,  0.7  ,  0.471, 26.   , 43.   ],\n",
       "        [ 0.388,  0.941,  0.237, 20.   , 41.   ],\n",
       "        [ 0.5  ,  0.679,  0.375, 27.   , 35.   ],\n",
       "        [ 0.5  ,  0.667,  0.472, 36.   , 37.   ],\n",
       "        [ 0.439,  0.706,  0.353, 25.   , 40.   ],\n",
       "        [ 0.494,  0.964,  0.474, 30.   , 44.   ],\n",
       "        [ 0.506,  0.667,  0.429, 33.   , 41.   ],\n",
       "        [ 0.337,  0.75 ,  0.286, 25.   , 43.   ]]),\n",
       " 'Nuggets': array([[ 0.523,  0.739,  0.413, 39.   , 55.   ],\n",
       "        [ 0.474,  0.778,  0.409, 30.   , 53.   ],\n",
       "        [ 0.48 ,  0.833,  0.276, 28.   , 46.   ],\n",
       "        [ 0.457,  0.742,  0.306, 25.   , 32.   ],\n",
       "        [ 0.529,  0.563,  0.452, 31.   , 52.   ],\n",
       "        [ 0.529,  0.563,  0.452, 31.   , 52.   ],\n",
       "        [ 0.459,  0.813,  0.414, 28.   , 38.   ],\n",
       "        [ 0.453,  0.813,  0.414, 28.   , 38.   ],\n",
       "        [ 0.519,  0.733,  0.32 , 22.   , 42.   ],\n",
       "        [ 0.443,  0.762,  0.341, 25.   , 47.   ],\n",
       "        [ 0.456,  0.778,  0.297, 29.   , 50.   ],\n",
       "        [ 0.4  ,  0.733,  0.378, 25.   , 52.   ],\n",
       "        [ 0.438,  0.929,  0.333, 29.   , 58.   ],\n",
       "        [ 0.54 ,  0.842,  0.643, 28.   , 39.   ],\n",
       "        [ 0.436,  0.938,  0.417, 22.   , 38.   ],\n",
       "        [ 0.6  ,  0.714,  0.444, 31.   , 39.   ],\n",
       "        [ 0.46 ,  0.7  ,  0.25 , 24.   , 41.   ],\n",
       "        [ 0.459,  0.735,  0.404, 28.   , 47.   ],\n",
       "        [ 0.426,  0.944,  0.389, 25.   , 40.   ],\n",
       "        [ 0.435,  0.875,  0.395, 23.   , 44.   ],\n",
       "        [ 0.411,  0.722,  0.39 , 27.   , 42.   ],\n",
       "        [ 0.464,  0.842,  0.536, 32.   , 54.   ],\n",
       "        [ 0.578,  0.692,  0.364, 37.   , 48.   ],\n",
       "        [ 0.527,  0.778,  0.412, 29.   , 43.   ],\n",
       "        [ 0.5  ,  0.8  ,  0.353, 30.   , 37.   ],\n",
       "        [ 0.543,  0.688,  0.417, 32.   , 49.   ],\n",
       "        [ 0.481,  0.824,  0.387, 26.   , 51.   ],\n",
       "        [ 0.489,  0.774,  0.31 , 27.   , 54.   ],\n",
       "        [ 0.596,  0.889,  0.452, 36.   , 44.   ],\n",
       "        [ 0.44 ,  0.75 ,  0.308, 26.   , 53.   ],\n",
       "        [ 0.544,  0.913,  0.519, 32.   , 46.   ],\n",
       "        [ 0.364,  0.833,  0.235, 23.   , 46.   ],\n",
       "        [ 0.539,  0.769,  0.472, 32.   , 43.   ],\n",
       "        [ 0.5  ,  0.846,  0.385, 30.   , 58.   ],\n",
       "        [ 0.595,  0.813,  0.432, 36.   , 36.   ],\n",
       "        [ 0.479,  0.864,  0.333, 25.   , 48.   ],\n",
       "        [ 0.506,  0.783,  0.313, 26.   , 38.   ],\n",
       "        [ 0.473,  0.808,  0.343, 22.   , 47.   ],\n",
       "        [ 0.381,  0.818,  0.308, 23.   , 63.   ],\n",
       "        [ 0.457,  0.913,  0.341, 21.   , 33.   ],\n",
       "        [ 0.43 ,  0.72 ,  0.28 , 20.   , 48.   ],\n",
       "        [ 0.543,  0.8  ,  0.393, 27.   , 39.   ],\n",
       "        [ 0.543,  0.8  ,  0.393, 27.   , 39.   ],\n",
       "        [ 0.489,  0.714,  0.422, 34.   , 43.   ],\n",
       "        [ 0.5  ,  0.867,  0.364, 28.   , 45.   ],\n",
       "        [ 0.536,  0.75 ,  0.429, 23.   , 43.   ],\n",
       "        [ 0.5  ,  0.625,  0.486, 28.   , 32.   ],\n",
       "        [ 0.515,  0.947,  0.231, 32.   , 43.   ],\n",
       "        [ 0.412,  0.781,  0.417, 22.   , 65.   ],\n",
       "        [ 0.506,  0.786,  0.429, 25.   , 49.   ],\n",
       "        [ 0.457,  1.   ,  0.326, 29.   , 49.   ],\n",
       "        [ 0.526,  0.65 ,  0.452, 25.   , 37.   ],\n",
       "        [ 0.391,  0.867,  0.286, 19.   , 42.   ],\n",
       "        [ 0.464,  0.786,  0.371, 30.   , 47.   ],\n",
       "        [ 0.452,  0.933,  0.265, 25.   , 38.   ],\n",
       "        [ 0.522,  0.833,  0.447, 23.   , 42.   ],\n",
       "        [ 0.575,  0.765,  0.484, 24.   , 37.   ],\n",
       "        [ 0.512,  0.813,  0.444, 25.   , 33.   ],\n",
       "        [ 0.551,  0.813,  0.484, 30.   , 49.   ],\n",
       "        [ 0.529,  0.8  ,  0.37 , 22.   , 50.   ],\n",
       "        [ 0.558,  0.917,  0.367, 28.   , 45.   ],\n",
       "        [ 0.584,  0.688,  0.429, 27.   , 41.   ],\n",
       "        [ 0.446,  0.727,  0.351, 27.   , 45.   ],\n",
       "        [ 0.495,  0.923,  0.267, 25.   , 52.   ],\n",
       "        [ 0.418,  0.833,  0.326, 25.   , 46.   ],\n",
       "        [ 0.505,  0.714,  0.5  , 28.   , 36.   ],\n",
       "        [ 0.481,  0.714,  0.52 , 28.   , 38.   ],\n",
       "        [ 0.47 ,  0.84 ,  0.308, 23.   , 41.   ],\n",
       "        [ 0.489,  0.871,  0.29 , 22.   , 54.   ],\n",
       "        [ 0.443,  0.882,  0.333, 24.   , 46.   ],\n",
       "        [ 0.386,  0.8  ,  0.283, 26.   , 36.   ],\n",
       "        [ 0.488,  0.952,  0.375, 26.   , 44.   ],\n",
       "        [ 0.439,  0.688,  0.25 , 22.   , 41.   ],\n",
       "        [ 0.518,  0.85 ,  0.447, 31.   , 38.   ],\n",
       "        [ 0.494,  0.846,  0.394, 26.   , 38.   ],\n",
       "        [ 0.479,  0.909,  0.333, 30.   , 53.   ],\n",
       "        [ 0.488,  0.786,  0.281, 29.   , 49.   ],\n",
       "        [ 0.449,  0.933,  0.378, 20.   , 36.   ]]),\n",
       " 'Bulls': array([[ 0.413,  0.73 ,  0.324, 20.   , 56.   ],\n",
       "        [ 0.394,  0.696,  0.35 , 26.   , 57.   ],\n",
       "        [ 0.414,  0.857,  0.229, 20.   , 37.   ],\n",
       "        [ 0.414,  0.857,  0.229, 20.   , 37.   ],\n",
       "        [ 0.374,  0.88 ,  0.41 , 23.   , 41.   ],\n",
       "        [ 0.512,  0.742,  0.415, 27.   , 54.   ],\n",
       "        [ 0.512,  0.742,  0.415, 27.   , 54.   ],\n",
       "        [ 0.459,  0.9  ,  0.351, 16.   , 48.   ],\n",
       "        [ 0.467,  0.905,  0.444, 23.   , 47.   ],\n",
       "        [ 0.393,  0.727,  0.32 , 18.   , 45.   ],\n",
       "        [ 0.466,  0.4  ,  0.436, 28.   , 41.   ],\n",
       "        [ 0.506,  1.   ,  0.467, 31.   , 43.   ],\n",
       "        [ 0.477,  0.75 ,  0.324, 30.   , 40.   ],\n",
       "        [ 0.489,  0.688,  0.167, 25.   , 38.   ],\n",
       "        [ 0.424,  0.833,  0.3  , 23.   , 50.   ],\n",
       "        [ 0.593,  0.727,  0.532, 36.   , 35.   ],\n",
       "        [ 0.471,  0.933,  0.375, 23.   , 41.   ],\n",
       "        [ 0.482,  0.625,  0.286, 29.   , 46.   ],\n",
       "        [ 0.598,  0.867,  0.478, 24.   , 38.   ],\n",
       "        [ 0.591,  0.813,  0.4  , 28.   , 43.   ],\n",
       "        [ 0.5  ,  0.7  ,  0.387, 25.   , 41.   ],\n",
       "        [ 0.447,  0.727,  0.316, 25.   , 44.   ],\n",
       "        [ 0.47 ,  0.813,  0.483, 26.   , 38.   ],\n",
       "        [ 0.374,  1.   ,  0.395, 25.   , 49.   ],\n",
       "        [ 0.454,  0.783,  0.273, 35.   , 60.   ],\n",
       "        [ 0.511,  0.833,  0.333, 24.   , 42.   ],\n",
       "        [ 0.44 ,  0.889,  0.333, 24.   , 51.   ],\n",
       "        [ 0.406,  0.917,  0.231, 21.   , 49.   ],\n",
       "        [ 0.446,  0.857,  0.286, 21.   , 45.   ],\n",
       "        [ 0.551,  0.7  ,  0.364, 29.   , 40.   ],\n",
       "        [ 0.477,  0.778,  0.459, 23.   , 40.   ],\n",
       "        [ 0.469,  0.8  ,  0.382, 34.   , 46.   ],\n",
       "        [ 0.5  ,  0.889,  0.4  , 30.   , 38.   ],\n",
       "        [ 0.494,  0.727,  0.326, 30.   , 50.   ],\n",
       "        [ 0.385,  0.667,  0.303, 23.   , 50.   ],\n",
       "        [ 0.414,  0.786,  0.324, 25.   , 40.   ],\n",
       "        [ 0.434,  0.944,  0.45 , 26.   , 52.   ],\n",
       "        [ 0.406,  0.786,  0.409, 21.   , 45.   ],\n",
       "        [ 0.542,  0.7  ,  0.472, 31.   , 51.   ],\n",
       "        [ 0.517,  0.737,  0.438, 23.   , 45.   ],\n",
       "        [ 0.542,  0.643,  0.333, 26.   , 61.   ],\n",
       "        [ 0.424,  0.588,  0.268, 27.   , 56.   ],\n",
       "        [ 0.437,  0.75 ,  0.417, 26.   , 37.   ],\n",
       "        [ 0.543,  0.76 ,  0.389, 34.   , 44.   ],\n",
       "        [ 0.437,  0.7  ,  0.231, 18.   , 42.   ],\n",
       "        [ 0.44 ,  0.833,  0.39 , 27.   , 52.   ],\n",
       "        [ 0.527,  0.8  ,  0.35 , 27.   , 43.   ],\n",
       "        [ 0.505,  0.929,  0.385, 26.   , 41.   ],\n",
       "        [ 0.61 ,  0.882,  0.545, 30.   , 38.   ],\n",
       "        [ 0.473,  0.72 ,  0.457, 27.   , 56.   ],\n",
       "        [ 0.506,  0.727,  0.28 , 32.   , 47.   ],\n",
       "        [ 0.51 ,  0.833,  0.349, 33.   , 43.   ],\n",
       "        [ 0.479,  0.9  ,  0.3  , 27.   , 40.   ],\n",
       "        [ 0.516,  0.692,  0.5  , 28.   , 47.   ],\n",
       "        [ 0.431,  0.864,  0.394, 25.   , 60.   ],\n",
       "        [ 0.421,  1.   ,  0.219, 24.   , 42.   ],\n",
       "        [ 0.538,  0.7  ,  0.417, 24.   , 55.   ],\n",
       "        [ 0.511,  0.909,  0.429, 28.   , 45.   ],\n",
       "        [ 0.522,  0.696,  0.486, 32.   , 42.   ],\n",
       "        [ 0.463,  0.857,  0.5  , 26.   , 52.   ],\n",
       "        [ 0.432,  0.778,  0.235, 28.   , 48.   ],\n",
       "        [ 0.524,  0.727,  0.25 , 33.   , 39.   ],\n",
       "        [ 0.434,  0.905,  0.333, 27.   , 50.   ],\n",
       "        [ 0.483,  0.765,  0.25 , 26.   , 41.   ],\n",
       "        [ 0.468,  0.786,  0.424, 28.   , 57.   ],\n",
       "        [ 0.54 ,  0.889,  0.4  , 35.   , 49.   ],\n",
       "        [ 0.477,  0.929,  0.394, 25.   , 38.   ],\n",
       "        [ 0.511,  0.615,  0.395, 30.   , 38.   ],\n",
       "        [ 0.419,  0.765,  0.161, 23.   , 40.   ],\n",
       "        [ 0.451,  0.9  ,  0.344, 30.   , 40.   ],\n",
       "        [ 0.494,  0.778,  0.351, 27.   , 41.   ],\n",
       "        [ 0.481,  0.923,  0.342, 28.   , 42.   ],\n",
       "        [ 0.532,  0.773,  0.379, 33.   , 51.   ],\n",
       "        [ 0.459,  0.6  ,  0.345, 29.   , 43.   ],\n",
       "        [ 0.471,  0.647,  0.25 , 22.   , 39.   ],\n",
       "        [ 0.505,  0.588,  0.486, 33.   , 56.   ],\n",
       "        [ 0.512,  0.714,  0.375, 27.   , 43.   ],\n",
       "        [ 0.347,  0.706,  0.268, 24.   , 52.   ]]),\n",
       " 'Mavericks': array([[ 0.424,  0.92 ,  0.455, 28.   , 45.   ],\n",
       "        [ 0.391,  0.576,  0.286, 24.   , 39.   ],\n",
       "        [ 0.41 ,  0.739,  0.324, 18.   , 49.   ],\n",
       "        [ 0.494,  0.778,  0.5  , 25.   , 44.   ],\n",
       "        [ 0.441,  0.579,  0.258, 18.   , 47.   ],\n",
       "        [ 0.446,  0.725,  0.2  , 15.   , 36.   ],\n",
       "        [ 0.488,  0.833,  0.344, 26.   , 34.   ],\n",
       "        [ 0.53 ,  0.571,  0.31 , 22.   , 37.   ],\n",
       "        [ 0.43 ,  0.96 ,  0.313, 16.   , 42.   ],\n",
       "        [ 0.413,  0.87 ,  0.4  , 26.   , 42.   ],\n",
       "        [ 0.458,  0.833,  0.447, 27.   , 47.   ],\n",
       "        [ 0.517,  0.833,  0.353, 30.   , 48.   ],\n",
       "        [ 0.512,  0.9  ,  0.4  , 25.   , 37.   ],\n",
       "        [ 0.58 ,  0.762,  0.556, 30.   , 37.   ],\n",
       "        [ 0.494,  0.96 ,  0.341, 19.   , 35.   ],\n",
       "        [ 0.438,  0.654,  0.366, 17.   , 49.   ],\n",
       "        [ 0.472,  0.867,  0.394, 19.   , 38.   ],\n",
       "        [ 0.386,  0.789,  0.2  , 18.   , 53.   ],\n",
       "        [ 0.518,  0.842,  0.325, 29.   , 51.   ],\n",
       "        [ 0.494,  0.8  ,  0.415, 24.   , 33.   ],\n",
       "        [ 0.506,  0.833,  0.441, 14.   , 43.   ],\n",
       "        [ 0.411,  0.571,  0.229, 17.   , 51.   ],\n",
       "        [ 0.451,  0.75 ,  0.469, 22.   , 44.   ],\n",
       "        [ 0.443,  0.722,  0.378, 23.   , 56.   ],\n",
       "        [ 0.479,  0.933,  0.31 , 25.   , 37.   ],\n",
       "        [ 0.422,  0.8  ,  0.25 , 16.   , 46.   ],\n",
       "        [ 0.44 ,  0.737,  0.333, 30.   , 41.   ],\n",
       "        [ 0.448,  0.65 ,  0.333, 15.   , 42.   ],\n",
       "        [ 0.5  ,  0.731,  0.372, 25.   , 43.   ],\n",
       "        [ 0.488,  0.722,  0.375, 23.   , 38.   ],\n",
       "        [ 0.487,  0.76 ,  0.433, 26.   , 51.   ],\n",
       "        [ 0.54 ,  0.636,  0.447, 31.   , 36.   ],\n",
       "        [ 0.42 ,  0.806,  0.171, 16.   , 40.   ],\n",
       "        [ 0.449,  0.692,  0.441, 23.   , 51.   ],\n",
       "        [ 0.494,  0.818,  0.313, 21.   , 45.   ],\n",
       "        [ 0.49 ,  0.8  ,  0.333, 23.   , 48.   ],\n",
       "        [ 0.433,  0.905,  0.405, 27.   , 42.   ],\n",
       "        [ 0.414,  0.867,  0.395, 27.   , 51.   ],\n",
       "        [ 0.463,  0.692,  0.478, 22.   , 49.   ],\n",
       "        [ 0.424,  0.808,  0.243, 17.   , 39.   ],\n",
       "        [ 0.494,  0.769,  0.406, 20.   , 27.   ],\n",
       "        [ 0.494,  0.889,  0.341, 25.   , 54.   ],\n",
       "        [ 0.438,  0.704,  0.262, 23.   , 41.   ],\n",
       "        [ 0.476,  0.95 ,  0.41 , 24.   , 51.   ],\n",
       "        [ 0.483,  0.774,  0.4  , 27.   , 44.   ],\n",
       "        [ 0.417,  0.563,  0.326, 22.   , 54.   ],\n",
       "        [ 0.464,  0.462,  0.361, 22.   , 51.   ],\n",
       "        [ 0.378,  0.815,  0.25 , 21.   , 38.   ],\n",
       "        [ 0.526,  0.824,  0.296, 32.   , 49.   ],\n",
       "        [ 0.484,  0.9  ,  0.359, 23.   , 42.   ],\n",
       "        [ 0.462,  0.889,  0.343, 22.   , 36.   ],\n",
       "        [ 0.43 ,  0.667,  0.273, 20.   , 40.   ],\n",
       "        [ 0.462,  0.92 ,  0.325, 27.   , 45.   ],\n",
       "        [ 0.41 ,  0.87 ,  0.382, 17.   , 50.   ],\n",
       "        [ 0.523,  0.647,  0.389, 23.   , 36.   ],\n",
       "        [ 0.522,  0.826,  0.37 , 29.   , 46.   ],\n",
       "        [ 0.427,  0.697,  0.441, 20.   , 37.   ],\n",
       "        [ 0.488,  0.875,  0.391, 26.   , 48.   ],\n",
       "        [ 0.543,  0.923,  0.452, 25.   , 39.   ],\n",
       "        [ 0.558,  0.85 ,  0.514, 23.   , 52.   ],\n",
       "        [ 0.485,  0.727,  0.364, 27.   , 53.   ],\n",
       "        [ 0.446,  0.792,  0.323, 19.   , 38.   ],\n",
       "        [ 0.531,  0.692,  0.364, 30.   , 43.   ],\n",
       "        [ 0.494,  0.72 ,  0.487, 20.   , 43.   ],\n",
       "        [ 0.466,  0.5  ,  0.324, 19.   , 47.   ],\n",
       "        [ 0.444,  0.792,  0.333, 17.   , 50.   ],\n",
       "        [ 0.379,  0.773,  0.256, 16.   , 46.   ],\n",
       "        [ 0.5  ,  0.765,  0.325, 25.   , 45.   ],\n",
       "        [ 0.467,  0.571,  0.286, 24.   , 40.   ],\n",
       "        [ 0.522,  0.864,  0.514, 21.   , 50.   ],\n",
       "        [ 0.449,  0.957,  0.433, 22.   , 35.   ],\n",
       "        [ 0.529,  0.722,  0.458, 26.   , 44.   ],\n",
       "        [ 0.538,  0.818,  0.385, 33.   , 42.   ],\n",
       "        [ 0.42 ,  0.947,  0.316, 23.   , 35.   ],\n",
       "        [ 0.484,  0.85 ,  0.421, 32.   , 38.   ]]),\n",
       " 'Kings': array([[ 0.467,  0.577,  0.357, 23.   , 49.   ],\n",
       "        [ 0.372,  0.757,  0.233, 22.   , 51.   ],\n",
       "        [ 0.453,  0.697,  0.217, 20.   , 56.   ],\n",
       "        [ 0.453,  0.697,  0.217, 20.   , 56.   ],\n",
       "        [ 0.474,  0.72 ,  0.435, 21.   , 39.   ],\n",
       "        [ 0.489,  0.773,  0.485, 33.   , 37.   ],\n",
       "        [ 0.489,  0.773,  0.485, 33.   , 37.   ],\n",
       "        [ 0.516,  0.741,  0.378, 30.   , 39.   ],\n",
       "        [ 0.568,  0.571,  0.441, 36.   , 26.   ],\n",
       "        [ 0.407,  0.714,  0.267, 21.   , 47.   ],\n",
       "        [ 0.56 ,  0.783,  0.469, 29.   , 44.   ],\n",
       "        [ 0.524,  0.731,  0.5  , 35.   , 42.   ],\n",
       "        [ 0.471,  0.706,  0.308, 23.   , 32.   ],\n",
       "        [ 0.516,  0.889,  0.333, 23.   , 33.   ],\n",
       "        [ 0.418,  0.714,  0.353, 21.   , 55.   ],\n",
       "        [ 0.457,  0.826,  0.351, 23.   , 44.   ],\n",
       "        [ 0.484,  0.708,  0.4  , 30.   , 45.   ],\n",
       "        [ 0.434,  0.579,  0.333, 24.   , 39.   ],\n",
       "        [ 0.518,  0.737,  0.364, 33.   , 42.   ],\n",
       "        [ 0.5  ,  0.769,  0.242, 22.   , 33.   ],\n",
       "        [ 0.531,  0.846,  0.364, 24.   , 41.   ],\n",
       "        [ 0.462,  0.563,  0.366, 29.   , 44.   ],\n",
       "        [ 0.543,  0.588,  0.444, 32.   , 33.   ],\n",
       "        [ 0.6  ,  0.789,  0.48 , 32.   , 30.   ],\n",
       "        [ 0.489,  0.857,  0.333, 25.   , 53.   ],\n",
       "        [ 0.476,  0.909,  0.333, 21.   , 42.   ],\n",
       "        [ 0.596,  0.842,  0.5  , 28.   , 38.   ],\n",
       "        [ 0.513,  0.786,  0.233, 16.   , 44.   ],\n",
       "        [ 0.424,  0.75 ,  0.286, 24.   , 38.   ],\n",
       "        [ 0.495,  1.   ,  0.436, 31.   , 40.   ],\n",
       "        [ 0.442,  0.692,  0.233, 20.   , 38.   ],\n",
       "        [ 0.462,  0.75 ,  0.333, 22.   , 30.   ],\n",
       "        [ 0.454,  0.875,  0.429, 28.   , 39.   ],\n",
       "        [ 0.581,  0.806,  0.515, 29.   , 33.   ],\n",
       "        [ 0.519,  0.889,  0.448, 23.   , 46.   ],\n",
       "        [ 0.483,  0.824,  0.333, 24.   , 24.   ],\n",
       "        [ 0.488,  0.6  ,  0.406, 27.   , 35.   ],\n",
       "        [ 0.529,  0.833,  0.444, 30.   , 51.   ],\n",
       "        [ 0.512,  0.789,  0.487, 28.   , 40.   ],\n",
       "        [ 0.467,  0.6  ,  0.3  , 24.   , 39.   ],\n",
       "        [ 0.368,  0.727,  0.32 , 24.   , 44.   ],\n",
       "        [ 0.432,  0.775,  0.286, 27.   , 50.   ],\n",
       "        [ 0.441,  0.774,  0.323, 27.   , 54.   ],\n",
       "        [ 0.469,  0.75 ,  0.333, 23.   , 45.   ],\n",
       "        [ 0.469,  0.75 ,  0.333, 23.   , 45.   ],\n",
       "        [ 0.389,  0.714,  0.321, 11.   , 47.   ],\n",
       "        [ 0.378,  0.718,  0.286, 20.   , 52.   ],\n",
       "        [ 0.453,  0.417,  0.464, 25.   , 39.   ],\n",
       "        [ 0.489,  0.654,  0.424, 30.   , 50.   ],\n",
       "        [ 0.551,  0.774,  0.444, 31.   , 38.   ],\n",
       "        [ 0.482,  0.455,  0.378, 22.   , 41.   ],\n",
       "        [ 0.477,  0.769,  0.326, 31.   , 52.   ],\n",
       "        [ 0.489,  0.733,  0.345, 25.   , 52.   ],\n",
       "        [ 0.449,  0.818,  0.276, 22.   , 41.   ],\n",
       "        [ 0.44 ,  0.75 ,  0.364, 29.   , 43.   ],\n",
       "        [ 0.517,  0.684,  0.484, 25.   , 38.   ],\n",
       "        [ 0.494,  0.758,  0.343, 25.   , 34.   ],\n",
       "        [ 0.416,  0.707,  0.219, 24.   , 49.   ],\n",
       "        [ 0.476,  0.625,  0.379, 25.   , 51.   ],\n",
       "        [ 0.439,  0.813,  0.194, 27.   , 47.   ],\n",
       "        [ 0.558,  0.647,  0.29 , 28.   , 44.   ],\n",
       "        [ 0.441,  0.829,  0.303, 25.   , 38.   ],\n",
       "        [ 0.457,  0.808,  0.4  , 22.   , 45.   ],\n",
       "        [ 0.459,  0.63 ,  0.357, 28.   , 34.   ],\n",
       "        [ 0.544,  0.667,  0.433, 26.   , 49.   ],\n",
       "        [ 0.56 ,  0.8  ,  0.5  , 29.   , 37.   ],\n",
       "        [ 0.424,  0.895,  0.314, 22.   , 43.   ],\n",
       "        [ 0.443,  0.792,  0.25 , 27.   , 42.   ],\n",
       "        [ 0.477,  0.636,  0.333, 23.   , 38.   ],\n",
       "        [ 0.433,  0.595,  0.286, 21.   , 34.   ],\n",
       "        [ 0.551,  0.737,  0.467, 22.   , 32.   ],\n",
       "        [ 0.494,  0.88 ,  0.458, 22.   , 42.   ],\n",
       "        [ 0.477,  0.773,  0.378, 22.   , 37.   ],\n",
       "        [ 0.453,  0.909,  0.364, 29.   , 37.   ],\n",
       "        [ 0.556,  0.625,  0.393, 27.   , 38.   ],\n",
       "        [ 0.411,  0.813,  0.279, 25.   , 49.   ],\n",
       "        [ 0.453,  0.714,  0.25 , 21.   , 48.   ],\n",
       "        [ 0.438,  0.643,  0.415, 33.   , 35.   ],\n",
       "        [ 0.385,  0.815,  0.238, 21.   , 56.   ]]),\n",
       " '76ers': array([[ 0.471,  0.75 ,  0.241, 23.   , 42.   ],\n",
       "        [ 0.471,  0.767,  0.286, 22.   , 47.   ],\n",
       "        [ 0.471,  0.767,  0.286, 22.   , 47.   ],\n",
       "        [ 0.381,  0.848,  0.258, 21.   , 54.   ],\n",
       "        [ 0.381,  0.848,  0.258, 21.   , 54.   ],\n",
       "        [ 0.595,  0.708,  0.457, 35.   , 45.   ],\n",
       "        [ 0.484,  0.652,  0.344, 34.   , 55.   ],\n",
       "        [ 0.617,  0.697,  0.621, 33.   , 35.   ],\n",
       "        [ 0.417,  0.6  ,  0.314, 23.   , 48.   ],\n",
       "        [ 0.49 ,  0.72 ,  0.345, 32.   , 52.   ],\n",
       "        [ 0.537,  0.833,  0.459, 27.   , 35.   ],\n",
       "        [ 0.462,  0.8  ,  0.333, 20.   , 41.   ],\n",
       "        [ 0.556,  0.833,  0.429, 23.   , 45.   ],\n",
       "        [ 0.482,  0.615,  0.36 , 24.   , 38.   ],\n",
       "        [ 0.481,  0.833,  0.259, 19.   , 37.   ],\n",
       "        [ 0.511,  0.818,  0.37 , 27.   , 51.   ],\n",
       "        [ 0.481,  0.875,  0.462, 23.   , 47.   ],\n",
       "        [ 0.471,  0.793,  0.333, 23.   , 53.   ],\n",
       "        [ 0.433,  0.84 ,  0.414, 26.   , 39.   ],\n",
       "        [ 0.458,  0.657,  0.357, 25.   , 46.   ],\n",
       "        [ 0.568,  0.938,  0.429, 27.   , 39.   ],\n",
       "        [ 0.516,  0.771,  0.32 , 22.   , 50.   ],\n",
       "        [ 0.571,  0.636,  0.517, 35.   , 54.   ],\n",
       "        [ 0.411,  0.737,  0.344, 19.   , 50.   ],\n",
       "        [ 0.394,  0.625,  0.341, 28.   , 59.   ],\n",
       "        [ 0.558,  0.759,  0.478, 24.   , 51.   ],\n",
       "        [ 0.506,  0.757,  0.429, 26.   , 42.   ],\n",
       "        [ 0.416,  0.643,  0.235, 23.   , 50.   ],\n",
       "        [ 0.517,  0.8  ,  0.464, 23.   , 32.   ],\n",
       "        [ 0.422,  0.733,  0.318, 21.   , 46.   ],\n",
       "        [ 0.393,  0.778,  0.375, 26.   , 42.   ],\n",
       "        [ 0.513,  0.692,  0.52 , 24.   , 44.   ],\n",
       "        [ 0.547,  0.722,  0.452, 27.   , 41.   ],\n",
       "        [ 0.539,  0.682,  0.444, 29.   , 46.   ],\n",
       "        [ 0.465,  0.846,  0.357, 27.   , 50.   ],\n",
       "        [ 0.447,  0.818,  0.429, 27.   , 51.   ],\n",
       "        [ 0.488,  0.871,  0.3  , 22.   , 44.   ],\n",
       "        [ 0.473,  0.947,  0.471, 35.   , 46.   ],\n",
       "        [ 0.489,  0.739,  0.475, 35.   , 41.   ],\n",
       "        [ 0.533,  0.629,  0.355, 23.   , 48.   ],\n",
       "        [ 0.466,  0.727,  0.355, 20.   , 47.   ],\n",
       "        [ 0.418,  0.727,  0.324, 24.   , 39.   ],\n",
       "        [ 0.484,  0.867,  0.455, 23.   , 54.   ],\n",
       "        [ 0.471,  0.9  ,  0.346, 23.   , 47.   ],\n",
       "        [ 0.402,  0.923,  0.222, 20.   , 50.   ],\n",
       "        [ 0.44 ,  0.719,  0.28 , 23.   , 53.   ],\n",
       "        [ 0.458,  0.789,  0.348, 14.   , 49.   ],\n",
       "        [ 0.426,  0.75 ,  0.321, 15.   , 36.   ],\n",
       "        [ 0.448,  0.842,  0.5  , 20.   , 51.   ],\n",
       "        [ 0.489,  0.677,  0.308, 20.   , 44.   ],\n",
       "        [ 0.519,  0.813,  0.417, 23.   , 40.   ],\n",
       "        [ 0.482,  0.8  ,  0.45 , 24.   , 59.   ],\n",
       "        [ 0.488,  0.828,  0.222, 20.   , 46.   ],\n",
       "        [ 0.521,  0.848,  0.412, 19.   , 35.   ],\n",
       "        [ 0.5  ,  0.875,  0.348, 19.   , 42.   ],\n",
       "        [ 0.388,  0.743,  0.297, 26.   , 45.   ],\n",
       "        [ 0.413,  0.867,  0.447, 24.   , 54.   ],\n",
       "        [ 0.515,  0.733,  0.303, 25.   , 45.   ],\n",
       "        [ 0.544,  1.   ,  0.524, 26.   , 49.   ],\n",
       "        [ 0.463,  0.609,  0.44 , 19.   , 44.   ],\n",
       "        [ 0.453,  0.657,  0.292, 15.   , 51.   ],\n",
       "        [ 0.488,  0.667,  0.378, 24.   , 39.   ],\n",
       "        [ 0.506,  0.727,  0.385, 17.   , 38.   ],\n",
       "        [ 0.427,  0.933,  0.314, 18.   , 34.   ],\n",
       "        [ 0.43 ,  0.76 ,  0.405, 27.   , 55.   ],\n",
       "        [ 0.466,  0.744,  0.375, 16.   , 38.   ],\n",
       "        [ 0.418,  0.708,  0.355, 20.   , 47.   ],\n",
       "        [ 0.468,  0.68 ,  0.316, 24.   , 47.   ],\n",
       "        [ 0.488,  0.697,  0.387, 24.   , 40.   ],\n",
       "        [ 0.505,  0.722,  0.444, 27.   , 33.   ],\n",
       "        [ 0.378,  0.735,  0.226, 15.   , 41.   ],\n",
       "        [ 0.447,  0.72 ,  0.367, 23.   , 49.   ],\n",
       "        [ 0.533,  0.714,  0.393, 23.   , 44.   ],\n",
       "        [ 0.532,  0.909,  0.429, 26.   , 47.   ],\n",
       "        [ 0.437,  0.714,  0.308, 23.   , 35.   ],\n",
       "        [ 0.462,  0.75 ,  0.28 , 20.   , 30.   ]]),\n",
       " 'Jazz': array([[ 0.5  ,  0.741,  0.415, 21.   , 45.   ],\n",
       "        [ 0.427,  0.854,  0.308, 18.   , 54.   ],\n",
       "        [ 0.383,  0.784,  0.294, 15.   , 57.   ],\n",
       "        [ 0.383,  0.784,  0.294, 15.   , 57.   ],\n",
       "        [ 0.417,  0.684,  0.353, 16.   , 46.   ],\n",
       "        [ 0.461,  0.643,  0.357, 28.   , 46.   ],\n",
       "        [ 0.461,  0.643,  0.357, 28.   , 46.   ],\n",
       "        [ 0.467,  0.714,  0.455, 27.   , 53.   ],\n",
       "        [ 0.506,  0.647,  0.447, 28.   , 54.   ],\n",
       "        [ 0.5  ,  0.96 ,  0.436, 27.   , 39.   ],\n",
       "        [ 0.479,  0.773,  0.4  , 28.   , 57.   ],\n",
       "        [ 0.402,  0.864,  0.313, 24.   , 53.   ],\n",
       "        [ 0.462,  0.762,  0.39 , 20.   , 50.   ],\n",
       "        [ 0.437,  0.923,  0.417, 21.   , 56.   ],\n",
       "        [ 0.463,  0.862,  0.381, 23.   , 44.   ],\n",
       "        [ 0.476,  0.889,  0.375, 28.   , 41.   ],\n",
       "        [ 0.524,  0.853,  0.368, 22.   , 46.   ],\n",
       "        [ 0.459,  0.759,  0.261, 26.   , 48.   ],\n",
       "        [ 0.523,  0.839,  0.4  , 18.   , 36.   ],\n",
       "        [ 0.529,  0.824,  0.509, 34.   , 45.   ],\n",
       "        [ 0.471,  0.667,  0.458, 28.   , 53.   ],\n",
       "        [ 0.481,  0.84 ,  0.375, 24.   , 50.   ],\n",
       "        [ 0.451,  0.929,  0.418, 24.   , 56.   ],\n",
       "        [ 0.459,  0.833,  0.364, 25.   , 51.   ],\n",
       "        [ 0.5  ,  0.75 ,  0.422, 22.   , 52.   ],\n",
       "        [ 0.463,  0.826,  0.463, 29.   , 55.   ],\n",
       "        [ 0.468,  0.963,  0.361, 16.   , 43.   ],\n",
       "        [ 0.554,  0.75 ,  0.473, 34.   , 50.   ],\n",
       "        [ 0.453,  0.889,  0.286, 21.   , 58.   ],\n",
       "        [ 0.455,  0.857,  0.36 , 22.   , 52.   ],\n",
       "        [ 0.482,  0.774,  0.417, 21.   , 43.   ],\n",
       "        [ 0.419,  0.85 ,  0.362, 24.   , 51.   ],\n",
       "        [ 0.483,  0.792,  0.381, 22.   , 56.   ],\n",
       "        [ 0.402,  0.733,  0.404, 24.   , 45.   ],\n",
       "        [ 0.474,  0.833,  0.415, 20.   , 49.   ],\n",
       "        [ 0.5  ,  0.688,  0.306, 22.   , 50.   ],\n",
       "        [ 0.557,  0.714,  0.439, 24.   , 53.   ],\n",
       "        [ 0.483,  0.87 ,  0.457, 27.   , 38.   ],\n",
       "        [ 0.529,  0.905,  0.395, 28.   , 49.   ],\n",
       "        [ 0.412,  0.762,  0.3  , 15.   , 53.   ],\n",
       "        [ 0.495,  0.733,  0.462, 38.   , 40.   ],\n",
       "        [ 0.457,  0.789,  0.38 , 24.   , 59.   ],\n",
       "        [ 0.5  ,  0.786,  0.361, 24.   , 43.   ],\n",
       "        [ 0.551,  0.579,  0.512, 29.   , 57.   ],\n",
       "        [ 0.384,  0.704,  0.324, 17.   , 41.   ],\n",
       "        [ 0.44 ,  0.545,  0.318, 20.   , 42.   ],\n",
       "        [ 0.505,  0.615,  0.472, 31.   , 50.   ],\n",
       "        [ 0.427,  0.682,  0.314, 17.   , 63.   ],\n",
       "        [ 0.5  ,  0.75 ,  0.533, 26.   , 48.   ],\n",
       "        [ 0.513,  0.571,  0.405, 24.   , 36.   ],\n",
       "        [ 0.427,  0.846,  0.426, 28.   , 38.   ],\n",
       "        [ 0.484,  0.846,  0.481, 19.   , 52.   ],\n",
       "        [ 0.552,  0.889,  0.52 , 32.   , 44.   ],\n",
       "        [ 0.413,  0.667,  0.31 , 22.   , 60.   ],\n",
       "        [ 0.429,  0.85 ,  0.325, 19.   , 53.   ],\n",
       "        [ 0.477,  0.857,  0.353, 13.   , 38.   ],\n",
       "        [ 0.426,  0.913,  0.326, 24.   , 36.   ],\n",
       "        [ 0.529,  0.708,  0.378, 29.   , 52.   ],\n",
       "        [ 0.455,  0.833,  0.395, 26.   , 39.   ],\n",
       "        [ 0.44 ,  0.737,  0.477, 22.   , 52.   ],\n",
       "        [ 0.441,  0.759,  0.341, 24.   , 51.   ],\n",
       "        [ 0.475,  0.917,  0.442, 23.   , 38.   ],\n",
       "        [ 0.458,  0.571,  0.375, 19.   , 47.   ],\n",
       "        [ 0.459,  0.854,  0.324, 21.   , 48.   ],\n",
       "        [ 0.489,  0.867,  0.436, 25.   , 46.   ],\n",
       "        [ 0.427,  0.76 ,  0.327, 20.   , 46.   ],\n",
       "        [ 0.42 ,  0.773,  0.273, 20.   , 48.   ],\n",
       "        [ 0.447,  0.667,  0.25 , 14.   , 45.   ],\n",
       "        [ 0.416,  1.   ,  0.39 , 31.   , 37.   ],\n",
       "        [ 0.573,  0.909,  0.455, 29.   , 42.   ],\n",
       "        [ 0.456,  0.813,  0.37 , 27.   , 61.   ],\n",
       "        [ 0.389,  0.737,  0.281, 24.   , 49.   ],\n",
       "        [ 0.64 ,  0.952,  0.585, 36.   , 47.   ],\n",
       "        [ 0.438,  0.889,  0.359, 22.   , 36.   ],\n",
       "        [ 0.451,  0.875,  0.295, 14.   , 48.   ],\n",
       "        [ 0.43 ,  0.762,  0.333, 23.   , 53.   ],\n",
       "        [ 0.477,  0.84 ,  0.462, 28.   , 50.   ]]),\n",
       " 'Cavaliers': array([[ 0.494,  0.625,  0.31 , 20.   , 48.   ],\n",
       "        [ 0.514,  0.811,  0.375, 24.   , 52.   ],\n",
       "        [ 0.529,  0.75 ,  0.467, 34.   , 50.   ],\n",
       "        [ 0.527,  0.813,  0.391, 31.   , 45.   ],\n",
       "        [ 0.364,  0.682,  0.219, 22.   , 43.   ],\n",
       "        [ 0.364,  0.682,  0.219, 22.   , 43.   ],\n",
       "        [ 0.451,  0.429,  0.423, 20.   , 40.   ],\n",
       "        [ 0.389,  0.643,  0.258, 23.   , 40.   ],\n",
       "        [ 0.456,  0.735,  0.333, 26.   , 48.   ],\n",
       "        [ 0.514,  0.714,  0.5  , 29.   , 50.   ],\n",
       "        [ 0.517,  0.844,  0.32 , 24.   , 50.   ],\n",
       "        [ 0.465,  0.864,  0.429, 19.   , 44.   ],\n",
       "        [ 0.54 ,  0.739,  0.524, 24.   , 37.   ],\n",
       "        [ 0.417,  0.742,  0.318, 26.   , 52.   ],\n",
       "        [ 0.446,  0.765,  0.4  , 21.   , 37.   ],\n",
       "        [ 0.446,  0.75 ,  0.344, 23.   , 36.   ],\n",
       "        [ 0.453,  0.714,  0.214, 21.   , 40.   ],\n",
       "        [ 0.47 ,  0.619,  0.387, 30.   , 34.   ],\n",
       "        [ 0.464,  0.75 ,  0.229, 22.   , 42.   ],\n",
       "        [ 0.526,  0.789,  0.536, 28.   , 36.   ],\n",
       "        [ 0.506,  0.667,  0.444, 24.   , 55.   ],\n",
       "        [ 0.518,  0.933,  0.393, 29.   , 43.   ],\n",
       "        [ 0.541,  0.818,  0.435, 23.   , 40.   ],\n",
       "        [ 0.438,  0.781,  0.259, 19.   , 47.   ],\n",
       "        [ 0.506,  0.75 ,  0.515, 29.   , 54.   ],\n",
       "        [ 0.427,  0.826,  0.235, 22.   , 39.   ],\n",
       "        [ 0.425,  0.762,  0.286, 26.   , 40.   ],\n",
       "        [ 0.453,  0.846,  0.429, 27.   , 32.   ],\n",
       "        [ 0.482,  0.824,  0.325, 29.   , 36.   ],\n",
       "        [ 0.432,  0.778,  0.323, 21.   , 39.   ],\n",
       "        [ 0.511,  0.789,  0.444, 27.   , 41.   ],\n",
       "        [ 0.402,  0.75 ,  0.273, 30.   , 45.   ],\n",
       "        [ 0.415,  0.643,  0.212, 19.   , 46.   ],\n",
       "        [ 0.5  ,  0.765,  0.5  , 30.   , 39.   ],\n",
       "        [ 0.456,  0.852,  0.448, 29.   , 42.   ],\n",
       "        [ 0.402,  0.692,  0.342, 23.   , 42.   ],\n",
       "        [ 0.384,  0.645,  0.355, 18.   , 38.   ],\n",
       "        [ 0.355,  0.767,  0.333, 21.   , 50.   ],\n",
       "        [ 0.45 ,  0.815,  0.333, 27.   , 55.   ],\n",
       "        [ 0.402,  0.778,  0.5  , 23.   , 44.   ],\n",
       "        [ 0.395,  0.611,  0.387, 20.   , 35.   ],\n",
       "        [ 0.485,  0.633,  0.433, 29.   , 51.   ],\n",
       "        [ 0.451,  0.542,  0.522, 22.   , 43.   ],\n",
       "        [ 0.418,  0.765,  0.241, 19.   , 46.   ],\n",
       "        [ 0.388,  0.583,  0.357, 20.   , 35.   ],\n",
       "        [ 0.424,  0.692,  0.154, 24.   , 45.   ],\n",
       "        [ 0.456,  0.563,  0.433, 24.   , 37.   ],\n",
       "        [ 0.414,  0.688,  0.269, 16.   , 47.   ],\n",
       "        [ 0.4  ,  0.735,  0.303, 24.   , 34.   ],\n",
       "        [ 0.345,  0.833,  0.308, 15.   , 43.   ],\n",
       "        [ 0.488,  0.783,  0.25 , 20.   , 55.   ],\n",
       "        [ 0.512,  0.68 ,  0.333, 23.   , 39.   ],\n",
       "        [ 0.383,  0.75 ,  0.216, 25.   , 49.   ],\n",
       "        [ 0.437,  0.703,  0.348, 20.   , 41.   ],\n",
       "        [ 0.462,  0.72 ,  0.28 , 25.   , 40.   ],\n",
       "        [ 0.389,  0.8  ,  0.267, 19.   , 49.   ],\n",
       "        [ 0.423,  0.759,  0.333, 24.   , 52.   ],\n",
       "        [ 0.493,  0.792,  0.333, 23.   , 48.   ],\n",
       "        [ 0.341,  0.75 ,  0.219, 13.   , 33.   ],\n",
       "        [ 0.383,  0.522,  0.267, 19.   , 34.   ],\n",
       "        [ 0.453,  0.714,  0.286, 23.   , 42.   ],\n",
       "        [ 0.457,  0.8  ,  0.379, 28.   , 46.   ],\n",
       "        [ 0.388,  0.679,  0.192, 24.   , 37.   ],\n",
       "        [ 0.44 ,  0.652,  0.346, 20.   , 36.   ],\n",
       "        [ 0.349,  0.625,  0.206, 17.   , 40.   ],\n",
       "        [ 0.473,  0.84 ,  0.323, 25.   , 35.   ],\n",
       "        [ 0.523,  0.852,  0.353, 29.   , 47.   ],\n",
       "        [ 0.511,  0.833,  0.351, 35.   , 44.   ],\n",
       "        [ 0.487,  0.842,  0.419, 27.   , 47.   ],\n",
       "        [ 0.443,  0.857,  0.4  , 27.   , 44.   ],\n",
       "        [ 0.488,  0.8  ,  0.192, 24.   , 39.   ],\n",
       "        [ 0.513,  0.714,  0.333, 27.   , 47.   ],\n",
       "        [ 0.513,  0.8  ,  0.37 , 28.   , 37.   ],\n",
       "        [ 0.434,  0.875,  0.263, 25.   , 37.   ],\n",
       "        [ 0.386,  0.769,  0.207, 17.   , 43.   ],\n",
       "        [ 0.464,  0.81 ,  0.278, 24.   , 44.   ],\n",
       "        [ 0.447,  0.677,  0.308, 16.   , 45.   ]]),\n",
       " 'Pelicans': array([[ 0.512,  0.614,  0.364, 25.   , 51.   ],\n",
       "        [ 0.383,  0.724,  0.208, 15.   , 56.   ],\n",
       "        [ 0.383,  0.724,  0.208, 15.   , 56.   ],\n",
       "        [ 0.422,  0.766,  0.368, 26.   , 50.   ],\n",
       "        [ 0.436,  0.792,  0.333, 26.   , 57.   ],\n",
       "        [ 0.494,  0.783,  0.182, 25.   , 52.   ],\n",
       "        [ 0.494,  0.731,  0.395, 29.   , 36.   ],\n",
       "        [ 0.517,  0.625,  0.395, 27.   , 50.   ],\n",
       "        [ 0.469,  0.714,  0.438, 32.   , 45.   ],\n",
       "        [ 0.451,  0.621,  0.293, 27.   , 48.   ],\n",
       "        [ 0.396,  0.833,  0.3  , 22.   , 46.   ],\n",
       "        [ 0.511,  0.81 ,  0.424, 30.   , 44.   ],\n",
       "        [ 0.517,  0.619,  0.455, 27.   , 42.   ],\n",
       "        [ 0.511,  0.857,  0.387, 31.   , 55.   ],\n",
       "        [ 0.483,  0.793,  0.469, 25.   , 51.   ],\n",
       "        [ 0.512,  0.792,  0.344, 28.   , 37.   ],\n",
       "        [ 0.447,  0.676,  0.306, 22.   , 52.   ],\n",
       "        [ 0.556,  0.621,  0.435, 31.   , 45.   ],\n",
       "        [ 0.565,  0.783,  0.636, 27.   , 53.   ],\n",
       "        [ 0.554,  0.684,  0.273, 29.   , 35.   ],\n",
       "        [ 0.393,  0.8  ,  0.256, 28.   , 44.   ],\n",
       "        [ 0.43 ,  0.542,  0.188, 28.   , 51.   ],\n",
       "        [ 0.465,  0.842,  0.25 , 25.   , 70.   ],\n",
       "        [ 0.654,  0.81 ,  0.462, 38.   , 40.   ],\n",
       "        [ 0.522,  0.923,  0.345, 28.   , 53.   ],\n",
       "        [ 0.5  ,  0.9  ,  0.414, 30.   , 37.   ],\n",
       "        [ 0.519,  0.655,  0.346, 20.   , 42.   ],\n",
       "        [ 0.441,  0.842,  0.414, 26.   , 55.   ],\n",
       "        [ 0.432,  0.826,  0.276, 22.   , 34.   ],\n",
       "        [ 0.433,  0.633,  0.182, 22.   , 56.   ],\n",
       "        [ 0.545,  0.692,  0.316, 24.   , 51.   ],\n",
       "        [ 0.455,  0.833,  0.214, 25.   , 49.   ],\n",
       "        [ 0.56 ,  0.625,  0.364, 28.   , 37.   ],\n",
       "        [ 0.471,  0.531,  0.409, 20.   , 48.   ],\n",
       "        [ 0.537,  0.654,  0.517, 28.   , 44.   ],\n",
       "        [ 0.433,  0.781,  0.2  , 20.   , 47.   ],\n",
       "        [ 0.402,  0.818,  0.4  , 28.   , 57.   ],\n",
       "        [ 0.474,  0.714,  0.36 , 26.   , 47.   ],\n",
       "        [ 0.447,  0.839,  0.316, 20.   , 51.   ],\n",
       "        [ 0.525,  0.5  ,  0.452, 30.   , 45.   ],\n",
       "        [ 0.397,  0.788,  0.286, 18.   , 41.   ],\n",
       "        [ 0.481,  0.5  ,  0.125, 18.   , 41.   ],\n",
       "        [ 0.481,  0.5  ,  0.125, 18.   , 41.   ],\n",
       "        [ 0.484,  0.632,  0.361, 23.   , 58.   ],\n",
       "        [ 0.484,  0.632,  0.361, 23.   , 58.   ],\n",
       "        [ 0.477,  0.75 ,  0.357, 18.   , 48.   ],\n",
       "        [ 0.477,  0.5  ,  0.31 , 22.   , 47.   ],\n",
       "        [ 0.529,  0.794,  0.5  , 24.   , 48.   ],\n",
       "        [ 0.453,  0.667,  0.231, 17.   , 38.   ],\n",
       "        [ 0.494,  0.767,  0.44 , 27.   , 41.   ],\n",
       "        [ 0.46 ,  0.714,  0.303, 21.   , 42.   ],\n",
       "        [ 0.539,  0.731,  0.52 , 23.   , 50.   ],\n",
       "        [ 0.506,  0.808,  0.361, 27.   , 35.   ],\n",
       "        [ 0.533,  0.739,  0.459, 31.   , 38.   ],\n",
       "        [ 0.444,  0.821,  0.257, 23.   , 44.   ],\n",
       "        [ 0.615,  0.765,  0.5  , 33.   , 47.   ],\n",
       "        [ 0.5  ,  0.714,  0.333, 32.   , 47.   ],\n",
       "        [ 0.44 ,  0.806,  0.281, 27.   , 52.   ],\n",
       "        [ 0.523,  0.8  ,  0.485, 38.   , 41.   ],\n",
       "        [ 0.398,  0.68 ,  0.27 , 24.   , 44.   ],\n",
       "        [ 0.482,  0.767,  0.286, 26.   , 45.   ],\n",
       "        [ 0.5  ,  0.567,  0.516, 30.   , 47.   ],\n",
       "        [ 0.462,  0.629,  0.432, 26.   , 55.   ],\n",
       "        [ 0.407,  0.75 ,  0.316, 24.   , 49.   ],\n",
       "        [ 0.427,  0.744,  0.222, 23.   , 40.   ],\n",
       "        [ 0.512,  0.808,  0.292, 30.   , 50.   ],\n",
       "        [ 0.412,  0.848,  0.25 , 26.   , 56.   ],\n",
       "        [ 0.406,  0.8  ,  0.222, 25.   , 52.   ],\n",
       "        [ 0.556,  0.885,  0.429, 34.   , 58.   ],\n",
       "        [ 0.494,  0.737,  0.4  , 27.   , 42.   ],\n",
       "        [ 0.446,  0.737,  0.172, 26.   , 56.   ],\n",
       "        [ 0.511,  0.696,  0.389, 34.   , 52.   ],\n",
       "        [ 0.406,  0.727,  0.25 , 26.   , 52.   ],\n",
       "        [ 0.469,  0.455,  0.324, 26.   , 51.   ],\n",
       "        [ 0.443,  0.667,  0.435, 29.   , 50.   ],\n",
       "        [ 0.414,  0.737,  0.25 , 18.   , 44.   ],\n",
       "        [ 0.465,  0.679,  0.407, 21.   , 51.   ]]),\n",
       " 'Lakers': array([[ 0.357,  0.8  ,  0.318, 15.   , 46.   ],\n",
       "        [ 0.568,  0.677,  0.72 , 28.   , 45.   ],\n",
       "        [ 0.469,  0.774,  0.31 , 22.   , 45.   ],\n",
       "        [ 0.56 ,  0.708,  0.487, 33.   , 53.   ],\n",
       "        [ 0.556,  0.778,  0.371, 32.   , 46.   ],\n",
       "        [ 0.471,  0.833,  0.37 , 20.   , 41.   ],\n",
       "        [ 0.5  ,  0.619,  0.333, 21.   , 48.   ],\n",
       "        [ 0.506,  0.852,  0.414, 21.   , 42.   ],\n",
       "        [ 0.419,  0.731,  0.405, 31.   , 44.   ],\n",
       "        [ 0.482,  0.727,  0.31 , 23.   , 50.   ],\n",
       "        [ 0.568,  0.636,  0.333, 29.   , 40.   ],\n",
       "        [ 0.56 ,  0.857,  0.474, 32.   , 41.   ],\n",
       "        [ 0.463,  0.759,  0.237, 28.   , 59.   ],\n",
       "        [ 0.472,  0.833,  0.286, 22.   , 43.   ],\n",
       "        [ 0.506,  0.697,  0.2  , 26.   , 47.   ],\n",
       "        [ 0.482,  0.714,  0.267, 21.   , 39.   ],\n",
       "        [ 0.393,  0.882,  0.289, 25.   , 43.   ],\n",
       "        [ 0.471,  0.647,  0.341, 29.   , 45.   ],\n",
       "        [ 0.42 ,  0.75 ,  0.259, 25.   , 52.   ],\n",
       "        [ 0.471,  0.684,  0.355, 22.   , 60.   ],\n",
       "        [ 0.506,  0.765,  0.355, 18.   , 34.   ],\n",
       "        [ 0.447,  0.769,  0.318, 20.   , 44.   ],\n",
       "        [ 0.575,  0.857,  0.5  , 37.   , 43.   ],\n",
       "        [ 0.478,  0.75 ,  0.333, 23.   , 48.   ],\n",
       "        [ 0.42 ,  0.75 ,  0.308, 18.   , 52.   ],\n",
       "        [ 0.436,  0.727,  0.346, 22.   , 42.   ],\n",
       "        [ 0.487,  0.72 ,  0.231, 23.   , 45.   ],\n",
       "        [ 0.415,  0.739,  0.275, 25.   , 52.   ],\n",
       "        [ 0.402,  0.773,  0.278, 22.   , 40.   ],\n",
       "        [ 0.449,  0.684,  0.324, 28.   , 36.   ],\n",
       "        [ 0.516,  0.87 ,  0.333, 26.   , 52.   ],\n",
       "        [ 0.43 ,  0.68 ,  0.429, 17.   , 32.   ],\n",
       "        [ 0.506,  0.714,  0.25 , 24.   , 43.   ],\n",
       "        [ 0.482,  0.677,  0.379, 32.   , 44.   ],\n",
       "        [ 0.438,  0.696,  0.433, 18.   , 43.   ],\n",
       "        [ 0.488,  0.78 ,  0.433, 24.   , 41.   ],\n",
       "        [ 0.416,  0.789,  0.429, 31.   , 53.   ],\n",
       "        [ 0.571,  0.591,  0.35 , 28.   , 41.   ],\n",
       "        [ 0.407,  0.76 ,  0.323, 27.   , 49.   ],\n",
       "        [ 0.476,  0.75 ,  0.4  , 20.   , 47.   ],\n",
       "        [ 0.506,  0.593,  0.533, 25.   , 33.   ],\n",
       "        [ 0.561,  0.75 ,  0.538, 25.   , 47.   ],\n",
       "        [ 0.406,  0.813,  0.424, 27.   , 58.   ],\n",
       "        [ 0.461,  0.737,  0.343, 24.   , 49.   ],\n",
       "        [ 0.437,  0.818,  0.29 , 24.   , 52.   ],\n",
       "        [ 0.505,  0.75 ,  0.345, 28.   , 49.   ],\n",
       "        [ 0.5  ,  0.704,  0.438, 26.   , 55.   ],\n",
       "        [ 0.495,  0.773,  0.459, 26.   , 50.   ],\n",
       "        [ 0.466,  0.8  ,  0.514, 25.   , 38.   ],\n",
       "        [ 0.456,  0.806,  0.211, 20.   , 42.   ],\n",
       "        [ 0.483,  0.75 ,  0.313, 21.   , 40.   ],\n",
       "        [ 0.477,  0.64 ,  0.333, 20.   , 37.   ],\n",
       "        [ 0.409,  0.667,  0.429, 25.   , 44.   ],\n",
       "        [ 0.44 ,  0.684,  0.29 , 20.   , 45.   ],\n",
       "        [ 0.519,  0.833,  0.304, 24.   , 31.   ],\n",
       "        [ 0.46 ,  0.655,  0.214, 27.   , 46.   ],\n",
       "        [ 0.545,  0.81 ,  0.423, 20.   , 38.   ],\n",
       "        [ 0.4  ,  0.65 ,  0.242, 17.   , 45.   ],\n",
       "        [ 0.527,  0.714,  0.444, 27.   , 41.   ],\n",
       "        [ 0.628,  0.76 ,  0.407, 36.   , 46.   ],\n",
       "        [ 0.412,  0.679,  0.2  , 20.   , 41.   ],\n",
       "        [ 0.424,  0.7  ,  0.486, 25.   , 34.   ],\n",
       "        [ 0.473,  0.6  ,  0.515, 26.   , 55.   ],\n",
       "        [ 0.4  ,  0.75 ,  0.304, 16.   , 36.   ],\n",
       "        [ 0.494,  0.636,  0.45 , 29.   , 49.   ],\n",
       "        [ 0.443,  0.88 ,  0.343, 26.   , 40.   ],\n",
       "        [ 0.505,  0.65 ,  0.559, 30.   , 47.   ],\n",
       "        [ 0.438,  0.778,  0.333, 22.   , 33.   ],\n",
       "        [ 0.415,  0.944,  0.364, 24.   , 38.   ],\n",
       "        [ 0.478,  0.824,  0.333, 26.   , 45.   ],\n",
       "        [ 0.384,  0.789,  0.267, 22.   , 36.   ],\n",
       "        [ 0.54 ,  0.643,  0.355, 23.   , 44.   ],\n",
       "        [ 0.438,  0.619,  0.294, 31.   , 41.   ],\n",
       "        [ 0.379,  0.621,  0.278, 21.   , 34.   ],\n",
       "        [ 0.416,  0.727,  0.367, 19.   , 49.   ],\n",
       "        [ 0.477,  0.806,  0.379, 25.   , 45.   ],\n",
       "        [ 0.469,  0.6  ,  0.314, 30.   , 42.   ]]),\n",
       " 'Suns': array([[ 0.407,  0.8  ,  0.31 , 26.   , 45.   ],\n",
       "        [ 0.477,  0.846,  0.409, 26.   , 46.   ],\n",
       "        [ 0.481,  0.704,  0.367, 21.   , 48.   ],\n",
       "        [ 0.44 ,  0.947,  0.404, 24.   , 43.   ],\n",
       "        [ 0.44 ,  0.947,  0.404, 24.   , 43.   ],\n",
       "        [ 0.493,  0.821,  0.303, 23.   , 40.   ],\n",
       "        [ 0.482,  0.917,  0.525, 30.   , 41.   ],\n",
       "        [ 0.5  ,  1.   ,  0.386, 30.   , 45.   ],\n",
       "        [ 0.402,  0.778,  0.302, 26.   , 50.   ],\n",
       "        [ 0.379,  0.833,  0.349, 19.   , 49.   ],\n",
       "        [ 0.466,  0.913,  0.344, 34.   , 57.   ],\n",
       "        [ 0.494,  0.813,  0.375, 26.   , 50.   ],\n",
       "        [ 0.488,  1.   ,  0.276, 25.   , 50.   ],\n",
       "        [ 0.522,  0.737,  0.458, 29.   , 41.   ],\n",
       "        [ 0.529,  0.72 ,  0.484, 25.   , 47.   ],\n",
       "        [ 0.608,  0.824,  0.4  , 25.   , 32.   ],\n",
       "        [ 0.446,  0.938,  0.324, 24.   , 59.   ],\n",
       "        [ 0.545,  1.   ,  0.432, 28.   , 34.   ],\n",
       "        [ 0.505,  0.889,  0.485, 29.   , 43.   ],\n",
       "        [ 0.506,  0.704,  0.368, 26.   , 41.   ],\n",
       "        [ 0.51 ,  0.769,  0.4  , 31.   , 52.   ],\n",
       "        [ 0.473,  0.765,  0.387, 28.   , 40.   ],\n",
       "        [ 0.566,  0.889,  0.4  , 28.   , 42.   ],\n",
       "        [ 0.529,  0.737,  0.417, 29.   , 47.   ],\n",
       "        [ 0.5  ,  0.765,  0.519, 29.   , 40.   ],\n",
       "        [ 0.483,  0.783,  0.281, 30.   , 51.   ],\n",
       "        [ 0.511,  0.833,  0.375, 27.   , 49.   ],\n",
       "        [ 0.568,  0.75 ,  0.44 , 29.   , 32.   ],\n",
       "        [ 0.6  ,  0.81 ,  0.455, 36.   , 41.   ],\n",
       "        [ 0.446,  0.8  ,  0.324, 20.   , 61.   ],\n",
       "        [ 0.514,  1.   ,  0.395, 36.   , 45.   ],\n",
       "        [ 0.479,  0.611,  0.556, 33.   , 42.   ],\n",
       "        [ 0.463,  0.944,  0.31 , 28.   , 48.   ],\n",
       "        [ 0.558,  0.857,  0.368, 30.   , 39.   ],\n",
       "        [ 0.4  ,  0.438,  0.222, 19.   , 48.   ],\n",
       "        [ 0.473,  0.769,  0.351, 23.   , 45.   ],\n",
       "        [ 0.545,  0.737,  0.333, 27.   , 44.   ],\n",
       "        [ 0.467,  0.96 ,  0.439, 26.   , 45.   ],\n",
       "        [ 0.466,  0.885,  0.406, 22.   , 42.   ],\n",
       "        [ 0.433,  0.81 ,  0.345, 22.   , 48.   ],\n",
       "        [ 0.42 ,  0.667,  0.286, 16.   , 37.   ],\n",
       "        [ 0.418,  0.769,  0.25 , 25.   , 40.   ],\n",
       "        [ 0.418,  0.769,  0.25 , 25.   , 40.   ],\n",
       "        [ 0.489,  0.909,  0.4  , 34.   , 44.   ],\n",
       "        [ 0.488,  0.7  ,  0.515, 26.   , 41.   ],\n",
       "        [ 0.487,  0.905,  0.371, 24.   , 37.   ],\n",
       "        [ 0.487,  0.905,  0.371, 24.   , 37.   ],\n",
       "        [ 0.451,  0.462,  0.327, 24.   , 50.   ],\n",
       "        [ 0.489,  1.   ,  0.39 , 33.   , 40.   ],\n",
       "        [ 0.448,  0.833,  0.148, 21.   , 42.   ],\n",
       "        [ 0.455,  0.563,  0.417, 30.   , 44.   ],\n",
       "        [ 0.472,  0.895,  0.235, 25.   , 45.   ],\n",
       "        [ 0.457,  0.871,  0.455, 22.   , 42.   ],\n",
       "        [ 0.467,  0.833,  0.371, 19.   , 45.   ],\n",
       "        [ 0.463,  0.85 ,  0.229, 26.   , 39.   ],\n",
       "        [ 0.58 ,  0.667,  0.564, 38.   , 37.   ],\n",
       "        [ 0.535,  0.923,  0.522, 35.   , 41.   ],\n",
       "        [ 0.5  ,  0.8  ,  0.273, 35.   , 30.   ],\n",
       "        [ 0.494,  0.958,  0.259, 27.   , 47.   ],\n",
       "        [ 0.494,  0.88 ,  0.552, 30.   , 35.   ],\n",
       "        [ 0.59 ,  0.842,  0.542, 28.   , 38.   ],\n",
       "        [ 0.495,  0.889,  0.324, 29.   , 39.   ],\n",
       "        [ 0.444,  0.909,  0.333, 22.   , 47.   ],\n",
       "        [ 0.478,  1.   ,  0.25 , 26.   , 47.   ],\n",
       "        [ 0.354,  0.862,  0.2  , 17.   , 50.   ],\n",
       "        [ 0.512,  0.871,  0.486, 29.   , 37.   ],\n",
       "        [ 0.507,  0.833,  0.25 , 20.   , 36.   ],\n",
       "        [ 0.481,  0.9  ,  0.405, 28.   , 45.   ],\n",
       "        [ 0.477,  0.905,  0.357, 30.   , 33.   ],\n",
       "        [ 0.409,  0.889,  0.171, 18.   , 38.   ],\n",
       "        [ 0.478,  0.84 ,  0.353, 22.   , 43.   ],\n",
       "        [ 0.542,  0.824,  0.412, 23.   , 37.   ],\n",
       "        [ 0.536,  0.778,  0.387, 27.   , 39.   ],\n",
       "        [ 0.524,  0.923,  0.387, 35.   , 48.   ],\n",
       "        [ 0.418,  0.862,  0.375, 19.   , 30.   ],\n",
       "        [ 0.534,  0.84 ,  0.44 , 23.   , 32.   ],\n",
       "        [ 0.519,  0.9  ,  0.432, 26.   , 36.   ],\n",
       "        [ 0.553,  0.955,  0.455, 32.   , 47.   ],\n",
       "        [ 0.51 ,  1.   ,  0.371, 36.   , 48.   ]]),\n",
       " 'Magic': array([[ 0.474,  0.917,  0.324, 26.   , 53.   ],\n",
       "        [ 0.433,  0.792,  0.425, 23.   , 50.   ],\n",
       "        [ 0.477,  0.633,  0.357, 23.   , 41.   ],\n",
       "        [ 0.347,  0.905,  0.25 , 17.   , 48.   ],\n",
       "        [ 0.37 ,  0.75 ,  0.263, 21.   , 55.   ],\n",
       "        [ 0.432,  0.923,  0.441, 22.   , 54.   ],\n",
       "        [ 0.494,  0.722,  0.414, 20.   , 43.   ],\n",
       "        [ 0.429,  0.769,  0.355, 24.   , 44.   ],\n",
       "        [ 0.448,  0.692,  0.447, 27.   , 43.   ],\n",
       "        [ 0.477,  0.636,  0.514, 31.   , 49.   ],\n",
       "        [ 0.417,  0.944,  0.385, 25.   , 47.   ],\n",
       "        [ 0.36 ,  0.889,  0.303, 20.   , 49.   ],\n",
       "        [ 0.461,  0.857,  0.368, 24.   , 46.   ],\n",
       "        [ 0.519,  0.757,  0.407, 27.   , 49.   ],\n",
       "        [ 0.389,  1.   ,  0.222, 17.   , 47.   ],\n",
       "        [ 0.457,  0.7  ,  0.471, 27.   , 50.   ],\n",
       "        [ 0.489,  0.824,  0.419, 30.   , 51.   ],\n",
       "        [ 0.432,  0.897,  0.3  , 24.   , 51.   ],\n",
       "        [ 0.375,  0.591,  0.368, 25.   , 48.   ],\n",
       "        [ 0.458,  0.875,  0.412, 27.   , 37.   ],\n",
       "        [ 0.495,  0.714,  0.488, 25.   , 41.   ],\n",
       "        [ 0.429,  1.   ,  0.371, 24.   , 46.   ],\n",
       "        [ 0.44 ,  0.714,  0.4  , 25.   , 45.   ],\n",
       "        [ 0.512,  0.7  ,  0.525, 26.   , 44.   ],\n",
       "        [ 0.443,  0.714,  0.324, 27.   , 37.   ],\n",
       "        [ 0.467,  0.789,  0.351, 18.   , 49.   ],\n",
       "        [ 0.442,  0.529,  0.444, 29.   , 40.   ],\n",
       "        [ 0.473,  0.696,  0.387, 22.   , 39.   ],\n",
       "        [ 0.422,  0.774,  0.25 , 23.   , 50.   ],\n",
       "        [ 0.372,  0.789,  0.222, 19.   , 37.   ],\n",
       "        [ 0.45 ,  0.625,  0.25 , 15.   , 44.   ],\n",
       "        [ 0.451,  0.895,  0.344, 28.   , 36.   ],\n",
       "        [ 0.367,  0.789,  0.361, 13.   , 40.   ],\n",
       "        [ 0.396,  0.786,  0.313, 22.   , 51.   ],\n",
       "        [ 0.474,  0.833,  0.44 , 16.   , 28.   ],\n",
       "        [ 0.447,  0.893,  0.44 , 20.   , 37.   ],\n",
       "        [ 0.388,  0.857,  0.24 , 13.   , 45.   ],\n",
       "        [ 0.396,  0.682,  0.25 , 20.   , 45.   ],\n",
       "        [ 0.457,  0.69 ,  0.286, 26.   , 49.   ],\n",
       "        [ 0.402,  0.667,  0.306, 23.   , 52.   ],\n",
       "        [ 0.505,  0.793,  0.355, 25.   , 54.   ],\n",
       "        [ 0.435,  0.974,  0.36 , 19.   , 45.   ],\n",
       "        [ 0.51 ,  0.813,  0.318, 26.   , 46.   ],\n",
       "        [ 0.382,  0.875,  0.276, 17.   , 42.   ],\n",
       "        [ 0.427,  0.727,  0.194, 17.   , 43.   ],\n",
       "        [ 0.404,  0.636,  0.25 , 14.   , 46.   ],\n",
       "        [ 0.463,  0.813,  0.304, 28.   , 38.   ],\n",
       "        [ 0.337,  0.875,  0.316, 18.   , 51.   ],\n",
       "        [ 0.391,  0.714,  0.323, 26.   , 48.   ],\n",
       "        [ 0.457,  0.625,  0.459, 29.   , 49.   ],\n",
       "        [ 0.402,  0.821,  0.361, 22.   , 42.   ],\n",
       "        [ 0.42 ,  0.545,  0.314, 22.   , 53.   ],\n",
       "        [ 0.392,  0.778,  0.455, 19.   , 49.   ],\n",
       "        [ 0.505,  0.8  ,  0.441, 25.   , 42.   ],\n",
       "        [ 0.371,  0.818,  0.171, 13.   , 48.   ],\n",
       "        [ 0.402,  0.867,  0.25 , 19.   , 35.   ],\n",
       "        [ 0.406,  0.867,  0.353, 22.   , 57.   ],\n",
       "        [ 0.363,  0.75 ,  0.263, 17.   , 46.   ],\n",
       "        [ 0.427,  0.813,  0.294, 21.   , 49.   ],\n",
       "        [ 0.381,  0.7  ,  0.324, 20.   , 44.   ],\n",
       "        [ 0.386,  0.824,  0.333, 19.   , 51.   ],\n",
       "        [ 0.413,  0.88 ,  0.294, 23.   , 50.   ],\n",
       "        [ 0.425,  0.87 ,  0.2  , 20.   , 48.   ],\n",
       "        [ 0.368,  0.806,  0.087, 11.   , 39.   ],\n",
       "        [ 0.472,  0.706,  0.371, 27.   , 36.   ],\n",
       "        [ 0.494,  0.75 ,  0.444, 29.   , 46.   ],\n",
       "        [ 0.455,  0.706,  0.348, 20.   , 35.   ],\n",
       "        [ 0.395,  0.69 ,  0.216, 13.   , 40.   ],\n",
       "        [ 0.506,  0.65 ,  0.345, 26.   , 49.   ],\n",
       "        [ 0.314,  0.75 ,  0.231, 16.   , 56.   ],\n",
       "        [ 0.511,  0.76 ,  0.435, 27.   , 48.   ],\n",
       "        [ 0.418,  0.75 ,  0.3  , 19.   , 47.   ],\n",
       "        [ 0.415,  0.7  ,  0.333, 18.   , 52.   ],\n",
       "        [ 0.383,  0.667,  0.306, 24.   , 51.   ],\n",
       "        [ 0.398,  0.75 ,  0.333, 21.   , 44.   ],\n",
       "        [ 0.474,  0.854,  0.357, 23.   , 47.   ]]),\n",
       " 'Warriors': array([[ 0.438,  0.743,  0.275, 25.   , 39.   ],\n",
       "        [ 0.392,  0.879,  0.2  , 19.   , 44.   ],\n",
       "        [ 0.557,  0.765,  0.382, 23.   , 53.   ],\n",
       "        [ 0.526,  0.857,  0.535, 41.   , 48.   ],\n",
       "        [ 0.453,  0.789,  0.267, 25.   , 35.   ],\n",
       "        [ 0.488,  0.833,  0.488, 25.   , 38.   ],\n",
       "        [ 0.409,  0.895,  0.283, 30.   , 51.   ],\n",
       "        [ 0.382,  0.636,  0.342, 25.   , 46.   ],\n",
       "        [ 0.505,  0.7  ,  0.395, 31.   , 54.   ],\n",
       "        [ 0.384,  0.744,  0.237, 27.   , 46.   ],\n",
       "        [ 0.494,  0.757,  0.467, 21.   , 46.   ],\n",
       "        [ 0.529,  0.783,  0.441, 32.   , 46.   ],\n",
       "        [ 0.528,  0.7  ,  0.472, 34.   , 47.   ],\n",
       "        [ 0.458,  0.696,  0.405, 30.   , 36.   ],\n",
       "        [ 0.466,  0.75 ,  0.4  , 29.   , 46.   ],\n",
       "        [ 0.489,  0.8  ,  0.265, 25.   , 37.   ],\n",
       "        [ 0.523,  0.952,  0.459, 34.   , 39.   ],\n",
       "        [ 0.453,  0.762,  0.346, 32.   , 46.   ],\n",
       "        [ 0.608,  0.92 ,  0.458, 38.   , 37.   ],\n",
       "        [ 0.562,  0.833,  0.516, 33.   , 40.   ],\n",
       "        [ 0.43 ,  0.667,  0.351, 24.   , 30.   ],\n",
       "        [ 0.434,  0.692,  0.32 , 22.   , 38.   ],\n",
       "        [ 0.494,  0.692,  0.429, 29.   , 33.   ],\n",
       "        [ 0.5  ,  0.889,  0.421, 28.   , 39.   ],\n",
       "        [ 0.479,  0.882,  0.375, 28.   , 42.   ],\n",
       "        [ 0.466,  0.667,  0.306, 27.   , 41.   ],\n",
       "        [ 0.538,  0.813,  0.4  , 31.   , 45.   ],\n",
       "        [ 0.481,  0.909,  0.409, 23.   , 36.   ],\n",
       "        [ 0.536,  0.722,  0.385, 40.   , 52.   ],\n",
       "        [ 0.484,  0.733,  0.389, 30.   , 53.   ],\n",
       "        [ 0.405,  0.792,  0.372, 25.   , 43.   ],\n",
       "        [ 0.488,  0.833,  0.404, 36.   , 49.   ],\n",
       "        [ 0.58 ,  0.833,  0.5  , 31.   , 46.   ],\n",
       "        [ 0.466,  0.92 ,  0.333, 26.   , 41.   ],\n",
       "        [ 0.495,  0.85 ,  0.275, 33.   , 40.   ],\n",
       "        [ 0.483,  0.8  ,  0.436, 29.   , 46.   ],\n",
       "        [ 0.494,  0.889,  0.385, 26.   , 46.   ],\n",
       "        [ 0.447,  0.8  ,  0.353, 30.   , 48.   ],\n",
       "        [ 0.427,  0.621,  0.302, 28.   , 53.   ],\n",
       "        [ 0.424,  0.833,  0.465, 20.   , 54.   ],\n",
       "        [ 0.374,  0.652,  0.303, 26.   , 47.   ],\n",
       "        [ 0.343,  0.84 ,  0.222, 14.   , 43.   ],\n",
       "        [ 0.343,  0.84 ,  0.222, 14.   , 43.   ],\n",
       "        [ 0.404,  0.9  ,  0.383, 25.   , 41.   ],\n",
       "        [ 0.404,  0.9  ,  0.383, 25.   , 41.   ],\n",
       "        [ 0.5  ,  0.722,  0.424, 21.   , 40.   ],\n",
       "        [ 0.469,  0.708,  0.379, 29.   , 43.   ],\n",
       "        [ 0.506,  0.75 ,  0.324, 31.   , 32.   ],\n",
       "        [ 0.452,  0.667,  0.359, 30.   , 35.   ],\n",
       "        [ 0.384,  0.75 ,  0.289, 21.   , 48.   ],\n",
       "        [ 0.573,  0.852,  0.512, 37.   , 45.   ],\n",
       "        [ 0.535,  0.87 ,  0.444, 27.   , 40.   ],\n",
       "        [ 0.442,  0.733,  0.351, 29.   , 49.   ],\n",
       "        [ 0.462,  0.684,  0.425, 26.   , 50.   ],\n",
       "        [ 0.474,  0.6  ,  0.452, 37.   , 45.   ],\n",
       "        [ 0.435,  0.765,  0.333, 23.   , 39.   ],\n",
       "        [ 0.449,  0.875,  0.342, 30.   , 41.   ],\n",
       "        [ 0.47 ,  0.903,  0.192, 27.   , 41.   ],\n",
       "        [ 0.407,  0.684,  0.235, 26.   , 35.   ],\n",
       "        [ 0.423,  0.643,  0.357, 27.   , 54.   ],\n",
       "        [ 0.432,  0.625,  0.343, 22.   , 40.   ],\n",
       "        [ 0.432,  0.704,  0.25 , 20.   , 44.   ],\n",
       "        [ 0.456,  0.833,  0.356, 32.   , 48.   ],\n",
       "        [ 0.484,  0.722,  0.366, 31.   , 43.   ],\n",
       "        [ 0.344,  0.824,  0.317, 23.   , 46.   ],\n",
       "        [ 0.511,  1.   ,  0.531, 24.   , 38.   ],\n",
       "        [ 0.439,  0.88 ,  0.405, 23.   , 46.   ],\n",
       "        [ 0.329,  0.778,  0.324, 19.   , 38.   ],\n",
       "        [ 0.467,  0.714,  0.25 , 25.   , 45.   ],\n",
       "        [ 0.547,  0.826,  0.511, 39.   , 41.   ],\n",
       "        [ 0.511,  0.8  ,  0.37 , 33.   , 47.   ],\n",
       "        [ 0.513,  0.75 ,  0.425, 22.   , 40.   ],\n",
       "        [ 0.447,  0.781,  0.438, 15.   , 45.   ],\n",
       "        [ 0.396,  0.905,  0.333, 22.   , 44.   ],\n",
       "        [ 0.494,  0.714,  0.395, 28.   , 34.   ],\n",
       "        [ 0.464,  0.708,  0.391, 32.   , 50.   ],\n",
       "        [ 0.534,  0.857,  0.386, 31.   , 38.   ],\n",
       "        [ 0.419,  0.714,  0.377, 22.   , 48.   ],\n",
       "        [ 0.446,  0.733,  0.441, 19.   , 46.   ]]),\n",
       " 'Hawks': array([[ 0.37 ,  0.829,  0.313, 20.   , 61.   ],\n",
       "        [ 0.427,  0.676,  0.395, 27.   , 61.   ],\n",
       "        [ 0.488,  0.875,  0.476, 30.   , 45.   ],\n",
       "        [ 0.412,  0.526,  0.344, 22.   , 48.   ],\n",
       "        [ 0.46 ,  0.783,  0.323, 24.   , 40.   ],\n",
       "        [ 0.375,  0.833,  0.175, 25.   , 57.   ],\n",
       "        [ 0.374,  0.778,  0.386, 20.   , 58.   ],\n",
       "        [ 0.468,  0.92 ,  0.393, 32.   , 48.   ],\n",
       "        [ 0.44 ,  0.684,  0.391, 21.   , 63.   ],\n",
       "        [ 0.463,  0.96 ,  0.385, 20.   , 46.   ],\n",
       "        [ 0.479,  0.893,  0.394, 29.   , 37.   ],\n",
       "        [ 0.474,  0.824,  0.379, 27.   , 36.   ],\n",
       "        [ 0.5  ,  0.706,  0.368, 31.   , 46.   ],\n",
       "        [ 0.327,  0.947,  0.29 , 19.   , 49.   ],\n",
       "        [ 0.568,  0.879,  0.528, 31.   , 43.   ],\n",
       "        [ 0.433,  0.758,  0.344, 22.   , 41.   ],\n",
       "        [ 0.478,  0.783,  0.29 , 35.   , 38.   ],\n",
       "        [ 0.519,  0.818,  0.353, 29.   , 44.   ],\n",
       "        [ 0.529,  0.824,  0.548, 27.   , 45.   ],\n",
       "        [ 0.512,  0.697,  0.364, 21.   , 45.   ],\n",
       "        [ 0.451,  0.923,  0.414, 21.   , 49.   ],\n",
       "        [ 0.54 ,  0.846,  0.333, 26.   , 50.   ],\n",
       "        [ 0.432,  0.778,  0.375, 19.   , 49.   ],\n",
       "        [ 0.5  ,  0.682,  0.645, 24.   , 42.   ],\n",
       "        [ 0.446,  0.867,  0.357, 26.   , 42.   ],\n",
       "        [ 0.56 ,  0.826,  0.259, 25.   , 41.   ],\n",
       "        [ 0.453,  0.895,  0.412, 23.   , 39.   ],\n",
       "        [ 0.489,  0.765,  0.406, 20.   , 51.   ],\n",
       "        [ 0.415,  0.862,  0.265, 20.   , 65.   ],\n",
       "        [ 0.538,  0.895,  0.429, 24.   , 38.   ],\n",
       "        [ 0.455,  0.783,  0.371, 23.   , 44.   ],\n",
       "        [ 0.5  ,  0.769,  0.389, 19.   , 44.   ],\n",
       "        [ 0.524,  0.833,  0.488, 32.   , 49.   ],\n",
       "        [ 0.631,  0.889,  0.5  , 35.   , 46.   ],\n",
       "        [ 0.479,  0.885,  0.333, 23.   , 55.   ],\n",
       "        [ 0.512,  0.786,  0.303, 22.   , 51.   ],\n",
       "        [ 0.436,  0.833,  0.389, 19.   , 49.   ],\n",
       "        [ 0.544,  0.731,  0.333, 32.   , 56.   ],\n",
       "        [ 0.381,  0.864,  0.289, 25.   , 46.   ],\n",
       "        [ 0.422,  0.837,  0.297, 24.   , 47.   ],\n",
       "        [ 0.538,  0.828,  0.4  , 24.   , 46.   ],\n",
       "        [ 0.538,  0.828,  0.4  , 24.   , 46.   ],\n",
       "        [ 0.427,  0.868,  0.361, 23.   , 54.   ],\n",
       "        [ 0.427,  0.868,  0.361, 23.   , 54.   ],\n",
       "        [ 0.475,  0.829,  0.391, 27.   , 54.   ],\n",
       "        [ 0.475,  0.829,  0.391, 27.   , 54.   ],\n",
       "        [ 0.462,  0.857,  0.41 , 24.   , 48.   ],\n",
       "        [ 0.462,  0.857,  0.41 , 24.   , 48.   ],\n",
       "        [ 0.382,  0.821,  0.311, 25.   , 47.   ],\n",
       "        [ 0.413,  0.733,  0.179, 21.   , 41.   ],\n",
       "        [ 0.437,  0.857,  0.2  , 24.   , 48.   ],\n",
       "        [ 0.458,  0.833,  0.429, 21.   , 55.   ],\n",
       "        [ 0.506,  0.773,  0.359, 27.   , 27.   ],\n",
       "        [ 0.448,  0.765,  0.324, 16.   , 47.   ],\n",
       "        [ 0.455,  0.821,  0.359, 27.   , 42.   ],\n",
       "        [ 0.424,  0.906,  0.333, 17.   , 42.   ],\n",
       "        [ 0.571,  0.839,  0.333, 19.   , 37.   ],\n",
       "        [ 0.422,  0.92 ,  0.333, 21.   , 41.   ],\n",
       "        [ 0.449,  0.739,  0.452, 22.   , 41.   ],\n",
       "        [ 0.443,  0.647,  0.3  , 21.   , 54.   ],\n",
       "        [ 0.414,  0.864,  0.229, 22.   , 49.   ],\n",
       "        [ 0.479,  0.867,  0.361, 26.   , 47.   ],\n",
       "        [ 0.447,  0.947,  0.467, 26.   , 42.   ],\n",
       "        [ 0.433,  0.8  ,  0.357, 20.   , 53.   ],\n",
       "        [ 0.512,  0.875,  0.459, 32.   , 38.   ],\n",
       "        [ 0.398,  0.889,  0.351, 26.   , 49.   ],\n",
       "        [ 0.453,  0.75 ,  0.353, 21.   , 48.   ],\n",
       "        [ 0.482,  0.826,  0.28 , 17.   , 42.   ],\n",
       "        [ 0.548,  0.792,  0.394, 31.   , 45.   ],\n",
       "        [ 0.474,  0.857,  0.353, 18.   , 31.   ],\n",
       "        [ 0.482,  0.714,  0.406, 30.   , 36.   ],\n",
       "        [ 0.5  ,  0.808,  0.542, 28.   , 57.   ],\n",
       "        [ 0.563,  0.714,  0.448, 25.   , 42.   ],\n",
       "        [ 0.452,  0.75 ,  0.436, 27.   , 41.   ],\n",
       "        [ 0.476,  0.682,  0.433, 21.   , 39.   ],\n",
       "        [ 0.48 ,  0.708,  0.353, 28.   , 41.   ],\n",
       "        [ 0.388,  0.941,  0.148, 19.   , 45.   ],\n",
       "        [ 0.333,  0.793,  0.316, 17.   , 47.   ],\n",
       "        [ 0.439,  0.786,  0.357, 19.   , 46.   ],\n",
       "        [ 0.511,  0.833,  0.405, 27.   , 34.   ]]),\n",
       " 'Hornets': array([[ 0.395,  0.634,  0.345, 24.   , 54.   ],\n",
       "        [ 0.457,  0.719,  0.333, 33.   , 38.   ],\n",
       "        [ 0.398,  0.625,  0.406, 27.   , 47.   ],\n",
       "        [ 0.398,  0.625,  0.406, 27.   , 47.   ],\n",
       "        [ 0.448,  0.588,  0.294, 35.   , 52.   ],\n",
       "        [ 0.448,  0.588,  0.294, 35.   , 52.   ],\n",
       "        [ 0.407,  0.667,  0.29 , 23.   , 42.   ],\n",
       "        [ 0.519,  0.75 ,  0.455, 27.   , 41.   ],\n",
       "        [ 0.487,  0.87 ,  0.406, 28.   , 37.   ],\n",
       "        [ 0.38 ,  0.5  ,  0.263, 26.   , 53.   ],\n",
       "        [ 0.494,  0.76 ,  0.219, 22.   , 46.   ],\n",
       "        [ 0.411,  0.905,  0.342, 28.   , 39.   ],\n",
       "        [ 0.506,  0.667,  0.432, 35.   , 42.   ],\n",
       "        [ 0.478,  0.85 ,  0.477, 32.   , 41.   ],\n",
       "        [ 0.448,  0.826,  0.378, 28.   , 37.   ],\n",
       "        [ 0.462,  0.824,  0.314, 26.   , 40.   ],\n",
       "        [ 0.424,  0.769,  0.417, 21.   , 59.   ],\n",
       "        [ 0.489,  0.923,  0.463, 28.   , 51.   ],\n",
       "        [ 0.489,  1.   ,  0.361, 20.   , 55.   ],\n",
       "        [ 0.474,  0.727,  0.353, 23.   , 49.   ],\n",
       "        [ 0.493,  0.889,  0.5  , 23.   , 44.   ],\n",
       "        [ 0.4  ,  0.958,  0.333, 26.   , 45.   ],\n",
       "        [ 0.481,  0.789,  0.429, 30.   , 51.   ],\n",
       "        [ 0.479,  0.8  ,  0.4  , 30.   , 46.   ],\n",
       "        [ 0.494,  0.737,  0.419, 30.   , 42.   ],\n",
       "        [ 0.4  ,  0.696,  0.302, 16.   , 52.   ],\n",
       "        [ 0.463,  0.857,  0.349, 28.   , 38.   ],\n",
       "        [ 0.434,  0.667,  0.257, 22.   , 45.   ],\n",
       "        [ 0.405,  0.5  ,  0.364, 23.   , 38.   ],\n",
       "        [ 0.47 ,  0.765,  0.419, 26.   , 46.   ],\n",
       "        [ 0.426,  0.778,  0.35 , 26.   , 38.   ],\n",
       "        [ 0.505,  0.909,  0.488, 39.   , 46.   ],\n",
       "        [ 0.463,  0.696,  0.343, 26.   , 38.   ],\n",
       "        [ 0.483,  0.45 ,  0.378, 24.   , 54.   ],\n",
       "        [ 0.494,  0.773,  0.424, 30.   , 39.   ],\n",
       "        [ 0.422,  0.389,  0.457, 29.   , 45.   ],\n",
       "        [ 0.494,  0.758,  0.273, 28.   , 51.   ],\n",
       "        [ 0.442,  0.722,  0.351, 22.   , 46.   ],\n",
       "        [ 0.462,  0.85 ,  0.282, 30.   , 49.   ],\n",
       "        [ 0.393,  0.789,  0.273, 24.   , 35.   ],\n",
       "        [ 0.475,  0.9  ,  0.439, 32.   , 43.   ],\n",
       "        [ 0.444,  0.864,  0.439, 21.   , 52.   ],\n",
       "        [ 0.5  ,  0.533,  0.364, 29.   , 32.   ],\n",
       "        [ 0.512,  0.81 ,  0.441, 30.   , 50.   ],\n",
       "        [ 0.413,  0.885,  0.371, 34.   , 40.   ],\n",
       "        [ 0.419,  0.727,  0.333, 30.   , 47.   ],\n",
       "        [ 0.376,  0.818,  0.306, 22.   , 49.   ],\n",
       "        [ 0.471,  0.8  ,  0.381, 33.   , 45.   ],\n",
       "        [ 0.483,  0.75 ,  0.429, 32.   , 44.   ],\n",
       "        [ 0.437,  0.759,  0.417, 26.   , 48.   ],\n",
       "        [ 0.477,  0.563,  0.389, 28.   , 43.   ],\n",
       "        [ 0.438,  0.704,  0.289, 22.   , 41.   ],\n",
       "        [ 0.453,  0.846,  0.512, 31.   , 44.   ],\n",
       "        [ 0.549,  0.833,  0.483, 23.   , 35.   ],\n",
       "        [ 0.461,  0.81 ,  0.306, 18.   , 35.   ],\n",
       "        [ 0.489,  0.926,  0.361, 24.   , 46.   ],\n",
       "        [ 0.461,  0.688,  0.415, 27.   , 38.   ],\n",
       "        [ 0.542,  0.963,  0.367, 30.   , 37.   ],\n",
       "        [ 0.489,  0.588,  0.441, 25.   , 37.   ],\n",
       "        [ 0.52 ,  0.762,  0.436, 33.   , 54.   ],\n",
       "        [ 0.45 ,  0.714,  0.316, 25.   , 33.   ],\n",
       "        [ 0.494,  0.6  ,  0.379, 26.   , 44.   ],\n",
       "        [ 0.388,  0.75 ,  0.366, 25.   , 39.   ],\n",
       "        [ 0.42 ,  0.87 ,  0.375, 27.   , 40.   ],\n",
       "        [ 0.513,  0.759,  0.474, 27.   , 50.   ],\n",
       "        [ 0.467,  0.842,  0.412, 24.   , 50.   ],\n",
       "        [ 0.349,  0.842,  0.342, 22.   , 43.   ],\n",
       "        [ 0.453,  0.69 ,  0.258, 27.   , 44.   ],\n",
       "        [ 0.4  ,  0.6  ,  0.323, 23.   , 42.   ],\n",
       "        [ 0.443,  0.923,  0.341, 27.   , 42.   ],\n",
       "        [ 0.484,  0.909,  0.38 , 35.   , 49.   ],\n",
       "        [ 0.53 ,  0.75 ,  0.353, 26.   , 37.   ],\n",
       "        [ 0.453,  0.375,  0.41 , 26.   , 39.   ],\n",
       "        [ 0.427,  0.765,  0.258, 30.   , 38.   ],\n",
       "        [ 0.425,  0.75 ,  0.371, 29.   , 33.   ],\n",
       "        [ 0.409,  0.75 ,  0.258, 23.   , 51.   ],\n",
       "        [ 0.382,  0.75 ,  0.265, 28.   , 51.   ],\n",
       "        [ 0.394,  0.917,  0.311, 25.   , 42.   ],\n",
       "        [ 0.457,  0.76 ,  0.3  , 26.   , 36.   ]])}"
      ]
     },
     "execution_count": 36,
     "metadata": {},
     "output_type": "execute_result"
    }
   ],
   "source": [
    "all_team_sim_data"
   ]
  },
  {
   "cell_type": "code",
   "execution_count": 37,
   "metadata": {},
   "outputs": [
    {
     "data": {
      "text/html": [
       "\n",
       "            <div style=\"float: left; border: 1px solid black; width:500px\">\n",
       "              <div id=\"f79177c7-164e-4f8e-afad-1ff069028bc6\" style=\"background-color:blue; width:0%\">&nbsp;</div>\n",
       "            </div>\n",
       "            <label id=\"68f570e8-73f8-4632-81ec-11aa58fedf27\" style=\"padding-left: 10px;\" text = \"\"/>\n",
       "            "
      ],
      "text/plain": [
       "<IPython.core.display.HTML object>"
      ]
     },
     "metadata": {},
     "output_type": "display_data"
    },
    {
     "data": {
      "text/html": [
       "\n",
       "            <div style=\"float: left; border: 1px solid black; width:500px\">\n",
       "              <div id=\"eee9ce68-e286-4b78-821e-e4018479893a\" style=\"background-color:blue; width:0%\">&nbsp;</div>\n",
       "            </div>\n",
       "            <label id=\"6510f1f6-8deb-4c54-b899-f768c0d2021e\" style=\"padding-left: 10px;\" text = \"\"/>\n",
       "            "
      ],
      "text/plain": [
       "<IPython.core.display.HTML object>"
      ]
     },
     "metadata": {},
     "output_type": "display_data"
    },
    {
     "data": {
      "text/html": [
       "\n",
       "            <div style=\"float: left; border: 1px solid black; width:500px\">\n",
       "              <div id=\"0c69dbaa-306e-4ada-a964-e943eb36cc6b\" style=\"background-color:blue; width:0%\">&nbsp;</div>\n",
       "            </div>\n",
       "            <label id=\"b53e1cce-895f-49ad-ba76-3f7667a0ee6b\" style=\"padding-left: 10px;\" text = \"\"/>\n",
       "            "
      ],
      "text/plain": [
       "<IPython.core.display.HTML object>"
      ]
     },
     "metadata": {},
     "output_type": "display_data"
    },
    {
     "data": {
      "text/html": [
       "\n",
       "            <div style=\"float: left; border: 1px solid black; width:500px\">\n",
       "              <div id=\"edd40308-e119-4df1-a23d-8f3c4b71dee1\" style=\"background-color:blue; width:0%\">&nbsp;</div>\n",
       "            </div>\n",
       "            <label id=\"f38d2124-78c5-4716-bdb3-65ed5d772a73\" style=\"padding-left: 10px;\" text = \"\"/>\n",
       "            "
      ],
      "text/plain": [
       "<IPython.core.display.HTML object>"
      ]
     },
     "metadata": {},
     "output_type": "display_data"
    },
    {
     "data": {
      "text/html": [
       "\n",
       "            <div style=\"float: left; border: 1px solid black; width:500px\">\n",
       "              <div id=\"49b334b7-25e4-4681-b4d7-10efa6abf57f\" style=\"background-color:blue; width:0%\">&nbsp;</div>\n",
       "            </div>\n",
       "            <label id=\"8c30384e-5cab-4d7a-9ae6-f16aa0666539\" style=\"padding-left: 10px;\" text = \"\"/>\n",
       "            "
      ],
      "text/plain": [
       "<IPython.core.display.HTML object>"
      ]
     },
     "metadata": {},
     "output_type": "display_data"
    },
    {
     "data": {
      "text/html": [
       "\n",
       "            <div style=\"float: left; border: 1px solid black; width:500px\">\n",
       "              <div id=\"f532ffd9-2491-4e51-9877-d01ccbae7370\" style=\"background-color:blue; width:0%\">&nbsp;</div>\n",
       "            </div>\n",
       "            <label id=\"a94dd3d1-71b4-4fdf-892c-70c989db1e6a\" style=\"padding-left: 10px;\" text = \"\"/>\n",
       "            "
      ],
      "text/plain": [
       "<IPython.core.display.HTML object>"
      ]
     },
     "metadata": {},
     "output_type": "display_data"
    },
    {
     "data": {
      "text/html": [
       "\n",
       "            <div style=\"float: left; border: 1px solid black; width:500px\">\n",
       "              <div id=\"ef72529f-cd0a-4831-8b3b-10e866e5278d\" style=\"background-color:blue; width:0%\">&nbsp;</div>\n",
       "            </div>\n",
       "            <label id=\"896965ef-98d7-4919-ab82-163fcfcc0d46\" style=\"padding-left: 10px;\" text = \"\"/>\n",
       "            "
      ],
      "text/plain": [
       "<IPython.core.display.HTML object>"
      ]
     },
     "metadata": {},
     "output_type": "display_data"
    },
    {
     "data": {
      "text/html": [
       "\n",
       "            <div style=\"float: left; border: 1px solid black; width:500px\">\n",
       "              <div id=\"deb50103-16ab-41fd-bbb4-df40d4cc8f57\" style=\"background-color:blue; width:0%\">&nbsp;</div>\n",
       "            </div>\n",
       "            <label id=\"87d50826-65fd-4e2a-98c1-ea7798f875a7\" style=\"padding-left: 10px;\" text = \"\"/>\n",
       "            "
      ],
      "text/plain": [
       "<IPython.core.display.HTML object>"
      ]
     },
     "metadata": {},
     "output_type": "display_data"
    },
    {
     "data": {
      "text/html": [
       "\n",
       "            <div style=\"float: left; border: 1px solid black; width:500px\">\n",
       "              <div id=\"41d19c10-326e-471c-850b-66e91fae5e8c\" style=\"background-color:blue; width:0%\">&nbsp;</div>\n",
       "            </div>\n",
       "            <label id=\"0e1015ac-88f8-4a30-b402-d34ff470f755\" style=\"padding-left: 10px;\" text = \"\"/>\n",
       "            "
      ],
      "text/plain": [
       "<IPython.core.display.HTML object>"
      ]
     },
     "metadata": {},
     "output_type": "display_data"
    },
    {
     "data": {
      "text/html": [
       "\n",
       "            <div style=\"float: left; border: 1px solid black; width:500px\">\n",
       "              <div id=\"e005cfd6-3286-4a00-bef8-f2eaf1a11aed\" style=\"background-color:blue; width:0%\">&nbsp;</div>\n",
       "            </div>\n",
       "            <label id=\"b3043b9d-1ae1-40da-afbb-da9e425fd33f\" style=\"padding-left: 10px;\" text = \"\"/>\n",
       "            "
      ],
      "text/plain": [
       "<IPython.core.display.HTML object>"
      ]
     },
     "metadata": {},
     "output_type": "display_data"
    },
    {
     "data": {
      "text/html": [
       "\n",
       "            <div style=\"float: left; border: 1px solid black; width:500px\">\n",
       "              <div id=\"5bcccb88-4203-4ab9-b5e6-a2fb4e2d6ab2\" style=\"background-color:blue; width:0%\">&nbsp;</div>\n",
       "            </div>\n",
       "            <label id=\"40d7068c-f2f0-42c7-8678-cbdc222d8d91\" style=\"padding-left: 10px;\" text = \"\"/>\n",
       "            "
      ],
      "text/plain": [
       "<IPython.core.display.HTML object>"
      ]
     },
     "metadata": {},
     "output_type": "display_data"
    },
    {
     "data": {
      "text/html": [
       "\n",
       "            <div style=\"float: left; border: 1px solid black; width:500px\">\n",
       "              <div id=\"5bdb9f7b-9a43-4597-8daf-c7abbab491c4\" style=\"background-color:blue; width:0%\">&nbsp;</div>\n",
       "            </div>\n",
       "            <label id=\"c54c3cd8-38eb-4a99-8b35-3e71b9739792\" style=\"padding-left: 10px;\" text = \"\"/>\n",
       "            "
      ],
      "text/plain": [
       "<IPython.core.display.HTML object>"
      ]
     },
     "metadata": {},
     "output_type": "display_data"
    },
    {
     "data": {
      "text/html": [
       "\n",
       "            <div style=\"float: left; border: 1px solid black; width:500px\">\n",
       "              <div id=\"d85d6f21-1d3d-4f67-a916-ed7d929699e8\" style=\"background-color:blue; width:0%\">&nbsp;</div>\n",
       "            </div>\n",
       "            <label id=\"f37b0a77-bb8b-4c41-b837-9ade778f18b1\" style=\"padding-left: 10px;\" text = \"\"/>\n",
       "            "
      ],
      "text/plain": [
       "<IPython.core.display.HTML object>"
      ]
     },
     "metadata": {},
     "output_type": "display_data"
    },
    {
     "data": {
      "text/html": [
       "\n",
       "            <div style=\"float: left; border: 1px solid black; width:500px\">\n",
       "              <div id=\"510b4c00-b953-48c8-b6f8-93c8cf97fcf0\" style=\"background-color:blue; width:0%\">&nbsp;</div>\n",
       "            </div>\n",
       "            <label id=\"87ad97f3-0a8f-485a-bce8-83f95f18bb78\" style=\"padding-left: 10px;\" text = \"\"/>\n",
       "            "
      ],
      "text/plain": [
       "<IPython.core.display.HTML object>"
      ]
     },
     "metadata": {},
     "output_type": "display_data"
    },
    {
     "data": {
      "text/html": [
       "\n",
       "            <div style=\"float: left; border: 1px solid black; width:500px\">\n",
       "              <div id=\"918e9302-a82d-4803-b727-2d0514fe53c3\" style=\"background-color:blue; width:0%\">&nbsp;</div>\n",
       "            </div>\n",
       "            <label id=\"0c5838f6-2664-4a68-95f8-93fef90f6c86\" style=\"padding-left: 10px;\" text = \"\"/>\n",
       "            "
      ],
      "text/plain": [
       "<IPython.core.display.HTML object>"
      ]
     },
     "metadata": {},
     "output_type": "display_data"
    },
    {
     "data": {
      "text/html": [
       "\n",
       "            <div style=\"float: left; border: 1px solid black; width:500px\">\n",
       "              <div id=\"344c3fcf-0eba-4d21-8c1f-424cefcc4c58\" style=\"background-color:blue; width:0%\">&nbsp;</div>\n",
       "            </div>\n",
       "            <label id=\"47f4150f-1e45-46e7-b949-49f1be98aa58\" style=\"padding-left: 10px;\" text = \"\"/>\n",
       "            "
      ],
      "text/plain": [
       "<IPython.core.display.HTML object>"
      ]
     },
     "metadata": {},
     "output_type": "display_data"
    },
    {
     "data": {
      "text/html": [
       "\n",
       "            <div style=\"float: left; border: 1px solid black; width:500px\">\n",
       "              <div id=\"adf58f31-1738-4af2-8372-57835ddf464c\" style=\"background-color:blue; width:0%\">&nbsp;</div>\n",
       "            </div>\n",
       "            <label id=\"461c9cef-8f76-4590-9906-91d4a8ceec5b\" style=\"padding-left: 10px;\" text = \"\"/>\n",
       "            "
      ],
      "text/plain": [
       "<IPython.core.display.HTML object>"
      ]
     },
     "metadata": {},
     "output_type": "display_data"
    },
    {
     "data": {
      "text/html": [
       "\n",
       "            <div style=\"float: left; border: 1px solid black; width:500px\">\n",
       "              <div id=\"fcd15256-baec-4fa6-9ba0-5bd68369a9f6\" style=\"background-color:blue; width:0%\">&nbsp;</div>\n",
       "            </div>\n",
       "            <label id=\"b5d24af1-edc7-440f-b40b-3c51acddee0c\" style=\"padding-left: 10px;\" text = \"\"/>\n",
       "            "
      ],
      "text/plain": [
       "<IPython.core.display.HTML object>"
      ]
     },
     "metadata": {},
     "output_type": "display_data"
    },
    {
     "data": {
      "text/html": [
       "\n",
       "            <div style=\"float: left; border: 1px solid black; width:500px\">\n",
       "              <div id=\"bc4db6d3-ca77-4619-b7c2-cd0efa12af90\" style=\"background-color:blue; width:0%\">&nbsp;</div>\n",
       "            </div>\n",
       "            <label id=\"184076a2-263f-4491-af07-6bc88e3c3006\" style=\"padding-left: 10px;\" text = \"\"/>\n",
       "            "
      ],
      "text/plain": [
       "<IPython.core.display.HTML object>"
      ]
     },
     "metadata": {},
     "output_type": "display_data"
    },
    {
     "data": {
      "text/html": [
       "\n",
       "            <div style=\"float: left; border: 1px solid black; width:500px\">\n",
       "              <div id=\"3dd51ca1-7e3e-4e3a-a15a-bbd8c04ecc11\" style=\"background-color:blue; width:0%\">&nbsp;</div>\n",
       "            </div>\n",
       "            <label id=\"3340864c-fc13-4a88-a7b3-821e575ca756\" style=\"padding-left: 10px;\" text = \"\"/>\n",
       "            "
      ],
      "text/plain": [
       "<IPython.core.display.HTML object>"
      ]
     },
     "metadata": {},
     "output_type": "display_data"
    },
    {
     "data": {
      "text/html": [
       "\n",
       "            <div style=\"float: left; border: 1px solid black; width:500px\">\n",
       "              <div id=\"68e95797-3020-465f-b2a2-6b10e8aa22a8\" style=\"background-color:blue; width:0%\">&nbsp;</div>\n",
       "            </div>\n",
       "            <label id=\"56b44e0c-66b7-4585-bd0d-3346686f1429\" style=\"padding-left: 10px;\" text = \"\"/>\n",
       "            "
      ],
      "text/plain": [
       "<IPython.core.display.HTML object>"
      ]
     },
     "metadata": {},
     "output_type": "display_data"
    },
    {
     "data": {
      "text/html": [
       "\n",
       "            <div style=\"float: left; border: 1px solid black; width:500px\">\n",
       "              <div id=\"934cc0e5-a22f-4121-b6f9-f92fc25168bf\" style=\"background-color:blue; width:0%\">&nbsp;</div>\n",
       "            </div>\n",
       "            <label id=\"5daf9281-864b-4574-a46b-b591aebc0e01\" style=\"padding-left: 10px;\" text = \"\"/>\n",
       "            "
      ],
      "text/plain": [
       "<IPython.core.display.HTML object>"
      ]
     },
     "metadata": {},
     "output_type": "display_data"
    },
    {
     "data": {
      "text/html": [
       "\n",
       "            <div style=\"float: left; border: 1px solid black; width:500px\">\n",
       "              <div id=\"5d3dd302-153f-4922-856b-66b5f0395cf3\" style=\"background-color:blue; width:0%\">&nbsp;</div>\n",
       "            </div>\n",
       "            <label id=\"75f83126-ba82-4e09-8982-f34d44a3c131\" style=\"padding-left: 10px;\" text = \"\"/>\n",
       "            "
      ],
      "text/plain": [
       "<IPython.core.display.HTML object>"
      ]
     },
     "metadata": {},
     "output_type": "display_data"
    },
    {
     "data": {
      "text/html": [
       "\n",
       "            <div style=\"float: left; border: 1px solid black; width:500px\">\n",
       "              <div id=\"e6860f60-f939-4cc1-b6d2-e432e6354b74\" style=\"background-color:blue; width:0%\">&nbsp;</div>\n",
       "            </div>\n",
       "            <label id=\"b6691024-edef-417b-8021-b8c44830116e\" style=\"padding-left: 10px;\" text = \"\"/>\n",
       "            "
      ],
      "text/plain": [
       "<IPython.core.display.HTML object>"
      ]
     },
     "metadata": {},
     "output_type": "display_data"
    },
    {
     "data": {
      "text/html": [
       "\n",
       "            <div style=\"float: left; border: 1px solid black; width:500px\">\n",
       "              <div id=\"e5627340-8b1a-4d1d-8a94-4d60b07feace\" style=\"background-color:blue; width:0%\">&nbsp;</div>\n",
       "            </div>\n",
       "            <label id=\"820efb0c-94cc-4ab2-b247-57d874441310\" style=\"padding-left: 10px;\" text = \"\"/>\n",
       "            "
      ],
      "text/plain": [
       "<IPython.core.display.HTML object>"
      ]
     },
     "metadata": {},
     "output_type": "display_data"
    },
    {
     "data": {
      "text/html": [
       "\n",
       "            <div style=\"float: left; border: 1px solid black; width:500px\">\n",
       "              <div id=\"ddd14f27-7c42-47b6-a79d-db353b7b90cb\" style=\"background-color:blue; width:0%\">&nbsp;</div>\n",
       "            </div>\n",
       "            <label id=\"7ac174d1-ac87-4b5d-bf23-19170a6ee6a0\" style=\"padding-left: 10px;\" text = \"\"/>\n",
       "            "
      ],
      "text/plain": [
       "<IPython.core.display.HTML object>"
      ]
     },
     "metadata": {},
     "output_type": "display_data"
    },
    {
     "data": {
      "text/html": [
       "\n",
       "            <div style=\"float: left; border: 1px solid black; width:500px\">\n",
       "              <div id=\"0c338b65-72a2-4c6e-9dae-7b433a740923\" style=\"background-color:blue; width:0%\">&nbsp;</div>\n",
       "            </div>\n",
       "            <label id=\"527fa568-e468-4af1-80c0-852758efb3df\" style=\"padding-left: 10px;\" text = \"\"/>\n",
       "            "
      ],
      "text/plain": [
       "<IPython.core.display.HTML object>"
      ]
     },
     "metadata": {},
     "output_type": "display_data"
    },
    {
     "data": {
      "text/html": [
       "\n",
       "            <div style=\"float: left; border: 1px solid black; width:500px\">\n",
       "              <div id=\"cbe8c4fd-217d-42da-98e5-6de695be8465\" style=\"background-color:blue; width:0%\">&nbsp;</div>\n",
       "            </div>\n",
       "            <label id=\"0cc90472-c19f-45d6-b40a-c54a257aa181\" style=\"padding-left: 10px;\" text = \"\"/>\n",
       "            "
      ],
      "text/plain": [
       "<IPython.core.display.HTML object>"
      ]
     },
     "metadata": {},
     "output_type": "display_data"
    },
    {
     "data": {
      "text/html": [
       "\n",
       "            <div style=\"float: left; border: 1px solid black; width:500px\">\n",
       "              <div id=\"7264b98c-2409-4ac3-9f7c-b7f9decc4995\" style=\"background-color:blue; width:0%\">&nbsp;</div>\n",
       "            </div>\n",
       "            <label id=\"ba6ae6dc-eb52-4bfd-9a1b-fc7b8dd01cb9\" style=\"padding-left: 10px;\" text = \"\"/>\n",
       "            "
      ],
      "text/plain": [
       "<IPython.core.display.HTML object>"
      ]
     },
     "metadata": {},
     "output_type": "display_data"
    },
    {
     "data": {
      "text/html": [
       "\n",
       "            <div style=\"float: left; border: 1px solid black; width:500px\">\n",
       "              <div id=\"f8e8b818-14f2-4146-8ab6-d9e4a2695d40\" style=\"background-color:blue; width:0%\">&nbsp;</div>\n",
       "            </div>\n",
       "            <label id=\"216b35d3-8eb9-4d12-918d-0b82591ca042\" style=\"padding-left: 10px;\" text = \"\"/>\n",
       "            "
      ],
      "text/plain": [
       "<IPython.core.display.HTML object>"
      ]
     },
     "metadata": {},
     "output_type": "display_data"
    },
    {
     "data": {
      "text/html": [
       "\n",
       "            <div style=\"float: left; border: 1px solid black; width:500px\">\n",
       "              <div id=\"e03901ba-ad6c-4192-88cf-8080315e7507\" style=\"background-color:blue; width:0%\">&nbsp;</div>\n",
       "            </div>\n",
       "            <label id=\"77ca3f69-ff0b-4e84-9e72-5fa0fbab0454\" style=\"padding-left: 10px;\" text = \"\"/>\n",
       "            "
      ],
      "text/plain": [
       "<IPython.core.display.HTML object>"
      ]
     },
     "metadata": {},
     "output_type": "display_data"
    },
    {
     "data": {
      "text/html": [
       "\n",
       "            <div style=\"float: left; border: 1px solid black; width:500px\">\n",
       "              <div id=\"217e3f5c-987c-446c-b569-0b65c4af9a86\" style=\"background-color:blue; width:0%\">&nbsp;</div>\n",
       "            </div>\n",
       "            <label id=\"2e9f61b1-6a78-4135-b60a-6eefb13c27ef\" style=\"padding-left: 10px;\" text = \"\"/>\n",
       "            "
      ],
      "text/plain": [
       "<IPython.core.display.HTML object>"
      ]
     },
     "metadata": {},
     "output_type": "display_data"
    },
    {
     "data": {
      "text/html": [
       "\n",
       "            <div style=\"float: left; border: 1px solid black; width:500px\">\n",
       "              <div id=\"5a146d98-9a5b-4f15-9a4e-7195d5e0c073\" style=\"background-color:blue; width:0%\">&nbsp;</div>\n",
       "            </div>\n",
       "            <label id=\"992c8ee0-2f05-4ddf-b3be-44eba48b8427\" style=\"padding-left: 10px;\" text = \"\"/>\n",
       "            "
      ],
      "text/plain": [
       "<IPython.core.display.HTML object>"
      ]
     },
     "metadata": {},
     "output_type": "display_data"
    },
    {
     "data": {
      "text/html": [
       "\n",
       "            <div style=\"float: left; border: 1px solid black; width:500px\">\n",
       "              <div id=\"5a914698-4901-4537-9f2f-50a3274b7956\" style=\"background-color:blue; width:0%\">&nbsp;</div>\n",
       "            </div>\n",
       "            <label id=\"276fd3eb-90ae-41d2-a86c-c4e05bdf5c18\" style=\"padding-left: 10px;\" text = \"\"/>\n",
       "            "
      ],
      "text/plain": [
       "<IPython.core.display.HTML object>"
      ]
     },
     "metadata": {},
     "output_type": "display_data"
    },
    {
     "data": {
      "text/html": [
       "\n",
       "            <div style=\"float: left; border: 1px solid black; width:500px\">\n",
       "              <div id=\"e23345af-1d0c-4292-ad35-ff2c5f14e01f\" style=\"background-color:blue; width:0%\">&nbsp;</div>\n",
       "            </div>\n",
       "            <label id=\"85a99ead-9399-4542-afc2-787957fd149c\" style=\"padding-left: 10px;\" text = \"\"/>\n",
       "            "
      ],
      "text/plain": [
       "<IPython.core.display.HTML object>"
      ]
     },
     "metadata": {},
     "output_type": "display_data"
    },
    {
     "data": {
      "text/html": [
       "\n",
       "            <div style=\"float: left; border: 1px solid black; width:500px\">\n",
       "              <div id=\"afdfcc08-0b46-4f4c-b0ed-d5b3f6f710ef\" style=\"background-color:blue; width:0%\">&nbsp;</div>\n",
       "            </div>\n",
       "            <label id=\"c0fc0158-4aa1-4f7b-be2a-9428a761e320\" style=\"padding-left: 10px;\" text = \"\"/>\n",
       "            "
      ],
      "text/plain": [
       "<IPython.core.display.HTML object>"
      ]
     },
     "metadata": {},
     "output_type": "display_data"
    },
    {
     "data": {
      "text/html": [
       "\n",
       "            <div style=\"float: left; border: 1px solid black; width:500px\">\n",
       "              <div id=\"f328ea59-e6fc-488b-a637-d8182c13308f\" style=\"background-color:blue; width:0%\">&nbsp;</div>\n",
       "            </div>\n",
       "            <label id=\"ad2027a5-ac14-41e8-866f-bd884fec60f3\" style=\"padding-left: 10px;\" text = \"\"/>\n",
       "            "
      ],
      "text/plain": [
       "<IPython.core.display.HTML object>"
      ]
     },
     "metadata": {},
     "output_type": "display_data"
    },
    {
     "data": {
      "text/html": [
       "\n",
       "            <div style=\"float: left; border: 1px solid black; width:500px\">\n",
       "              <div id=\"0d7e6004-f0ad-4765-bbfa-a326dd6e1a49\" style=\"background-color:blue; width:0%\">&nbsp;</div>\n",
       "            </div>\n",
       "            <label id=\"2419dc3f-964f-4da2-b8e8-632ef626a84b\" style=\"padding-left: 10px;\" text = \"\"/>\n",
       "            "
      ],
      "text/plain": [
       "<IPython.core.display.HTML object>"
      ]
     },
     "metadata": {},
     "output_type": "display_data"
    },
    {
     "data": {
      "text/html": [
       "\n",
       "            <div style=\"float: left; border: 1px solid black; width:500px\">\n",
       "              <div id=\"27fc8b5c-f7af-4418-8ab3-755f57ad891c\" style=\"background-color:blue; width:0%\">&nbsp;</div>\n",
       "            </div>\n",
       "            <label id=\"6957b869-2646-46f8-af3c-7187a8dfe643\" style=\"padding-left: 10px;\" text = \"\"/>\n",
       "            "
      ],
      "text/plain": [
       "<IPython.core.display.HTML object>"
      ]
     },
     "metadata": {},
     "output_type": "display_data"
    },
    {
     "data": {
      "text/html": [
       "\n",
       "            <div style=\"float: left; border: 1px solid black; width:500px\">\n",
       "              <div id=\"cb10510b-1ba4-4fc8-8b30-ab931dc1e8c8\" style=\"background-color:blue; width:0%\">&nbsp;</div>\n",
       "            </div>\n",
       "            <label id=\"8f6a7d65-e64b-4b82-adfb-9c7cf858753f\" style=\"padding-left: 10px;\" text = \"\"/>\n",
       "            "
      ],
      "text/plain": [
       "<IPython.core.display.HTML object>"
      ]
     },
     "metadata": {},
     "output_type": "display_data"
    },
    {
     "data": {
      "text/html": [
       "\n",
       "            <div style=\"float: left; border: 1px solid black; width:500px\">\n",
       "              <div id=\"bc5640a4-1832-4514-ae41-d85bdf18638c\" style=\"background-color:blue; width:0%\">&nbsp;</div>\n",
       "            </div>\n",
       "            <label id=\"6355f322-9e6e-4c04-8a19-ff5ba3313a6c\" style=\"padding-left: 10px;\" text = \"\"/>\n",
       "            "
      ],
      "text/plain": [
       "<IPython.core.display.HTML object>"
      ]
     },
     "metadata": {},
     "output_type": "display_data"
    },
    {
     "data": {
      "text/html": [
       "\n",
       "            <div style=\"float: left; border: 1px solid black; width:500px\">\n",
       "              <div id=\"db5853e4-75e9-4a96-8331-948f01419c1c\" style=\"background-color:blue; width:0%\">&nbsp;</div>\n",
       "            </div>\n",
       "            <label id=\"a460ee40-b1eb-4c8e-a5c0-54ec3c8c11b2\" style=\"padding-left: 10px;\" text = \"\"/>\n",
       "            "
      ],
      "text/plain": [
       "<IPython.core.display.HTML object>"
      ]
     },
     "metadata": {},
     "output_type": "display_data"
    },
    {
     "data": {
      "text/html": [
       "\n",
       "            <div style=\"float: left; border: 1px solid black; width:500px\">\n",
       "              <div id=\"1b0b921f-521a-4c65-932f-08a355c47cc9\" style=\"background-color:blue; width:0%\">&nbsp;</div>\n",
       "            </div>\n",
       "            <label id=\"4923861d-8b06-4922-b5c6-60e8548bdfc7\" style=\"padding-left: 10px;\" text = \"\"/>\n",
       "            "
      ],
      "text/plain": [
       "<IPython.core.display.HTML object>"
      ]
     },
     "metadata": {},
     "output_type": "display_data"
    },
    {
     "data": {
      "text/html": [
       "\n",
       "            <div style=\"float: left; border: 1px solid black; width:500px\">\n",
       "              <div id=\"ca055dfd-cfdd-43c4-b845-81f2d2999c8b\" style=\"background-color:blue; width:0%\">&nbsp;</div>\n",
       "            </div>\n",
       "            <label id=\"8b6b6318-bc91-4f44-83de-e232352dbda6\" style=\"padding-left: 10px;\" text = \"\"/>\n",
       "            "
      ],
      "text/plain": [
       "<IPython.core.display.HTML object>"
      ]
     },
     "metadata": {},
     "output_type": "display_data"
    },
    {
     "data": {
      "text/html": [
       "\n",
       "            <div style=\"float: left; border: 1px solid black; width:500px\">\n",
       "              <div id=\"d8db8bbd-49b6-4d96-929e-b643420de9bd\" style=\"background-color:blue; width:0%\">&nbsp;</div>\n",
       "            </div>\n",
       "            <label id=\"96a81320-1aa1-4ea1-88fc-578ae6c3dd76\" style=\"padding-left: 10px;\" text = \"\"/>\n",
       "            "
      ],
      "text/plain": [
       "<IPython.core.display.HTML object>"
      ]
     },
     "metadata": {},
     "output_type": "display_data"
    },
    {
     "data": {
      "text/html": [
       "\n",
       "            <div style=\"float: left; border: 1px solid black; width:500px\">\n",
       "              <div id=\"f7454f97-4065-4bb6-bc44-462e956ae302\" style=\"background-color:blue; width:0%\">&nbsp;</div>\n",
       "            </div>\n",
       "            <label id=\"97efc8a4-8fed-41b8-af98-7be4af34bec8\" style=\"padding-left: 10px;\" text = \"\"/>\n",
       "            "
      ],
      "text/plain": [
       "<IPython.core.display.HTML object>"
      ]
     },
     "metadata": {},
     "output_type": "display_data"
    },
    {
     "data": {
      "text/html": [
       "\n",
       "            <div style=\"float: left; border: 1px solid black; width:500px\">\n",
       "              <div id=\"2e2876e7-f1ce-4c87-9d85-439735a72b98\" style=\"background-color:blue; width:0%\">&nbsp;</div>\n",
       "            </div>\n",
       "            <label id=\"91dbd7f0-7f91-42cd-8180-5c7c80f2d467\" style=\"padding-left: 10px;\" text = \"\"/>\n",
       "            "
      ],
      "text/plain": [
       "<IPython.core.display.HTML object>"
      ]
     },
     "metadata": {},
     "output_type": "display_data"
    },
    {
     "data": {
      "text/html": [
       "\n",
       "            <div style=\"float: left; border: 1px solid black; width:500px\">\n",
       "              <div id=\"3ad8d511-e795-4ff3-a614-38f2629a62cb\" style=\"background-color:blue; width:0%\">&nbsp;</div>\n",
       "            </div>\n",
       "            <label id=\"bcab0807-d1b7-4935-9d7a-6012949a8a45\" style=\"padding-left: 10px;\" text = \"\"/>\n",
       "            "
      ],
      "text/plain": [
       "<IPython.core.display.HTML object>"
      ]
     },
     "metadata": {},
     "output_type": "display_data"
    },
    {
     "data": {
      "text/html": [
       "\n",
       "            <div style=\"float: left; border: 1px solid black; width:500px\">\n",
       "              <div id=\"3467baf1-d37b-4ec5-b775-3cc81165c536\" style=\"background-color:blue; width:0%\">&nbsp;</div>\n",
       "            </div>\n",
       "            <label id=\"eab98d3c-73b7-4535-bbf0-9015038b46ca\" style=\"padding-left: 10px;\" text = \"\"/>\n",
       "            "
      ],
      "text/plain": [
       "<IPython.core.display.HTML object>"
      ]
     },
     "metadata": {},
     "output_type": "display_data"
    },
    {
     "data": {
      "text/html": [
       "\n",
       "            <div style=\"float: left; border: 1px solid black; width:500px\">\n",
       "              <div id=\"7f622ce8-98d0-44da-b6cf-070f4d79e5c7\" style=\"background-color:blue; width:0%\">&nbsp;</div>\n",
       "            </div>\n",
       "            <label id=\"f1ebb8cc-8e0f-4917-bcbb-0f45c04eb16b\" style=\"padding-left: 10px;\" text = \"\"/>\n",
       "            "
      ],
      "text/plain": [
       "<IPython.core.display.HTML object>"
      ]
     },
     "metadata": {},
     "output_type": "display_data"
    },
    {
     "data": {
      "text/html": [
       "\n",
       "            <div style=\"float: left; border: 1px solid black; width:500px\">\n",
       "              <div id=\"a64b6cdc-96aa-48bc-9203-5fbedc05373c\" style=\"background-color:blue; width:0%\">&nbsp;</div>\n",
       "            </div>\n",
       "            <label id=\"bb3db9f6-ddb0-4f1a-8f1a-ed3fb4b11bbf\" style=\"padding-left: 10px;\" text = \"\"/>\n",
       "            "
      ],
      "text/plain": [
       "<IPython.core.display.HTML object>"
      ]
     },
     "metadata": {},
     "output_type": "display_data"
    },
    {
     "data": {
      "text/html": [
       "\n",
       "            <div style=\"float: left; border: 1px solid black; width:500px\">\n",
       "              <div id=\"a3cf4a52-77f7-4f9c-bb74-8a6dad13fc35\" style=\"background-color:blue; width:0%\">&nbsp;</div>\n",
       "            </div>\n",
       "            <label id=\"a69e07ba-6810-4456-b3db-be6c8e0849bc\" style=\"padding-left: 10px;\" text = \"\"/>\n",
       "            "
      ],
      "text/plain": [
       "<IPython.core.display.HTML object>"
      ]
     },
     "metadata": {},
     "output_type": "display_data"
    },
    {
     "data": {
      "text/html": [
       "\n",
       "            <div style=\"float: left; border: 1px solid black; width:500px\">\n",
       "              <div id=\"3a0af4b8-8d6a-46df-8364-935e560f0545\" style=\"background-color:blue; width:0%\">&nbsp;</div>\n",
       "            </div>\n",
       "            <label id=\"97505c33-5fbe-40a5-bfee-755377699571\" style=\"padding-left: 10px;\" text = \"\"/>\n",
       "            "
      ],
      "text/plain": [
       "<IPython.core.display.HTML object>"
      ]
     },
     "metadata": {},
     "output_type": "display_data"
    },
    {
     "data": {
      "text/html": [
       "\n",
       "            <div style=\"float: left; border: 1px solid black; width:500px\">\n",
       "              <div id=\"d3a555ed-cd54-4baa-90cb-824f0415a89a\" style=\"background-color:blue; width:0%\">&nbsp;</div>\n",
       "            </div>\n",
       "            <label id=\"c88ae229-b3d4-4ef9-910f-ba794e26094d\" style=\"padding-left: 10px;\" text = \"\"/>\n",
       "            "
      ],
      "text/plain": [
       "<IPython.core.display.HTML object>"
      ]
     },
     "metadata": {},
     "output_type": "display_data"
    },
    {
     "data": {
      "text/html": [
       "\n",
       "            <div style=\"float: left; border: 1px solid black; width:500px\">\n",
       "              <div id=\"f464499a-2d6c-4a8b-b565-5805cda0860b\" style=\"background-color:blue; width:0%\">&nbsp;</div>\n",
       "            </div>\n",
       "            <label id=\"e58d24a0-1ae3-4ffd-9b45-b61c90b4d4a7\" style=\"padding-left: 10px;\" text = \"\"/>\n",
       "            "
      ],
      "text/plain": [
       "<IPython.core.display.HTML object>"
      ]
     },
     "metadata": {},
     "output_type": "display_data"
    },
    {
     "data": {
      "text/html": [
       "\n",
       "            <div style=\"float: left; border: 1px solid black; width:500px\">\n",
       "              <div id=\"80e05078-253d-4666-8ea6-c7ff9b173019\" style=\"background-color:blue; width:0%\">&nbsp;</div>\n",
       "            </div>\n",
       "            <label id=\"a43b0585-3d65-4192-a655-1c7721b619fa\" style=\"padding-left: 10px;\" text = \"\"/>\n",
       "            "
      ],
      "text/plain": [
       "<IPython.core.display.HTML object>"
      ]
     },
     "metadata": {},
     "output_type": "display_data"
    },
    {
     "data": {
      "text/html": [
       "\n",
       "            <div style=\"float: left; border: 1px solid black; width:500px\">\n",
       "              <div id=\"6690ba66-860a-408d-92e9-0ac405b24b54\" style=\"background-color:blue; width:0%\">&nbsp;</div>\n",
       "            </div>\n",
       "            <label id=\"6755413b-d9cf-4a8b-a14f-850d700d55da\" style=\"padding-left: 10px;\" text = \"\"/>\n",
       "            "
      ],
      "text/plain": [
       "<IPython.core.display.HTML object>"
      ]
     },
     "metadata": {},
     "output_type": "display_data"
    },
    {
     "data": {
      "text/html": [
       "\n",
       "            <div style=\"float: left; border: 1px solid black; width:500px\">\n",
       "              <div id=\"d1f5f08a-b204-4335-bff2-2ff231701b6a\" style=\"background-color:blue; width:0%\">&nbsp;</div>\n",
       "            </div>\n",
       "            <label id=\"bc21df3b-abac-403f-8a97-6780ad2a0682\" style=\"padding-left: 10px;\" text = \"\"/>\n",
       "            "
      ],
      "text/plain": [
       "<IPython.core.display.HTML object>"
      ]
     },
     "metadata": {},
     "output_type": "display_data"
    },
    {
     "data": {
      "text/html": [
       "\n",
       "            <div style=\"float: left; border: 1px solid black; width:500px\">\n",
       "              <div id=\"712d7530-edd3-4595-8c2b-2579e8649481\" style=\"background-color:blue; width:0%\">&nbsp;</div>\n",
       "            </div>\n",
       "            <label id=\"f60fdbcd-d88d-4ee5-9f31-f993560ec10a\" style=\"padding-left: 10px;\" text = \"\"/>\n",
       "            "
      ],
      "text/plain": [
       "<IPython.core.display.HTML object>"
      ]
     },
     "metadata": {},
     "output_type": "display_data"
    },
    {
     "data": {
      "text/html": [
       "\n",
       "            <div style=\"float: left; border: 1px solid black; width:500px\">\n",
       "              <div id=\"ee28a087-f53a-465b-b511-1dcd34718aad\" style=\"background-color:blue; width:0%\">&nbsp;</div>\n",
       "            </div>\n",
       "            <label id=\"a1a793b2-70b5-45a4-aa4f-a6e1c95fb772\" style=\"padding-left: 10px;\" text = \"\"/>\n",
       "            "
      ],
      "text/plain": [
       "<IPython.core.display.HTML object>"
      ]
     },
     "metadata": {},
     "output_type": "display_data"
    },
    {
     "data": {
      "text/html": [
       "\n",
       "            <div style=\"float: left; border: 1px solid black; width:500px\">\n",
       "              <div id=\"f815e01f-b779-435b-a3f9-557e1de7c502\" style=\"background-color:blue; width:0%\">&nbsp;</div>\n",
       "            </div>\n",
       "            <label id=\"7164859d-606a-47bb-83f5-9aea85fdefcf\" style=\"padding-left: 10px;\" text = \"\"/>\n",
       "            "
      ],
      "text/plain": [
       "<IPython.core.display.HTML object>"
      ]
     },
     "metadata": {},
     "output_type": "display_data"
    },
    {
     "data": {
      "text/html": [
       "\n",
       "            <div style=\"float: left; border: 1px solid black; width:500px\">\n",
       "              <div id=\"5ebceeb2-325e-4339-a54a-cbb931385864\" style=\"background-color:blue; width:0%\">&nbsp;</div>\n",
       "            </div>\n",
       "            <label id=\"ec110d76-5866-4b02-8e80-8f45743df90e\" style=\"padding-left: 10px;\" text = \"\"/>\n",
       "            "
      ],
      "text/plain": [
       "<IPython.core.display.HTML object>"
      ]
     },
     "metadata": {},
     "output_type": "display_data"
    },
    {
     "data": {
      "text/html": [
       "\n",
       "            <div style=\"float: left; border: 1px solid black; width:500px\">\n",
       "              <div id=\"ffba6536-be0d-499a-bd69-10d69f08d36e\" style=\"background-color:blue; width:0%\">&nbsp;</div>\n",
       "            </div>\n",
       "            <label id=\"07557df9-651e-4bf6-af16-240bbea8d3c4\" style=\"padding-left: 10px;\" text = \"\"/>\n",
       "            "
      ],
      "text/plain": [
       "<IPython.core.display.HTML object>"
      ]
     },
     "metadata": {},
     "output_type": "display_data"
    },
    {
     "data": {
      "text/html": [
       "\n",
       "            <div style=\"float: left; border: 1px solid black; width:500px\">\n",
       "              <div id=\"acb8ac9d-6b63-4b02-8f2a-fda6536baaef\" style=\"background-color:blue; width:0%\">&nbsp;</div>\n",
       "            </div>\n",
       "            <label id=\"219a4811-9b3c-4e5c-9f58-d14ca47fbb7e\" style=\"padding-left: 10px;\" text = \"\"/>\n",
       "            "
      ],
      "text/plain": [
       "<IPython.core.display.HTML object>"
      ]
     },
     "metadata": {},
     "output_type": "display_data"
    },
    {
     "data": {
      "text/html": [
       "\n",
       "            <div style=\"float: left; border: 1px solid black; width:500px\">\n",
       "              <div id=\"25691094-9480-4cfb-9e77-86aa1da55a23\" style=\"background-color:blue; width:0%\">&nbsp;</div>\n",
       "            </div>\n",
       "            <label id=\"c7e0fee6-41e6-4a0d-8dd3-630bb0181928\" style=\"padding-left: 10px;\" text = \"\"/>\n",
       "            "
      ],
      "text/plain": [
       "<IPython.core.display.HTML object>"
      ]
     },
     "metadata": {},
     "output_type": "display_data"
    },
    {
     "data": {
      "text/html": [
       "\n",
       "            <div style=\"float: left; border: 1px solid black; width:500px\">\n",
       "              <div id=\"eae70a89-700d-4834-b504-ec7e414809a9\" style=\"background-color:blue; width:0%\">&nbsp;</div>\n",
       "            </div>\n",
       "            <label id=\"0735887b-e9b6-4491-8650-25aca48bff91\" style=\"padding-left: 10px;\" text = \"\"/>\n",
       "            "
      ],
      "text/plain": [
       "<IPython.core.display.HTML object>"
      ]
     },
     "metadata": {},
     "output_type": "display_data"
    },
    {
     "data": {
      "text/html": [
       "\n",
       "            <div style=\"float: left; border: 1px solid black; width:500px\">\n",
       "              <div id=\"3d2c2106-a968-4de2-a014-03f9018fedca\" style=\"background-color:blue; width:0%\">&nbsp;</div>\n",
       "            </div>\n",
       "            <label id=\"bfe295f7-73bb-4611-b651-cb4ac603db2c\" style=\"padding-left: 10px;\" text = \"\"/>\n",
       "            "
      ],
      "text/plain": [
       "<IPython.core.display.HTML object>"
      ]
     },
     "metadata": {},
     "output_type": "display_data"
    },
    {
     "data": {
      "text/html": [
       "\n",
       "            <div style=\"float: left; border: 1px solid black; width:500px\">\n",
       "              <div id=\"e7149c8d-6664-42c5-ba48-f9c074fdbf31\" style=\"background-color:blue; width:0%\">&nbsp;</div>\n",
       "            </div>\n",
       "            <label id=\"9c2a9d91-dcb8-442f-b369-bef2f1ae5154\" style=\"padding-left: 10px;\" text = \"\"/>\n",
       "            "
      ],
      "text/plain": [
       "<IPython.core.display.HTML object>"
      ]
     },
     "metadata": {},
     "output_type": "display_data"
    },
    {
     "data": {
      "text/html": [
       "\n",
       "            <div style=\"float: left; border: 1px solid black; width:500px\">\n",
       "              <div id=\"ee92507d-c41d-4914-a20a-473a11ae878a\" style=\"background-color:blue; width:0%\">&nbsp;</div>\n",
       "            </div>\n",
       "            <label id=\"70061fe8-cb32-4da3-8303-2e4bb33a7c04\" style=\"padding-left: 10px;\" text = \"\"/>\n",
       "            "
      ],
      "text/plain": [
       "<IPython.core.display.HTML object>"
      ]
     },
     "metadata": {},
     "output_type": "display_data"
    },
    {
     "data": {
      "text/html": [
       "\n",
       "            <div style=\"float: left; border: 1px solid black; width:500px\">\n",
       "              <div id=\"70fcd332-6d17-427d-9620-f6fe593882c8\" style=\"background-color:blue; width:0%\">&nbsp;</div>\n",
       "            </div>\n",
       "            <label id=\"4274c34b-f63f-4474-aa21-267d513f6f72\" style=\"padding-left: 10px;\" text = \"\"/>\n",
       "            "
      ],
      "text/plain": [
       "<IPython.core.display.HTML object>"
      ]
     },
     "metadata": {},
     "output_type": "display_data"
    },
    {
     "data": {
      "text/html": [
       "\n",
       "            <div style=\"float: left; border: 1px solid black; width:500px\">\n",
       "              <div id=\"bf4b3e58-be93-41fa-8735-f4eaad949690\" style=\"background-color:blue; width:0%\">&nbsp;</div>\n",
       "            </div>\n",
       "            <label id=\"75974b98-c1ac-4bde-8b7c-fb5c5d4007b8\" style=\"padding-left: 10px;\" text = \"\"/>\n",
       "            "
      ],
      "text/plain": [
       "<IPython.core.display.HTML object>"
      ]
     },
     "metadata": {},
     "output_type": "display_data"
    },
    {
     "data": {
      "text/html": [
       "\n",
       "            <div style=\"float: left; border: 1px solid black; width:500px\">\n",
       "              <div id=\"bd0c8b13-555c-455a-83a3-05c306c96aad\" style=\"background-color:blue; width:0%\">&nbsp;</div>\n",
       "            </div>\n",
       "            <label id=\"686ab67c-fd83-4758-973e-c6a66320ca5e\" style=\"padding-left: 10px;\" text = \"\"/>\n",
       "            "
      ],
      "text/plain": [
       "<IPython.core.display.HTML object>"
      ]
     },
     "metadata": {},
     "output_type": "display_data"
    },
    {
     "data": {
      "text/html": [
       "\n",
       "            <div style=\"float: left; border: 1px solid black; width:500px\">\n",
       "              <div id=\"778f5d85-4408-444d-b1b8-c8c19a9d0887\" style=\"background-color:blue; width:0%\">&nbsp;</div>\n",
       "            </div>\n",
       "            <label id=\"84c84516-0c8e-4b7f-8759-b26e5dca3d9f\" style=\"padding-left: 10px;\" text = \"\"/>\n",
       "            "
      ],
      "text/plain": [
       "<IPython.core.display.HTML object>"
      ]
     },
     "metadata": {},
     "output_type": "display_data"
    },
    {
     "data": {
      "text/html": [
       "\n",
       "            <div style=\"float: left; border: 1px solid black; width:500px\">\n",
       "              <div id=\"562e26a8-2805-4d62-b10d-e5c00427eaaa\" style=\"background-color:blue; width:0%\">&nbsp;</div>\n",
       "            </div>\n",
       "            <label id=\"14f1e9fd-edaf-4e53-9163-87860d6dfb66\" style=\"padding-left: 10px;\" text = \"\"/>\n",
       "            "
      ],
      "text/plain": [
       "<IPython.core.display.HTML object>"
      ]
     },
     "metadata": {},
     "output_type": "display_data"
    },
    {
     "data": {
      "text/html": [
       "\n",
       "            <div style=\"float: left; border: 1px solid black; width:500px\">\n",
       "              <div id=\"ba8daf06-00c9-4bc4-bf8e-1de9d40bbc33\" style=\"background-color:blue; width:0%\">&nbsp;</div>\n",
       "            </div>\n",
       "            <label id=\"bb853e69-3b14-40fa-bd49-5ce05e7e5659\" style=\"padding-left: 10px;\" text = \"\"/>\n",
       "            "
      ],
      "text/plain": [
       "<IPython.core.display.HTML object>"
      ]
     },
     "metadata": {},
     "output_type": "display_data"
    },
    {
     "data": {
      "text/html": [
       "\n",
       "            <div style=\"float: left; border: 1px solid black; width:500px\">\n",
       "              <div id=\"3a92c11c-0248-4d70-aabc-b41f3f18f746\" style=\"background-color:blue; width:0%\">&nbsp;</div>\n",
       "            </div>\n",
       "            <label id=\"cb6ffd01-30b6-41f8-80e6-e09a3e588302\" style=\"padding-left: 10px;\" text = \"\"/>\n",
       "            "
      ],
      "text/plain": [
       "<IPython.core.display.HTML object>"
      ]
     },
     "metadata": {},
     "output_type": "display_data"
    },
    {
     "data": {
      "text/html": [
       "\n",
       "            <div style=\"float: left; border: 1px solid black; width:500px\">\n",
       "              <div id=\"bc24bb12-40fd-4233-ac17-7e6b9857f81e\" style=\"background-color:blue; width:0%\">&nbsp;</div>\n",
       "            </div>\n",
       "            <label id=\"e4366d99-3904-4bf9-9db6-0b2c920aba92\" style=\"padding-left: 10px;\" text = \"\"/>\n",
       "            "
      ],
      "text/plain": [
       "<IPython.core.display.HTML object>"
      ]
     },
     "metadata": {},
     "output_type": "display_data"
    },
    {
     "data": {
      "text/html": [
       "\n",
       "            <div style=\"float: left; border: 1px solid black; width:500px\">\n",
       "              <div id=\"a92ac79d-6f90-4ba7-ad2c-002c06756988\" style=\"background-color:blue; width:0%\">&nbsp;</div>\n",
       "            </div>\n",
       "            <label id=\"160bbefe-a13b-4674-906a-b5800346fa29\" style=\"padding-left: 10px;\" text = \"\"/>\n",
       "            "
      ],
      "text/plain": [
       "<IPython.core.display.HTML object>"
      ]
     },
     "metadata": {},
     "output_type": "display_data"
    },
    {
     "data": {
      "text/html": [
       "\n",
       "            <div style=\"float: left; border: 1px solid black; width:500px\">\n",
       "              <div id=\"080ed611-64d4-49af-bf04-1a7616696fc8\" style=\"background-color:blue; width:0%\">&nbsp;</div>\n",
       "            </div>\n",
       "            <label id=\"75bd4046-9857-49a6-ae8a-bbe0d469b28a\" style=\"padding-left: 10px;\" text = \"\"/>\n",
       "            "
      ],
      "text/plain": [
       "<IPython.core.display.HTML object>"
      ]
     },
     "metadata": {},
     "output_type": "display_data"
    },
    {
     "data": {
      "text/html": [
       "\n",
       "            <div style=\"float: left; border: 1px solid black; width:500px\">\n",
       "              <div id=\"8f7fac91-a753-4f33-ad23-905bdba4457f\" style=\"background-color:blue; width:0%\">&nbsp;</div>\n",
       "            </div>\n",
       "            <label id=\"b6031c60-4ee5-4b0d-819e-397607339579\" style=\"padding-left: 10px;\" text = \"\"/>\n",
       "            "
      ],
      "text/plain": [
       "<IPython.core.display.HTML object>"
      ]
     },
     "metadata": {},
     "output_type": "display_data"
    },
    {
     "data": {
      "text/html": [
       "\n",
       "            <div style=\"float: left; border: 1px solid black; width:500px\">\n",
       "              <div id=\"cdf8f71f-fb70-46f4-9781-54b60f0df23b\" style=\"background-color:blue; width:0%\">&nbsp;</div>\n",
       "            </div>\n",
       "            <label id=\"4633a181-188a-4640-a6f1-16def8bdd74b\" style=\"padding-left: 10px;\" text = \"\"/>\n",
       "            "
      ],
      "text/plain": [
       "<IPython.core.display.HTML object>"
      ]
     },
     "metadata": {},
     "output_type": "display_data"
    },
    {
     "data": {
      "text/html": [
       "\n",
       "            <div style=\"float: left; border: 1px solid black; width:500px\">\n",
       "              <div id=\"984b878b-78b5-494d-b810-a88a587b0e05\" style=\"background-color:blue; width:0%\">&nbsp;</div>\n",
       "            </div>\n",
       "            <label id=\"5c93842a-880f-4b9c-8d6f-291dd05e0605\" style=\"padding-left: 10px;\" text = \"\"/>\n",
       "            "
      ],
      "text/plain": [
       "<IPython.core.display.HTML object>"
      ]
     },
     "metadata": {},
     "output_type": "display_data"
    },
    {
     "data": {
      "text/html": [
       "\n",
       "            <div style=\"float: left; border: 1px solid black; width:500px\">\n",
       "              <div id=\"f5b23b8c-07b8-48ae-ab6c-9c1e61cf6145\" style=\"background-color:blue; width:0%\">&nbsp;</div>\n",
       "            </div>\n",
       "            <label id=\"20e4697a-6526-42c1-8b53-f36eb3596941\" style=\"padding-left: 10px;\" text = \"\"/>\n",
       "            "
      ],
      "text/plain": [
       "<IPython.core.display.HTML object>"
      ]
     },
     "metadata": {},
     "output_type": "display_data"
    },
    {
     "data": {
      "text/html": [
       "\n",
       "            <div style=\"float: left; border: 1px solid black; width:500px\">\n",
       "              <div id=\"ae249425-15e5-4b52-ba78-a52a6998fdf4\" style=\"background-color:blue; width:0%\">&nbsp;</div>\n",
       "            </div>\n",
       "            <label id=\"4050555b-caf7-41e5-a768-52be694afd89\" style=\"padding-left: 10px;\" text = \"\"/>\n",
       "            "
      ],
      "text/plain": [
       "<IPython.core.display.HTML object>"
      ]
     },
     "metadata": {},
     "output_type": "display_data"
    },
    {
     "data": {
      "text/html": [
       "\n",
       "            <div style=\"float: left; border: 1px solid black; width:500px\">\n",
       "              <div id=\"1b1fcbe9-c7c9-41e4-ab75-b3e13f10864b\" style=\"background-color:blue; width:0%\">&nbsp;</div>\n",
       "            </div>\n",
       "            <label id=\"365aca13-bde7-4969-9135-c568f0d74b14\" style=\"padding-left: 10px;\" text = \"\"/>\n",
       "            "
      ],
      "text/plain": [
       "<IPython.core.display.HTML object>"
      ]
     },
     "metadata": {},
     "output_type": "display_data"
    },
    {
     "data": {
      "text/html": [
       "\n",
       "            <div style=\"float: left; border: 1px solid black; width:500px\">\n",
       "              <div id=\"ac59dc33-49df-4f16-9c2b-84f01ce64ee2\" style=\"background-color:blue; width:0%\">&nbsp;</div>\n",
       "            </div>\n",
       "            <label id=\"2cf2b040-4f5c-489a-8eba-1753c7937428\" style=\"padding-left: 10px;\" text = \"\"/>\n",
       "            "
      ],
      "text/plain": [
       "<IPython.core.display.HTML object>"
      ]
     },
     "metadata": {},
     "output_type": "display_data"
    },
    {
     "data": {
      "text/html": [
       "\n",
       "            <div style=\"float: left; border: 1px solid black; width:500px\">\n",
       "              <div id=\"5d977df0-36ad-46b8-bfd2-5380cfc2b19e\" style=\"background-color:blue; width:0%\">&nbsp;</div>\n",
       "            </div>\n",
       "            <label id=\"18a9bc66-cdc5-4d9f-abdc-bfe55441836c\" style=\"padding-left: 10px;\" text = \"\"/>\n",
       "            "
      ],
      "text/plain": [
       "<IPython.core.display.HTML object>"
      ]
     },
     "metadata": {},
     "output_type": "display_data"
    },
    {
     "data": {
      "text/html": [
       "\n",
       "            <div style=\"float: left; border: 1px solid black; width:500px\">\n",
       "              <div id=\"dec732bb-4efa-44a0-a738-7c92419ae0c8\" style=\"background-color:blue; width:0%\">&nbsp;</div>\n",
       "            </div>\n",
       "            <label id=\"a68b2f5c-504d-40f3-8a42-8b61a68b3490\" style=\"padding-left: 10px;\" text = \"\"/>\n",
       "            "
      ],
      "text/plain": [
       "<IPython.core.display.HTML object>"
      ]
     },
     "metadata": {},
     "output_type": "display_data"
    },
    {
     "data": {
      "text/html": [
       "\n",
       "            <div style=\"float: left; border: 1px solid black; width:500px\">\n",
       "              <div id=\"7e80deb2-5a9f-4eac-8a15-22ed01709624\" style=\"background-color:blue; width:0%\">&nbsp;</div>\n",
       "            </div>\n",
       "            <label id=\"1f37b69d-5fff-4a79-92a3-1669dcc83cf7\" style=\"padding-left: 10px;\" text = \"\"/>\n",
       "            "
      ],
      "text/plain": [
       "<IPython.core.display.HTML object>"
      ]
     },
     "metadata": {},
     "output_type": "display_data"
    },
    {
     "data": {
      "text/html": [
       "\n",
       "            <div style=\"float: left; border: 1px solid black; width:500px\">\n",
       "              <div id=\"98887d61-767a-477f-8c55-85836f58e2f6\" style=\"background-color:blue; width:0%\">&nbsp;</div>\n",
       "            </div>\n",
       "            <label id=\"c41b7c6f-30cb-4351-bc8c-7ea4c58b1bd6\" style=\"padding-left: 10px;\" text = \"\"/>\n",
       "            "
      ],
      "text/plain": [
       "<IPython.core.display.HTML object>"
      ]
     },
     "metadata": {},
     "output_type": "display_data"
    },
    {
     "data": {
      "text/html": [
       "\n",
       "            <div style=\"float: left; border: 1px solid black; width:500px\">\n",
       "              <div id=\"3d5aa4dc-0109-4c9c-9378-2abd7492b025\" style=\"background-color:blue; width:0%\">&nbsp;</div>\n",
       "            </div>\n",
       "            <label id=\"4c331d29-81c2-41e6-84b9-3ecae684e736\" style=\"padding-left: 10px;\" text = \"\"/>\n",
       "            "
      ],
      "text/plain": [
       "<IPython.core.display.HTML object>"
      ]
     },
     "metadata": {},
     "output_type": "display_data"
    },
    {
     "data": {
      "text/html": [
       "\n",
       "            <div style=\"float: left; border: 1px solid black; width:500px\">\n",
       "              <div id=\"2bd38f65-d282-4611-a41b-6b63b6fa7d1b\" style=\"background-color:blue; width:0%\">&nbsp;</div>\n",
       "            </div>\n",
       "            <label id=\"cf00cfcb-aaf3-4b29-a694-752d2c4ab3e4\" style=\"padding-left: 10px;\" text = \"\"/>\n",
       "            "
      ],
      "text/plain": [
       "<IPython.core.display.HTML object>"
      ]
     },
     "metadata": {},
     "output_type": "display_data"
    },
    {
     "data": {
      "text/html": [
       "\n",
       "            <div style=\"float: left; border: 1px solid black; width:500px\">\n",
       "              <div id=\"7701ee46-05d1-440c-b2d3-92b1a16134c9\" style=\"background-color:blue; width:0%\">&nbsp;</div>\n",
       "            </div>\n",
       "            <label id=\"eeb77310-af72-4ef2-9d05-b569633200eb\" style=\"padding-left: 10px;\" text = \"\"/>\n",
       "            "
      ],
      "text/plain": [
       "<IPython.core.display.HTML object>"
      ]
     },
     "metadata": {},
     "output_type": "display_data"
    },
    {
     "data": {
      "text/html": [
       "\n",
       "            <div style=\"float: left; border: 1px solid black; width:500px\">\n",
       "              <div id=\"656e4ae5-7674-4af9-ac97-b3f3cd135fa1\" style=\"background-color:blue; width:0%\">&nbsp;</div>\n",
       "            </div>\n",
       "            <label id=\"aab2926d-cd78-4a93-8ecb-f07c5694eedc\" style=\"padding-left: 10px;\" text = \"\"/>\n",
       "            "
      ],
      "text/plain": [
       "<IPython.core.display.HTML object>"
      ]
     },
     "metadata": {},
     "output_type": "display_data"
    },
    {
     "data": {
      "text/html": [
       "\n",
       "            <div style=\"float: left; border: 1px solid black; width:500px\">\n",
       "              <div id=\"08a58ad4-f1e4-4287-ba47-5c7010011a44\" style=\"background-color:blue; width:0%\">&nbsp;</div>\n",
       "            </div>\n",
       "            <label id=\"ca446b58-1194-44fc-b5fe-badbb13d491d\" style=\"padding-left: 10px;\" text = \"\"/>\n",
       "            "
      ],
      "text/plain": [
       "<IPython.core.display.HTML object>"
      ]
     },
     "metadata": {},
     "output_type": "display_data"
    },
    {
     "data": {
      "text/html": [
       "\n",
       "            <div style=\"float: left; border: 1px solid black; width:500px\">\n",
       "              <div id=\"24498ef9-9320-482a-9831-eebe354694d2\" style=\"background-color:blue; width:0%\">&nbsp;</div>\n",
       "            </div>\n",
       "            <label id=\"07e55ffc-e9ad-43ef-9f5d-5c62d0dea62e\" style=\"padding-left: 10px;\" text = \"\"/>\n",
       "            "
      ],
      "text/plain": [
       "<IPython.core.display.HTML object>"
      ]
     },
     "metadata": {},
     "output_type": "display_data"
    },
    {
     "data": {
      "text/html": [
       "\n",
       "            <div style=\"float: left; border: 1px solid black; width:500px\">\n",
       "              <div id=\"065d28ef-84a1-4b40-b6f7-1e8d9e1428cb\" style=\"background-color:blue; width:0%\">&nbsp;</div>\n",
       "            </div>\n",
       "            <label id=\"ed400a18-2a64-4287-b8f8-2e7f4da71f01\" style=\"padding-left: 10px;\" text = \"\"/>\n",
       "            "
      ],
      "text/plain": [
       "<IPython.core.display.HTML object>"
      ]
     },
     "metadata": {},
     "output_type": "display_data"
    },
    {
     "data": {
      "text/html": [
       "\n",
       "            <div style=\"float: left; border: 1px solid black; width:500px\">\n",
       "              <div id=\"68ed87e9-6ad2-4b10-8ac0-ce900d8ad0b1\" style=\"background-color:blue; width:0%\">&nbsp;</div>\n",
       "            </div>\n",
       "            <label id=\"11ddb683-2c05-4524-8282-c067d2d3b595\" style=\"padding-left: 10px;\" text = \"\"/>\n",
       "            "
      ],
      "text/plain": [
       "<IPython.core.display.HTML object>"
      ]
     },
     "metadata": {},
     "output_type": "display_data"
    },
    {
     "data": {
      "text/html": [
       "\n",
       "            <div style=\"float: left; border: 1px solid black; width:500px\">\n",
       "              <div id=\"8e2c42df-78fa-4777-8676-03e9354680b9\" style=\"background-color:blue; width:0%\">&nbsp;</div>\n",
       "            </div>\n",
       "            <label id=\"6c1af444-9344-4e3c-8b18-9c9c81788847\" style=\"padding-left: 10px;\" text = \"\"/>\n",
       "            "
      ],
      "text/plain": [
       "<IPython.core.display.HTML object>"
      ]
     },
     "metadata": {},
     "output_type": "display_data"
    },
    {
     "data": {
      "text/html": [
       "\n",
       "            <div style=\"float: left; border: 1px solid black; width:500px\">\n",
       "              <div id=\"76451603-179b-4417-9b3d-e036d8c27e48\" style=\"background-color:blue; width:0%\">&nbsp;</div>\n",
       "            </div>\n",
       "            <label id=\"278c8e1e-089a-4131-bec2-e4c6be898d94\" style=\"padding-left: 10px;\" text = \"\"/>\n",
       "            "
      ],
      "text/plain": [
       "<IPython.core.display.HTML object>"
      ]
     },
     "metadata": {},
     "output_type": "display_data"
    },
    {
     "data": {
      "text/html": [
       "\n",
       "            <div style=\"float: left; border: 1px solid black; width:500px\">\n",
       "              <div id=\"e6d47b59-d1d2-41fc-8618-afd41d22a742\" style=\"background-color:blue; width:0%\">&nbsp;</div>\n",
       "            </div>\n",
       "            <label id=\"aab9ab5a-167a-414f-ad97-76e5b5215b4f\" style=\"padding-left: 10px;\" text = \"\"/>\n",
       "            "
      ],
      "text/plain": [
       "<IPython.core.display.HTML object>"
      ]
     },
     "metadata": {},
     "output_type": "display_data"
    },
    {
     "data": {
      "text/html": [
       "\n",
       "            <div style=\"float: left; border: 1px solid black; width:500px\">\n",
       "              <div id=\"e2f14350-9f83-42b8-af06-19f7b612363a\" style=\"background-color:blue; width:0%\">&nbsp;</div>\n",
       "            </div>\n",
       "            <label id=\"58ebbfb1-2691-4d58-a9f7-a7e9af0f05e5\" style=\"padding-left: 10px;\" text = \"\"/>\n",
       "            "
      ],
      "text/plain": [
       "<IPython.core.display.HTML object>"
      ]
     },
     "metadata": {},
     "output_type": "display_data"
    },
    {
     "data": {
      "text/html": [
       "\n",
       "            <div style=\"float: left; border: 1px solid black; width:500px\">\n",
       "              <div id=\"3248a8d7-3b9d-440f-96b8-b098c9cd9982\" style=\"background-color:blue; width:0%\">&nbsp;</div>\n",
       "            </div>\n",
       "            <label id=\"e35bfc85-b401-4a46-a83e-0c507a765e0e\" style=\"padding-left: 10px;\" text = \"\"/>\n",
       "            "
      ],
      "text/plain": [
       "<IPython.core.display.HTML object>"
      ]
     },
     "metadata": {},
     "output_type": "display_data"
    },
    {
     "data": {
      "text/html": [
       "\n",
       "            <div style=\"float: left; border: 1px solid black; width:500px\">\n",
       "              <div id=\"64c19595-960d-4704-b1db-c5203938df98\" style=\"background-color:blue; width:0%\">&nbsp;</div>\n",
       "            </div>\n",
       "            <label id=\"ff927eed-ee19-4afc-9a2c-fa3767b88691\" style=\"padding-left: 10px;\" text = \"\"/>\n",
       "            "
      ],
      "text/plain": [
       "<IPython.core.display.HTML object>"
      ]
     },
     "metadata": {},
     "output_type": "display_data"
    },
    {
     "data": {
      "text/html": [
       "\n",
       "            <div style=\"float: left; border: 1px solid black; width:500px\">\n",
       "              <div id=\"29328ae9-287d-4556-97d2-b4eece43ac19\" style=\"background-color:blue; width:0%\">&nbsp;</div>\n",
       "            </div>\n",
       "            <label id=\"521eeba1-a8b1-452c-afec-d170e779cfff\" style=\"padding-left: 10px;\" text = \"\"/>\n",
       "            "
      ],
      "text/plain": [
       "<IPython.core.display.HTML object>"
      ]
     },
     "metadata": {},
     "output_type": "display_data"
    },
    {
     "data": {
      "text/html": [
       "\n",
       "            <div style=\"float: left; border: 1px solid black; width:500px\">\n",
       "              <div id=\"821d1d56-acbf-4a4f-adcb-93cd98a64d7e\" style=\"background-color:blue; width:0%\">&nbsp;</div>\n",
       "            </div>\n",
       "            <label id=\"ac49f973-9934-47bf-be9e-711526fec346\" style=\"padding-left: 10px;\" text = \"\"/>\n",
       "            "
      ],
      "text/plain": [
       "<IPython.core.display.HTML object>"
      ]
     },
     "metadata": {},
     "output_type": "display_data"
    },
    {
     "data": {
      "text/html": [
       "\n",
       "            <div style=\"float: left; border: 1px solid black; width:500px\">\n",
       "              <div id=\"c7690424-06f5-4802-a9ce-a5d89022ead9\" style=\"background-color:blue; width:0%\">&nbsp;</div>\n",
       "            </div>\n",
       "            <label id=\"0393ea43-2837-4d77-ac8c-d9df277a5a9d\" style=\"padding-left: 10px;\" text = \"\"/>\n",
       "            "
      ],
      "text/plain": [
       "<IPython.core.display.HTML object>"
      ]
     },
     "metadata": {},
     "output_type": "display_data"
    },
    {
     "data": {
      "text/html": [
       "\n",
       "            <div style=\"float: left; border: 1px solid black; width:500px\">\n",
       "              <div id=\"1a926a97-4272-4462-ba87-9d2b60619d6e\" style=\"background-color:blue; width:0%\">&nbsp;</div>\n",
       "            </div>\n",
       "            <label id=\"05578892-a57f-484c-ad03-fd02381321b3\" style=\"padding-left: 10px;\" text = \"\"/>\n",
       "            "
      ],
      "text/plain": [
       "<IPython.core.display.HTML object>"
      ]
     },
     "metadata": {},
     "output_type": "display_data"
    },
    {
     "data": {
      "text/html": [
       "\n",
       "            <div style=\"float: left; border: 1px solid black; width:500px\">\n",
       "              <div id=\"f90fc135-3c20-42bb-8199-8461f564f5c3\" style=\"background-color:blue; width:0%\">&nbsp;</div>\n",
       "            </div>\n",
       "            <label id=\"d3104007-1ece-40cc-b644-65eeef7eba55\" style=\"padding-left: 10px;\" text = \"\"/>\n",
       "            "
      ],
      "text/plain": [
       "<IPython.core.display.HTML object>"
      ]
     },
     "metadata": {},
     "output_type": "display_data"
    },
    {
     "data": {
      "text/html": [
       "\n",
       "            <div style=\"float: left; border: 1px solid black; width:500px\">\n",
       "              <div id=\"754855fe-d8e5-4aab-8ce7-1395f5350208\" style=\"background-color:blue; width:0%\">&nbsp;</div>\n",
       "            </div>\n",
       "            <label id=\"c5867cc4-d8fe-4199-9633-0bf9f060fe6a\" style=\"padding-left: 10px;\" text = \"\"/>\n",
       "            "
      ],
      "text/plain": [
       "<IPython.core.display.HTML object>"
      ]
     },
     "metadata": {},
     "output_type": "display_data"
    },
    {
     "data": {
      "text/html": [
       "\n",
       "            <div style=\"float: left; border: 1px solid black; width:500px\">\n",
       "              <div id=\"b7fd7ba4-bca4-46b6-aaa3-f781b1c8cc95\" style=\"background-color:blue; width:0%\">&nbsp;</div>\n",
       "            </div>\n",
       "            <label id=\"d2019a1b-4a00-4a72-b81e-e4703f0e1bf4\" style=\"padding-left: 10px;\" text = \"\"/>\n",
       "            "
      ],
      "text/plain": [
       "<IPython.core.display.HTML object>"
      ]
     },
     "metadata": {},
     "output_type": "display_data"
    },
    {
     "data": {
      "text/html": [
       "\n",
       "            <div style=\"float: left; border: 1px solid black; width:500px\">\n",
       "              <div id=\"4c78d74a-fdd2-4c7e-9edf-9da829c4815b\" style=\"background-color:blue; width:0%\">&nbsp;</div>\n",
       "            </div>\n",
       "            <label id=\"9d2cd397-df01-4b1a-b3b5-60cb443943a6\" style=\"padding-left: 10px;\" text = \"\"/>\n",
       "            "
      ],
      "text/plain": [
       "<IPython.core.display.HTML object>"
      ]
     },
     "metadata": {},
     "output_type": "display_data"
    },
    {
     "data": {
      "text/html": [
       "\n",
       "            <div style=\"float: left; border: 1px solid black; width:500px\">\n",
       "              <div id=\"92db6227-63e3-4a9f-8c47-6ae9f95ab88d\" style=\"background-color:blue; width:0%\">&nbsp;</div>\n",
       "            </div>\n",
       "            <label id=\"74d01985-826b-48f6-80bb-4f923167c500\" style=\"padding-left: 10px;\" text = \"\"/>\n",
       "            "
      ],
      "text/plain": [
       "<IPython.core.display.HTML object>"
      ]
     },
     "metadata": {},
     "output_type": "display_data"
    },
    {
     "data": {
      "text/html": [
       "\n",
       "            <div style=\"float: left; border: 1px solid black; width:500px\">\n",
       "              <div id=\"cb576ccd-f218-4e1c-a00a-25495f1b99d7\" style=\"background-color:blue; width:0%\">&nbsp;</div>\n",
       "            </div>\n",
       "            <label id=\"1ab949f1-3376-4563-a79c-7820d490fbcd\" style=\"padding-left: 10px;\" text = \"\"/>\n",
       "            "
      ],
      "text/plain": [
       "<IPython.core.display.HTML object>"
      ]
     },
     "metadata": {},
     "output_type": "display_data"
    },
    {
     "data": {
      "text/html": [
       "\n",
       "            <div style=\"float: left; border: 1px solid black; width:500px\">\n",
       "              <div id=\"ed1faf90-d0f1-4fe7-bfff-cff694694788\" style=\"background-color:blue; width:0%\">&nbsp;</div>\n",
       "            </div>\n",
       "            <label id=\"73a2046d-d598-4094-97bc-2a25c96b5a4a\" style=\"padding-left: 10px;\" text = \"\"/>\n",
       "            "
      ],
      "text/plain": [
       "<IPython.core.display.HTML object>"
      ]
     },
     "metadata": {},
     "output_type": "display_data"
    },
    {
     "data": {
      "text/html": [
       "\n",
       "            <div style=\"float: left; border: 1px solid black; width:500px\">\n",
       "              <div id=\"2a963c8a-5970-4f0f-bd25-a8d750a65846\" style=\"background-color:blue; width:0%\">&nbsp;</div>\n",
       "            </div>\n",
       "            <label id=\"2d160ef7-1be9-4bf7-9fca-90dd9e1d0742\" style=\"padding-left: 10px;\" text = \"\"/>\n",
       "            "
      ],
      "text/plain": [
       "<IPython.core.display.HTML object>"
      ]
     },
     "metadata": {},
     "output_type": "display_data"
    },
    {
     "data": {
      "text/html": [
       "\n",
       "            <div style=\"float: left; border: 1px solid black; width:500px\">\n",
       "              <div id=\"daf31040-4839-40c2-889f-211547208a69\" style=\"background-color:blue; width:0%\">&nbsp;</div>\n",
       "            </div>\n",
       "            <label id=\"bca0552f-d823-44e8-8b37-ffe5cff2289d\" style=\"padding-left: 10px;\" text = \"\"/>\n",
       "            "
      ],
      "text/plain": [
       "<IPython.core.display.HTML object>"
      ]
     },
     "metadata": {},
     "output_type": "display_data"
    },
    {
     "data": {
      "text/html": [
       "\n",
       "            <div style=\"float: left; border: 1px solid black; width:500px\">\n",
       "              <div id=\"6004f5ff-79e0-40ad-95bd-82acdc7feaae\" style=\"background-color:blue; width:0%\">&nbsp;</div>\n",
       "            </div>\n",
       "            <label id=\"a71a3cdd-9849-4446-b43f-be6805b63de1\" style=\"padding-left: 10px;\" text = \"\"/>\n",
       "            "
      ],
      "text/plain": [
       "<IPython.core.display.HTML object>"
      ]
     },
     "metadata": {},
     "output_type": "display_data"
    },
    {
     "data": {
      "text/html": [
       "\n",
       "            <div style=\"float: left; border: 1px solid black; width:500px\">\n",
       "              <div id=\"816f9403-2b8b-4d7c-84fc-c4dba09580c1\" style=\"background-color:blue; width:0%\">&nbsp;</div>\n",
       "            </div>\n",
       "            <label id=\"befaeb26-53f5-42c6-9b04-dd312accb517\" style=\"padding-left: 10px;\" text = \"\"/>\n",
       "            "
      ],
      "text/plain": [
       "<IPython.core.display.HTML object>"
      ]
     },
     "metadata": {},
     "output_type": "display_data"
    },
    {
     "data": {
      "text/html": [
       "\n",
       "            <div style=\"float: left; border: 1px solid black; width:500px\">\n",
       "              <div id=\"d1e659f4-23d2-4c6b-82a0-f16a9a6a24db\" style=\"background-color:blue; width:0%\">&nbsp;</div>\n",
       "            </div>\n",
       "            <label id=\"39d074bc-4c95-44e0-8fc1-4143721e18f7\" style=\"padding-left: 10px;\" text = \"\"/>\n",
       "            "
      ],
      "text/plain": [
       "<IPython.core.display.HTML object>"
      ]
     },
     "metadata": {},
     "output_type": "display_data"
    },
    {
     "data": {
      "text/html": [
       "\n",
       "            <div style=\"float: left; border: 1px solid black; width:500px\">\n",
       "              <div id=\"136e6158-fa55-4457-87b5-5aad7310584a\" style=\"background-color:blue; width:0%\">&nbsp;</div>\n",
       "            </div>\n",
       "            <label id=\"5ee6fdb7-c176-4b07-bb9c-0bd496b6efb6\" style=\"padding-left: 10px;\" text = \"\"/>\n",
       "            "
      ],
      "text/plain": [
       "<IPython.core.display.HTML object>"
      ]
     },
     "metadata": {},
     "output_type": "display_data"
    },
    {
     "data": {
      "text/html": [
       "\n",
       "            <div style=\"float: left; border: 1px solid black; width:500px\">\n",
       "              <div id=\"4f60af7a-ce62-458e-9009-37da73f9176e\" style=\"background-color:blue; width:0%\">&nbsp;</div>\n",
       "            </div>\n",
       "            <label id=\"99543e6c-4004-4c84-9fba-7cbe5eb9ef64\" style=\"padding-left: 10px;\" text = \"\"/>\n",
       "            "
      ],
      "text/plain": [
       "<IPython.core.display.HTML object>"
      ]
     },
     "metadata": {},
     "output_type": "display_data"
    },
    {
     "data": {
      "text/html": [
       "\n",
       "            <div style=\"float: left; border: 1px solid black; width:500px\">\n",
       "              <div id=\"e084470a-5018-498a-bceb-25c521ddd16e\" style=\"background-color:blue; width:0%\">&nbsp;</div>\n",
       "            </div>\n",
       "            <label id=\"96a55cc9-e3d8-4cff-adfd-8bdc58d1c3ee\" style=\"padding-left: 10px;\" text = \"\"/>\n",
       "            "
      ],
      "text/plain": [
       "<IPython.core.display.HTML object>"
      ]
     },
     "metadata": {},
     "output_type": "display_data"
    },
    {
     "data": {
      "text/html": [
       "\n",
       "            <div style=\"float: left; border: 1px solid black; width:500px\">\n",
       "              <div id=\"8b35f699-0118-4904-820a-dca16b482820\" style=\"background-color:blue; width:0%\">&nbsp;</div>\n",
       "            </div>\n",
       "            <label id=\"6d9143dc-03e0-411f-bc79-98021ad24d94\" style=\"padding-left: 10px;\" text = \"\"/>\n",
       "            "
      ],
      "text/plain": [
       "<IPython.core.display.HTML object>"
      ]
     },
     "metadata": {},
     "output_type": "display_data"
    },
    {
     "data": {
      "text/html": [
       "\n",
       "            <div style=\"float: left; border: 1px solid black; width:500px\">\n",
       "              <div id=\"b9f5b418-435c-484c-9315-f484e0b053f4\" style=\"background-color:blue; width:0%\">&nbsp;</div>\n",
       "            </div>\n",
       "            <label id=\"243ad80c-5ae6-421e-bc54-b1799bed0cc5\" style=\"padding-left: 10px;\" text = \"\"/>\n",
       "            "
      ],
      "text/plain": [
       "<IPython.core.display.HTML object>"
      ]
     },
     "metadata": {},
     "output_type": "display_data"
    },
    {
     "data": {
      "text/html": [
       "\n",
       "            <div style=\"float: left; border: 1px solid black; width:500px\">\n",
       "              <div id=\"ab6c8721-8050-4b01-93a4-6aaa7936d9bb\" style=\"background-color:blue; width:0%\">&nbsp;</div>\n",
       "            </div>\n",
       "            <label id=\"ffd76484-f7e4-4e1c-9496-6ea9896ea46c\" style=\"padding-left: 10px;\" text = \"\"/>\n",
       "            "
      ],
      "text/plain": [
       "<IPython.core.display.HTML object>"
      ]
     },
     "metadata": {},
     "output_type": "display_data"
    },
    {
     "data": {
      "text/html": [
       "\n",
       "            <div style=\"float: left; border: 1px solid black; width:500px\">\n",
       "              <div id=\"9a2ca8f9-9aab-4bd0-8227-bb9f3d0a585a\" style=\"background-color:blue; width:0%\">&nbsp;</div>\n",
       "            </div>\n",
       "            <label id=\"ec21e696-e804-4cc4-8d46-c5a3b16895a4\" style=\"padding-left: 10px;\" text = \"\"/>\n",
       "            "
      ],
      "text/plain": [
       "<IPython.core.display.HTML object>"
      ]
     },
     "metadata": {},
     "output_type": "display_data"
    },
    {
     "data": {
      "text/html": [
       "\n",
       "            <div style=\"float: left; border: 1px solid black; width:500px\">\n",
       "              <div id=\"46b65a57-7a20-4d5b-aa50-a5b82d0dd377\" style=\"background-color:blue; width:0%\">&nbsp;</div>\n",
       "            </div>\n",
       "            <label id=\"636a98f5-59b5-4ff9-9097-e8bcaaaa91a7\" style=\"padding-left: 10px;\" text = \"\"/>\n",
       "            "
      ],
      "text/plain": [
       "<IPython.core.display.HTML object>"
      ]
     },
     "metadata": {},
     "output_type": "display_data"
    },
    {
     "data": {
      "text/html": [
       "\n",
       "            <div style=\"float: left; border: 1px solid black; width:500px\">\n",
       "              <div id=\"f0db02a7-0541-45b4-8abb-bd08911515f6\" style=\"background-color:blue; width:0%\">&nbsp;</div>\n",
       "            </div>\n",
       "            <label id=\"6709a669-42c7-4711-9ae9-14d2943d729e\" style=\"padding-left: 10px;\" text = \"\"/>\n",
       "            "
      ],
      "text/plain": [
       "<IPython.core.display.HTML object>"
      ]
     },
     "metadata": {},
     "output_type": "display_data"
    },
    {
     "data": {
      "text/html": [
       "\n",
       "            <div style=\"float: left; border: 1px solid black; width:500px\">\n",
       "              <div id=\"9f21c1de-b27d-4fba-b72e-81e55f631d93\" style=\"background-color:blue; width:0%\">&nbsp;</div>\n",
       "            </div>\n",
       "            <label id=\"13af6adf-b925-4098-b0e6-d50f5c848257\" style=\"padding-left: 10px;\" text = \"\"/>\n",
       "            "
      ],
      "text/plain": [
       "<IPython.core.display.HTML object>"
      ]
     },
     "metadata": {},
     "output_type": "display_data"
    },
    {
     "data": {
      "text/html": [
       "\n",
       "            <div style=\"float: left; border: 1px solid black; width:500px\">\n",
       "              <div id=\"95adac74-160d-45fa-990c-d83a5d306d70\" style=\"background-color:blue; width:0%\">&nbsp;</div>\n",
       "            </div>\n",
       "            <label id=\"45ccce26-cd69-4635-8719-215935072584\" style=\"padding-left: 10px;\" text = \"\"/>\n",
       "            "
      ],
      "text/plain": [
       "<IPython.core.display.HTML object>"
      ]
     },
     "metadata": {},
     "output_type": "display_data"
    },
    {
     "data": {
      "text/html": [
       "\n",
       "            <div style=\"float: left; border: 1px solid black; width:500px\">\n",
       "              <div id=\"fb5b6585-852d-4a40-9753-ef9340899a6d\" style=\"background-color:blue; width:0%\">&nbsp;</div>\n",
       "            </div>\n",
       "            <label id=\"0f8fd5aa-a478-4a6e-911b-9296034298fa\" style=\"padding-left: 10px;\" text = \"\"/>\n",
       "            "
      ],
      "text/plain": [
       "<IPython.core.display.HTML object>"
      ]
     },
     "metadata": {},
     "output_type": "display_data"
    },
    {
     "data": {
      "text/html": [
       "\n",
       "            <div style=\"float: left; border: 1px solid black; width:500px\">\n",
       "              <div id=\"24cc48f1-d976-4ccb-b6c1-c45a64c41341\" style=\"background-color:blue; width:0%\">&nbsp;</div>\n",
       "            </div>\n",
       "            <label id=\"2d6d2d65-e34b-4dce-997e-057c52052413\" style=\"padding-left: 10px;\" text = \"\"/>\n",
       "            "
      ],
      "text/plain": [
       "<IPython.core.display.HTML object>"
      ]
     },
     "metadata": {},
     "output_type": "display_data"
    },
    {
     "data": {
      "text/html": [
       "\n",
       "            <div style=\"float: left; border: 1px solid black; width:500px\">\n",
       "              <div id=\"35d3cd1d-2b28-4d42-bcdb-4efcc06c378e\" style=\"background-color:blue; width:0%\">&nbsp;</div>\n",
       "            </div>\n",
       "            <label id=\"cd6f8495-2f38-4ea2-9db8-2d01713cde9e\" style=\"padding-left: 10px;\" text = \"\"/>\n",
       "            "
      ],
      "text/plain": [
       "<IPython.core.display.HTML object>"
      ]
     },
     "metadata": {},
     "output_type": "display_data"
    },
    {
     "data": {
      "text/html": [
       "\n",
       "            <div style=\"float: left; border: 1px solid black; width:500px\">\n",
       "              <div id=\"fb517462-0692-45b0-89e3-b52aa1e05e0c\" style=\"background-color:blue; width:0%\">&nbsp;</div>\n",
       "            </div>\n",
       "            <label id=\"07c580bb-501e-4b3f-8add-1caf7a8726a4\" style=\"padding-left: 10px;\" text = \"\"/>\n",
       "            "
      ],
      "text/plain": [
       "<IPython.core.display.HTML object>"
      ]
     },
     "metadata": {},
     "output_type": "display_data"
    },
    {
     "data": {
      "text/html": [
       "\n",
       "            <div style=\"float: left; border: 1px solid black; width:500px\">\n",
       "              <div id=\"f6d8e7ea-116d-4513-84b3-8771ca04c248\" style=\"background-color:blue; width:0%\">&nbsp;</div>\n",
       "            </div>\n",
       "            <label id=\"2c97139a-a07f-42c7-b740-453f0f546705\" style=\"padding-left: 10px;\" text = \"\"/>\n",
       "            "
      ],
      "text/plain": [
       "<IPython.core.display.HTML object>"
      ]
     },
     "metadata": {},
     "output_type": "display_data"
    },
    {
     "data": {
      "text/html": [
       "\n",
       "            <div style=\"float: left; border: 1px solid black; width:500px\">\n",
       "              <div id=\"17788738-b598-46bc-bbba-0f3eb5028342\" style=\"background-color:blue; width:0%\">&nbsp;</div>\n",
       "            </div>\n",
       "            <label id=\"8adc3721-6061-485c-a09e-abdd0491d75b\" style=\"padding-left: 10px;\" text = \"\"/>\n",
       "            "
      ],
      "text/plain": [
       "<IPython.core.display.HTML object>"
      ]
     },
     "metadata": {},
     "output_type": "display_data"
    },
    {
     "data": {
      "text/html": [
       "\n",
       "            <div style=\"float: left; border: 1px solid black; width:500px\">\n",
       "              <div id=\"cec29305-dd73-42cc-be1b-a7e0c1cc0c75\" style=\"background-color:blue; width:0%\">&nbsp;</div>\n",
       "            </div>\n",
       "            <label id=\"b6aca237-0437-43dc-b355-d69ea58811fc\" style=\"padding-left: 10px;\" text = \"\"/>\n",
       "            "
      ],
      "text/plain": [
       "<IPython.core.display.HTML object>"
      ]
     },
     "metadata": {},
     "output_type": "display_data"
    },
    {
     "data": {
      "text/html": [
       "\n",
       "            <div style=\"float: left; border: 1px solid black; width:500px\">\n",
       "              <div id=\"b70bea8f-4de7-4998-bee7-65409a86dc62\" style=\"background-color:blue; width:0%\">&nbsp;</div>\n",
       "            </div>\n",
       "            <label id=\"0eb15e61-f658-47dd-83eb-fb31b68739bc\" style=\"padding-left: 10px;\" text = \"\"/>\n",
       "            "
      ],
      "text/plain": [
       "<IPython.core.display.HTML object>"
      ]
     },
     "metadata": {},
     "output_type": "display_data"
    },
    {
     "data": {
      "text/html": [
       "\n",
       "            <div style=\"float: left; border: 1px solid black; width:500px\">\n",
       "              <div id=\"1db770e8-f107-49c6-93d2-e95730ac9b70\" style=\"background-color:blue; width:0%\">&nbsp;</div>\n",
       "            </div>\n",
       "            <label id=\"76320f8a-7bf8-4ae4-a62d-60c2a9cee777\" style=\"padding-left: 10px;\" text = \"\"/>\n",
       "            "
      ],
      "text/plain": [
       "<IPython.core.display.HTML object>"
      ]
     },
     "metadata": {},
     "output_type": "display_data"
    },
    {
     "data": {
      "text/html": [
       "\n",
       "            <div style=\"float: left; border: 1px solid black; width:500px\">\n",
       "              <div id=\"69b63866-27d2-4526-96e9-9d4a11bbb2d6\" style=\"background-color:blue; width:0%\">&nbsp;</div>\n",
       "            </div>\n",
       "            <label id=\"87aaa43a-25cf-4e85-abbb-1147eb4e6e5b\" style=\"padding-left: 10px;\" text = \"\"/>\n",
       "            "
      ],
      "text/plain": [
       "<IPython.core.display.HTML object>"
      ]
     },
     "metadata": {},
     "output_type": "display_data"
    },
    {
     "data": {
      "text/html": [
       "\n",
       "            <div style=\"float: left; border: 1px solid black; width:500px\">\n",
       "              <div id=\"70f15c6d-59c5-43aa-a63e-6b0dbc20e8aa\" style=\"background-color:blue; width:0%\">&nbsp;</div>\n",
       "            </div>\n",
       "            <label id=\"93a18f21-f760-42ea-8240-4245923c533e\" style=\"padding-left: 10px;\" text = \"\"/>\n",
       "            "
      ],
      "text/plain": [
       "<IPython.core.display.HTML object>"
      ]
     },
     "metadata": {},
     "output_type": "display_data"
    },
    {
     "data": {
      "text/html": [
       "\n",
       "            <div style=\"float: left; border: 1px solid black; width:500px\">\n",
       "              <div id=\"84e879e6-0cee-42d0-81ca-d7d91738a696\" style=\"background-color:blue; width:0%\">&nbsp;</div>\n",
       "            </div>\n",
       "            <label id=\"77c79163-b116-4345-ad2e-b166621b484c\" style=\"padding-left: 10px;\" text = \"\"/>\n",
       "            "
      ],
      "text/plain": [
       "<IPython.core.display.HTML object>"
      ]
     },
     "metadata": {},
     "output_type": "display_data"
    },
    {
     "data": {
      "text/html": [
       "\n",
       "            <div style=\"float: left; border: 1px solid black; width:500px\">\n",
       "              <div id=\"d3dfa3a4-e5ae-4f4c-bdb6-5594c1c9cffc\" style=\"background-color:blue; width:0%\">&nbsp;</div>\n",
       "            </div>\n",
       "            <label id=\"43994701-6327-463e-9736-2d9218f12134\" style=\"padding-left: 10px;\" text = \"\"/>\n",
       "            "
      ],
      "text/plain": [
       "<IPython.core.display.HTML object>"
      ]
     },
     "metadata": {},
     "output_type": "display_data"
    },
    {
     "data": {
      "text/html": [
       "\n",
       "            <div style=\"float: left; border: 1px solid black; width:500px\">\n",
       "              <div id=\"bb8a877b-40b3-4e6e-8e60-953b1feb0419\" style=\"background-color:blue; width:0%\">&nbsp;</div>\n",
       "            </div>\n",
       "            <label id=\"01bd58c8-ea5f-430a-898e-ba1e70705bab\" style=\"padding-left: 10px;\" text = \"\"/>\n",
       "            "
      ],
      "text/plain": [
       "<IPython.core.display.HTML object>"
      ]
     },
     "metadata": {},
     "output_type": "display_data"
    },
    {
     "data": {
      "text/html": [
       "\n",
       "            <div style=\"float: left; border: 1px solid black; width:500px\">\n",
       "              <div id=\"8359d284-4fb7-4259-b62f-320ba43b4838\" style=\"background-color:blue; width:0%\">&nbsp;</div>\n",
       "            </div>\n",
       "            <label id=\"bca7c234-3ea9-4892-94cd-87f0eb3b3bff\" style=\"padding-left: 10px;\" text = \"\"/>\n",
       "            "
      ],
      "text/plain": [
       "<IPython.core.display.HTML object>"
      ]
     },
     "metadata": {},
     "output_type": "display_data"
    },
    {
     "data": {
      "text/html": [
       "\n",
       "            <div style=\"float: left; border: 1px solid black; width:500px\">\n",
       "              <div id=\"82dba63a-7a0f-4aca-b98c-7da8cf21593f\" style=\"background-color:blue; width:0%\">&nbsp;</div>\n",
       "            </div>\n",
       "            <label id=\"61338122-7528-4ae1-bcfd-77f5fff643b2\" style=\"padding-left: 10px;\" text = \"\"/>\n",
       "            "
      ],
      "text/plain": [
       "<IPython.core.display.HTML object>"
      ]
     },
     "metadata": {},
     "output_type": "display_data"
    },
    {
     "data": {
      "text/html": [
       "\n",
       "            <div style=\"float: left; border: 1px solid black; width:500px\">\n",
       "              <div id=\"e5b0b290-dc81-423e-af57-64eab78d410c\" style=\"background-color:blue; width:0%\">&nbsp;</div>\n",
       "            </div>\n",
       "            <label id=\"edc241ee-09fd-4b7e-af57-6779d808442c\" style=\"padding-left: 10px;\" text = \"\"/>\n",
       "            "
      ],
      "text/plain": [
       "<IPython.core.display.HTML object>"
      ]
     },
     "metadata": {},
     "output_type": "display_data"
    },
    {
     "data": {
      "text/html": [
       "\n",
       "            <div style=\"float: left; border: 1px solid black; width:500px\">\n",
       "              <div id=\"864eae77-ea27-45b8-9918-f8d9de11f8c6\" style=\"background-color:blue; width:0%\">&nbsp;</div>\n",
       "            </div>\n",
       "            <label id=\"932d3e55-75ec-40b8-a6a8-237276faa393\" style=\"padding-left: 10px;\" text = \"\"/>\n",
       "            "
      ],
      "text/plain": [
       "<IPython.core.display.HTML object>"
      ]
     },
     "metadata": {},
     "output_type": "display_data"
    },
    {
     "data": {
      "text/html": [
       "\n",
       "            <div style=\"float: left; border: 1px solid black; width:500px\">\n",
       "              <div id=\"b52d24b1-5b94-4c28-9e2a-0c026fb6a820\" style=\"background-color:blue; width:0%\">&nbsp;</div>\n",
       "            </div>\n",
       "            <label id=\"d4d878e5-9dab-4e59-b858-ae3b72960cac\" style=\"padding-left: 10px;\" text = \"\"/>\n",
       "            "
      ],
      "text/plain": [
       "<IPython.core.display.HTML object>"
      ]
     },
     "metadata": {},
     "output_type": "display_data"
    }
   ],
   "source": [
    "# data format:\n",
    "#   team_name => list of feature distributions => dictionary with distribution name and parameters\n",
    "#   e.g.,\n",
    "#   megadata = {\n",
    "      #'Timberwolves': [{'beta': (0.23, 0.3, 0.3, 0.4)}, {'nor': (0.23, 0.3,)}, ..], \n",
    "      #'Warriors':[{}, {},...]\n",
    "      #  }\n",
    "    \n",
    "megadata = {} # store the data that our Generator will rely on\n",
    "for team_name in unique_teams:\n",
    "    \n",
    "    feature_dis_paras = []\n",
    "    data = all_team_sim_data[team_name]\n",
    "    \n",
    "    # 5 features for each team\n",
    "    for i in range(5): \n",
    "        f = Fitter(data[:, i]) # initalize a Fitter instance\n",
    "        f.distributions = selected_distributions # use only the selected distributions (faster)\n",
    "        f.fit() # do the fitting \n",
    "        best_paras = f.get_best(method='sumsquare_error') # get the best fitted paras\n",
    "        feature_dis_paras.append(best_paras)\n",
    "        \n",
    "    megadata[team_name] = feature_dis_paras\n",
    "    \n",
    "# print('Features for all teams have been fitted!')"
   ]
  },
  {
   "cell_type": "markdown",
   "metadata": {},
   "source": [
    "### 4. Simulation"
   ]
  },
  {
   "cell_type": "code",
   "execution_count": 38,
   "metadata": {},
   "outputs": [],
   "source": [
    "DATA = megadata.copy() # data that Generator must rely on\n",
    "\n",
    "GEN = {\n",
    " 'alpha': stats.alpha.rvs,\n",
    " 'beta': stats.beta.rvs,\n",
    " 'chi': stats.chi.rvs,\n",
    " 'cosine': stats.cosine.rvs,\n",
    " 'dgamma': stats.dgamma.rvs,\n",
    " 'dweibull':stats.dweibull.rvs,\n",
    " 'f':stats.f.rvs,\n",
    " 'fisk':stats.fisk.rvs,\n",
    " 'gamma': stats.gamma.rvs,\n",
    " 'maxwell':stats.maxwell.rvs,\n",
    " 'norm':stats.norm.rvs,\n",
    " 'pareto':stats.pareto.rvs,\n",
    " 't':stats.t.rvs,\n",
    "}"
   ]
  },
  {
   "cell_type": "code",
   "execution_count": 50,
   "metadata": {},
   "outputs": [],
   "source": [
    "# feature scaler + fine-turned SVM \n",
    "# DIS = make_pipeline(scaler, support_vector)\n",
    "#DIS = make_pipeline(random_forest)\n",
    "DIS = make_pipeline(gauss_nb)"
   ]
  },
  {
   "cell_type": "markdown",
   "metadata": {},
   "source": [
    "Process: \n",
    "\n",
    "1. sampling: \"generate feature values used for making win/loss prediction\"\n",
    "2. predict: \"predict the win or loss of  n game(s) played by two tems\""
   ]
  },
  {
   "cell_type": "code",
   "execution_count": 40,
   "metadata": {},
   "outputs": [],
   "source": [
    "class Game:\n",
    "    \n",
    "    '''\n",
    "    \n",
    "    A game between two teams:\n",
    "    \n",
    "    - feature values sampled from Generator\n",
    "    - win/loss predicted by Discriminator\n",
    "    \n",
    "    '''\n",
    "    \n",
    "    def __init__ (self, random_state = None):\n",
    "        \n",
    "        self.random_state = random_state # keep this to None for making simulations \n",
    "    \n",
    "    def predict(self, team1, team2, num_games = 1):\n",
    "        \n",
    "        ''' predict the win or loss of  n game(s) played by two tems'''\n",
    "        \n",
    "        assert num_games >= 1, \"at least one game must be played\"\n",
    "        # output numpy array\n",
    "        team_1_feature_data = DATA[team1]\n",
    "        team_2_feature_data = DATA[team2]\n",
    "        \n",
    "        features = []\n",
    "        for feature_paras_1 in team_1_feature_data:\n",
    "            sample_1 = self.sampling(feature_paras_1, size = num_games) # gives a list if num_games> 1\n",
    "            features.append(sample_1) \n",
    "            \n",
    "        for feature_paras_2 in team_2_feature_data:\n",
    "            sample_2 = self.sampling(feature_paras_2, size = num_games) # gives a list if num_games> 1\n",
    "            features.append(sample_2)\n",
    "            \n",
    "        features = np.array(features).T \n",
    "        win_loss = DIS.predict(features)\n",
    "        # print(f\"team_1: {team1}, team_2: {team2}, win_loss: {list(win_loss)}\")\n",
    "        \n",
    "        return list(win_loss) # a list of win/loss from num_games\n",
    "    \n",
    "    \n",
    "    def sampling(self, dic, size = 1, random_state = None):\n",
    "        \n",
    "        '''generate feature values used for making win/loss prediction'''\n",
    "                        \n",
    "        dis_name = list(dic.keys())[0] # get the type\n",
    "        paras = list(dic.values())[0] # get the paras\n",
    "    \n",
    "        # get sample\n",
    "        sample = GEN[dis_name](*paras, size = size,  random_state =  random_state)\n",
    "        \n",
    "        return sample"
   ]
  },
  {
   "cell_type": "markdown",
   "metadata": {},
   "source": [
    "Process:\n",
    "\n",
    "1. play_n_games: \"simulate data, and then use our classifier to predict win/loss\"\n",
    "2. play_round: \"play a round of games based of a list of paired teams\"\n",
    "3. one_time_sim: \"simulate the entire playoff once and also record the accumulated wins\"\n",
    "4. simulate: \"simulate the entire playoff n times and also record the accumulated wins\""
   ]
  },
  {
   "cell_type": "code",
   "execution_count": 41,
   "metadata": {},
   "outputs": [],
   "source": [
    "class FinalTournament(Game):\n",
    "    \n",
    "    ''' Best-of-7 elimination, 16 teams, 4 rounds in total to win championship '''\n",
    "    \n",
    "    def __init__(self, n_games_per_group = 7, winning_threshold = 4, random_state = None):\n",
    "\n",
    "        self.n_games_per_group  = n_games_per_group\n",
    "        self.winning_threshold = winning_threshold\n",
    "        self.team_list = None\n",
    "        self.rounds = {} # keep track the number of times a team wins at each round \n",
    "        super().__init__(random_state)\n",
    "        \n",
    "    \n",
    "    def simulate(self, group_list, n_simulation = 1, probs = True):\n",
    "        \n",
    "        ''' simulate the entire playoff n times and also record the accumulated wins'''\n",
    "             \n",
    "        # update the list of teams\n",
    "        self.rounds = {}\n",
    "        self.team_list = [i[0] for i in group_list] + [i[1] for i in group_list]\n",
    "        \n",
    "        for i in range(n_simulation):\n",
    "            # print(f\"epoch number: {i}\")\n",
    "            cham = self.one_time_simu(group_list)\n",
    "        if probs:\n",
    "            self.rounds_probs = self._compute_probs()\n",
    "            \n",
    "    \n",
    "    def one_time_simu(self, group_list, verbose = False, probs = False):\n",
    "        \n",
    "        ''' simulate the entire playoff once and also record the accumulated wins'''\n",
    "        \n",
    "        # update the list of teams if haven't done so\n",
    "        if self.team_list == None: \n",
    "            self.team_list = [i[0] for i in group_list] + [i[1] for i in group_list]\n",
    "        round_number, done = 0, 0\n",
    "        while not done: \n",
    "            all_group_winners, group_list = self.play_round(group_list)\n",
    "            # retrive round stats\n",
    "            try:\n",
    "                updated_round_stats = self.rounds[round_number]\n",
    "            except KeyError:\n",
    "                updated_round_stats = {}\n",
    "                for team in self.team_list:\n",
    "                    updated_round_stats[team] = 0\n",
    "            # if a team wins, record + 1 \n",
    "            for winner in all_group_winners:\n",
    "                try: \n",
    "                    updated_round_stats[winner] += 1\n",
    "                except KeyError:\n",
    "                    pass     \n",
    "            self.rounds[round_number] = updated_round_stats\n",
    "            if verbose:\n",
    "                print('{} round played'.format(round_number))\n",
    "            if probs:\n",
    "                self.rounds_probs = self._compute_probs()\n",
    "            if type(group_list) != list: # if it becomes the final\n",
    "                done = 1\n",
    "            round_number += 1\n",
    "            \n",
    "        return group_list\n",
    "\n",
    "        \n",
    "    def play_round(self, group_list):\n",
    "        \n",
    "        '''play a round of games based of a list of paired teams'''\n",
    "        \n",
    "        all_group_winners = [] \n",
    "        # play each group and get the group winner\n",
    "        for group in group_list:\n",
    "            winner = self.play_n_games(group[0], group[1])\n",
    "            all_group_winners.append(winner)\n",
    "        \n",
    "        if len(all_group_winners) > 1:\n",
    "            new_group_list = []         \n",
    "            for index in range(0, len(all_group_winners), 2):\n",
    "                # first winner, second winner\n",
    "                new_group = [all_group_winners[index], all_group_winners[index + 1]]\n",
    "                new_group_list.append(new_group)\n",
    "                \n",
    "            return all_group_winners, new_group_list\n",
    "        else:  \n",
    "            return all_group_winners, winner\n",
    "        \n",
    "        \n",
    "    def play_n_games(self, team1, team2):\n",
    "        \n",
    "        \n",
    "        '''simulate data, and then use our classifier to predict win/loss'''\n",
    "        result = Game().predict(team1, team2, self.n_games_per_group)\n",
    "        if sum(result[:4]) == self.winning_threshold or sum(result) >= self.winning_threshold:\n",
    "            winner = team1 # home team wins\n",
    "        else:\n",
    "            winner = team2 # visitor team wins\n",
    "            \n",
    "        return winner\n",
    "    \n",
    "    def rounds_list(self):\n",
    "        list_round = self.rounds\n",
    "        return list\n",
    "    \n",
    "    def _compute_probs(self):\n",
    "        \n",
    "        '''prob = wins for a team / sum of wins for all teams at a particular round'''\n",
    "        \n",
    "        rounds_probs = copy.deepcopy(self.rounds)\n",
    "        for round_number, round_stats in rounds_probs.items():\n",
    "            m = np.sum(list(round_stats.values()))\n",
    "            for k, v in rounds_probs[round_number].items():\n",
    "                rounds_probs[round_number][k] = v / m\n",
    "                \n",
    "        return rounds_probs"
   ]
  },
  {
   "cell_type": "code",
   "execution_count": 42,
   "metadata": {},
   "outputs": [
    {
     "name": "stdout",
     "output_type": "stream",
     "text": [
      "Suns  wins \n"
     ]
    }
   ],
   "source": [
    "game = Game()\n",
    "team1 = 'Bucks'\n",
    "team2 = 'Suns'\n",
    "result = game.predict('Bucks', 'Suns', 7)\n",
    "if sum(result[:4]) == 4 or sum(result) >= 4:\n",
    "    print(team1, \" wins \")\n",
    "else:\n",
    "    print(team2, \" wins \")"
   ]
  },
  {
   "cell_type": "code",
   "execution_count": 43,
   "metadata": {},
   "outputs": [],
   "source": [
    "#2021\n",
    "group_list_2021 = [\n",
    "     # Eastern Conference\n",
    "     ('76ers', 'Wizards'),  # group A 1 \n",
    "     ('Knicks', 'Hawks'), # group B 4 \n",
    "    \n",
    "     ('Bucks', 'Heat'), # group C 3 \n",
    "     ('Nets', 'Celtics'), # group D 2\n",
    "    \n",
    "     # Western Conference\n",
    "     ('Jazz','Grizzlies'),  # group E 1 \n",
    "     ('Clippers','Mavericks'), # group F 4 \n",
    "    \n",
    "     ('Nuggets', 'Trail Blazers'), # group G 3 \n",
    "     ('Suns', 'Lakers')] # group H 2"
   ]
  },
  {
   "cell_type": "code",
   "execution_count": 44,
   "metadata": {},
   "outputs": [],
   "source": [
    "#2022\n",
    "group_list_2022 = [\n",
    "     # Eastern Conference\n",
    "     ('Heat', 'Hawks'),  # group A 1 \n",
    "     ('76ers', 'Raptors'), # group B 4 \n",
    "    \n",
    "     ('Bucks', 'Bulls'), # group C 3 \n",
    "     ('Celtics', 'Nets'), # group D 2\n",
    "    \n",
    "     # Western Conference\n",
    "     ('Suns','Pelicans'),  # group E 1 \n",
    "     ('Mavericks','Jazz'), # group F 4 \n",
    "    \n",
    "     ('Warriors', 'Nuggets'), # group G 3 \n",
    "     ('Grizzlies', 'Timberwolves')] # group H 2"
   ]
  },
  {
   "cell_type": "code",
   "execution_count": 51,
   "metadata": {},
   "outputs": [
    {
     "name": "stdout",
     "output_type": "stream",
     "text": [
      "CPU times: user 45.9 s, sys: 3.46 ms, total: 45.9 s\n",
      "Wall time: 45.9 s\n"
     ]
    }
   ],
   "source": [
    "%%time\n",
    "\n",
    "# initiate a playoff\n",
    "playoff = FinalTournament()\n",
    "\n",
    "# simulate the playoff 5,000 times\n",
    "\n",
    "playoff.simulate(group_list_2022, n_simulation = 5000)\n"
   ]
  },
  {
   "cell_type": "code",
   "execution_count": 52,
   "metadata": {},
   "outputs": [
    {
     "data": {
      "text/plain": [
       "{0: {'Heat': 0.074525,\n",
       "  '76ers': 0.109925,\n",
       "  'Bucks': 0.095075,\n",
       "  'Celtics': 0.023,\n",
       "  'Suns': 0.089425,\n",
       "  'Mavericks': 0.034725,\n",
       "  'Warriors': 0.0544,\n",
       "  'Grizzlies': 0.11025,\n",
       "  'Hawks': 0.050475,\n",
       "  'Raptors': 0.015075,\n",
       "  'Bulls': 0.029925,\n",
       "  'Nets': 0.102,\n",
       "  'Pelicans': 0.035575,\n",
       "  'Jazz': 0.090275,\n",
       "  'Nuggets': 0.0706,\n",
       "  'Timberwolves': 0.01475},\n",
       " 1: {'Heat': 0.09115,\n",
       "  '76ers': 0.09665,\n",
       "  'Bucks': 0.1234,\n",
       "  'Celtics': 0.0054,\n",
       "  'Suns': 0.1426,\n",
       "  'Mavericks': 0.00745,\n",
       "  'Warriors': 0.0714,\n",
       "  'Grizzlies': 0.0653,\n",
       "  'Hawks': 0.0575,\n",
       "  'Raptors': 0.0047,\n",
       "  'Bulls': 0.0266,\n",
       "  'Nets': 0.0946,\n",
       "  'Pelicans': 0.04905,\n",
       "  'Jazz': 0.0509,\n",
       "  'Nuggets': 0.11075,\n",
       "  'Timberwolves': 0.00255},\n",
       " 2: {'Heat': 0.0477,\n",
       "  '76ers': 0.0511,\n",
       "  'Bucks': 0.1903,\n",
       "  'Celtics': 0.0036,\n",
       "  'Suns': 0.191,\n",
       "  'Mavericks': 0.0044,\n",
       "  'Warriors': 0.0487,\n",
       "  'Grizzlies': 0.0414,\n",
       "  'Hawks': 0.0303,\n",
       "  'Raptors': 0.0008,\n",
       "  'Bulls': 0.03,\n",
       "  'Nets': 0.1462,\n",
       "  'Pelicans': 0.0543,\n",
       "  'Jazz': 0.0498,\n",
       "  'Nuggets': 0.1101,\n",
       "  'Timberwolves': 0.0003},\n",
       " 3: {'Heat': 0.0374,\n",
       "  '76ers': 0.0404,\n",
       "  'Bucks': 0.2696,\n",
       "  'Celtics': 0.0018,\n",
       "  'Suns': 0.1654,\n",
       "  'Mavericks': 0.0014,\n",
       "  'Warriors': 0.0326,\n",
       "  'Grizzlies': 0.0248,\n",
       "  'Hawks': 0.0192,\n",
       "  'Raptors': 0.0002,\n",
       "  'Bulls': 0.0342,\n",
       "  'Nets': 0.2092,\n",
       "  'Pelicans': 0.0322,\n",
       "  'Jazz': 0.0284,\n",
       "  'Nuggets': 0.1032,\n",
       "  'Timberwolves': 0.0}}"
      ]
     },
     "execution_count": 52,
     "metadata": {},
     "output_type": "execute_result"
    }
   ],
   "source": [
    "playoff.rounds_probs"
   ]
  },
  {
   "cell_type": "markdown",
   "metadata": {},
   "source": [
    "### 5. Visualization & Analysis"
   ]
  },
  {
   "cell_type": "code",
   "execution_count": 47,
   "metadata": {},
   "outputs": [],
   "source": [
    "def plotting(rounds_data):\n",
    "    \n",
    "    rounds_stats = list(rounds_data.values())\n",
    "    team_names = list(rounds_stats[0].keys())\n",
    "    \n",
    "    # x is number of rounds used for labels, y is a 2-D array of (n_teams, n_rounds) used for data\n",
    "    x = list(rounds_data.keys())\n",
    "    y = np.array([list(r.values()) for r in rounds_stats]).T \n",
    "    \n",
    "    # we need at least 16 different colors, one for each team\n",
    "    c_1 =  sns.color_palette('tab10', n_colors = 10)\n",
    "    c_2 =  sns.color_palette(\"pastel\", n_colors = 10)\n",
    "    color_map = c_1 + c_2 \n",
    "    \n",
    "    fig = plt.figure()\n",
    "    plt.stackplot(x, y, labels = team_names, colors = color_map) \n",
    "    plt.legend(bbox_to_anchor=(1.1, 1.1), loc = 'upper left', fontsize=13)\n",
    "    plt.xticks(x, fontsize=14)\n",
    "    plt.yticks(fontsize=14)\n",
    "    plt.xlabel('Round Number', fontsize = 15)\n",
    "    plt.title('Winning probabilities by all Teams & Rounds', pad = 20, fontsize = 24)\n",
    "    plt.tight_layout()\n",
    "    plt.show()\n",
    "    \n",
    "    return fig"
   ]
  },
  {
   "cell_type": "code",
   "execution_count": 48,
   "metadata": {},
   "outputs": [
    {
     "data": {
      "image/png": "[encoded data removed]",
      "text/plain": [
       "<Figure size 640x440 with 1 Axes>"
      ]
     },
     "metadata": {},
     "output_type": "display_data"
    }
   ],
   "source": [
    "# check that a team's wins should get less and less in later rounds\n",
    "fig = plotting(playoff.rounds)"
   ]
  },
  {
   "cell_type": "code",
   "execution_count": 49,
   "metadata": {},
   "outputs": [
    {
     "data": {
      "image/png": "[encoded data removed]",
      "text/plain": [
       "<Figure size 640x440 with 1 Axes>"
      ]
     },
     "metadata": {},
     "output_type": "display_data"
    }
   ],
   "source": [
    "# plot the results: probabilities of winning for all teams at each round\n",
    "fig = plotting(playoff.rounds_probs)"
   ]
  },
  {
   "cell_type": "code",
   "execution_count": null,
   "metadata": {},
   "outputs": [],
   "source": []
  }
 ],
 "metadata": {
  "interpreter": {
   "hash": "c0547785ecde31d30de7bdd91c2f6f8cc2815ed6bf5dfef2121b202953251c35"
  },
  "kernelspec": {
   "display_name": "Python 3.8.8 ('base')",
   "language": "python",
   "name": "python3"
  },
  "language_info": {
   "codemirror_mode": {
    "name": "ipython",
    "version": 3
   },
   "file_extension": ".py",
   "mimetype": "text/x-python",
   "name": "python",
   "nbconvert_exporter": "python",
   "pygments_lexer": "ipython3",
   "version": "3.8.8"
  },
  "orig_nbformat": 4
 },
 "nbformat": 4,
 "nbformat_minor": 2
}
